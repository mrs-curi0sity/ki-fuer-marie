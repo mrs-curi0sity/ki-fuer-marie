{
 "cells": [
  {
   "cell_type": "markdown",
   "metadata": {},
   "source": [
    "# Wie Netze Bilder verarbeiten (Convolution)"
   ]
  },
  {
   "cell_type": "code",
   "execution_count": 1,
   "metadata": {},
   "outputs": [
    {
     "data": {
      "application/vnd.plotly.v1+json": {
       "config": {
        "plotlyServerURL": "https://plot.ly"
       },
       "data": [
        {
         "colorscale": [
          [
           0,
           "rgb(0, 0, 0)"
          ],
          [
           0.09090909090909091,
           "rgb(16, 16, 16)"
          ],
          [
           0.18181818181818182,
           "rgb(38, 38, 38)"
          ],
          [
           0.2727272727272727,
           "rgb(59, 59, 59)"
          ],
          [
           0.36363636363636365,
           "rgb(81, 80, 80)"
          ],
          [
           0.45454545454545453,
           "rgb(102, 101, 101)"
          ],
          [
           0.5454545454545454,
           "rgb(124, 123, 122)"
          ],
          [
           0.6363636363636364,
           "rgb(146, 146, 145)"
          ],
          [
           0.7272727272727273,
           "rgb(171, 171, 170)"
          ],
          [
           0.8181818181818182,
           "rgb(197, 197, 195)"
          ],
          [
           0.9090909090909091,
           "rgb(224, 224, 223)"
          ],
          [
           1,
           "rgb(254, 254, 253)"
          ]
         ],
         "showscale": false,
         "text": [
          [
           1,
           1,
           1,
           1,
           0,
           0,
           0,
           0
          ],
          [
           1,
           1,
           1,
           1,
           0,
           0,
           0,
           0
          ],
          [
           1,
           1,
           1,
           1,
           0,
           0,
           0,
           0
          ],
          [
           1,
           1,
           1,
           1,
           0,
           0,
           0,
           0
          ],
          [
           1,
           1,
           1,
           1,
           0,
           0,
           0,
           0
          ],
          [
           1,
           1,
           1,
           1,
           0,
           0,
           0,
           0
          ],
          [
           1,
           1,
           1,
           1,
           0,
           0,
           0,
           0
          ],
          [
           1,
           1,
           1,
           1,
           0,
           0,
           0,
           0
          ]
         ],
         "textfont": {
          "size": 20
         },
         "texttemplate": "%{text}",
         "type": "heatmap",
         "xaxis": "x",
         "yaxis": "y",
         "z": [
          [
           1,
           1,
           1,
           1,
           0,
           0,
           0,
           0
          ],
          [
           1,
           1,
           1,
           1,
           0,
           0,
           0,
           0
          ],
          [
           1,
           1,
           1,
           1,
           0,
           0,
           0,
           0
          ],
          [
           1,
           1,
           1,
           1,
           0,
           0,
           0,
           0
          ],
          [
           1,
           1,
           1,
           1,
           0,
           0,
           0,
           0
          ],
          [
           1,
           1,
           1,
           1,
           0,
           0,
           0,
           0
          ],
          [
           1,
           1,
           1,
           1,
           0,
           0,
           0,
           0
          ],
          [
           1,
           1,
           1,
           1,
           0,
           0,
           0,
           0
          ]
         ]
        },
        {
         "line": {
          "color": "red",
          "width": 2
         },
         "mode": "lines",
         "showlegend": false,
         "type": "scatter",
         "x": [
          0.5,
          3.5,
          3.5,
          0.5,
          0.5
         ],
         "xaxis": "x",
         "y": [
          2.5,
          2.5,
          5.5,
          5.5,
          2.5
         ],
         "yaxis": "y"
        },
        {
         "colorscale": [
          [
           0,
           "rgb(103,0,31)"
          ],
          [
           0.1,
           "rgb(178,24,43)"
          ],
          [
           0.2,
           "rgb(214,96,77)"
          ],
          [
           0.3,
           "rgb(244,165,130)"
          ],
          [
           0.4,
           "rgb(253,219,199)"
          ],
          [
           0.5,
           "rgb(247,247,247)"
          ],
          [
           0.6,
           "rgb(209,229,240)"
          ],
          [
           0.7,
           "rgb(146,197,222)"
          ],
          [
           0.8,
           "rgb(67,147,195)"
          ],
          [
           0.9,
           "rgb(33,102,172)"
          ],
          [
           1,
           "rgb(5,48,97)"
          ]
         ],
         "showscale": false,
         "text": [
          [
           -1,
           0,
           1
          ],
          [
           -1,
           0,
           1
          ],
          [
           -1,
           0,
           1
          ]
         ],
         "textfont": {
          "size": 20
         },
         "texttemplate": "%{text}",
         "type": "heatmap",
         "xaxis": "x2",
         "yaxis": "y2",
         "z": [
          [
           -1,
           0,
           1
          ],
          [
           -1,
           0,
           1
          ],
          [
           -1,
           0,
           1
          ]
         ]
        },
        {
         "colorscale": [
          [
           0,
           "rgb(103,0,31)"
          ],
          [
           0.1,
           "rgb(178,24,43)"
          ],
          [
           0.2,
           "rgb(214,96,77)"
          ],
          [
           0.3,
           "rgb(244,165,130)"
          ],
          [
           0.4,
           "rgb(253,219,199)"
          ],
          [
           0.5,
           "rgb(247,247,247)"
          ],
          [
           0.6,
           "rgb(209,229,240)"
          ],
          [
           0.7,
           "rgb(146,197,222)"
          ],
          [
           0.8,
           "rgb(67,147,195)"
          ],
          [
           0.9,
           "rgb(33,102,172)"
          ],
          [
           1,
           "rgb(5,48,97)"
          ]
         ],
         "text": [
          [
           0,
           0,
           0,
           0,
           0,
           0,
           0,
           0
          ],
          [
           0,
           0,
           0,
           -3,
           -3,
           0,
           0,
           0
          ],
          [
           0,
           0,
           0,
           -3,
           -3,
           0,
           0,
           0
          ],
          [
           0,
           0,
           0,
           -3,
           -3,
           0,
           0,
           0
          ],
          [
           0,
           0,
           0,
           -3,
           -3,
           0,
           0,
           0
          ],
          [
           0,
           0,
           0,
           -3,
           -3,
           0,
           0,
           0
          ],
          [
           0,
           0,
           0,
           -3,
           -3,
           0,
           0,
           0
          ],
          [
           0,
           0,
           0,
           0,
           0,
           0,
           0,
           0
          ]
         ],
         "textfont": {
          "size": 20
         },
         "texttemplate": "%{text}",
         "type": "heatmap",
         "xaxis": "x3",
         "yaxis": "y3",
         "z": [
          [
           0,
           0,
           0,
           0,
           0,
           0,
           0,
           0
          ],
          [
           0,
           0,
           0,
           -3,
           -3,
           0,
           0,
           0
          ],
          [
           0,
           0,
           0,
           -3,
           -3,
           0,
           0,
           0
          ],
          [
           0,
           0,
           0,
           -3,
           -3,
           0,
           0,
           0
          ],
          [
           0,
           0,
           0,
           -3,
           -3,
           0,
           0,
           0
          ],
          [
           0,
           0,
           0,
           -3,
           -3,
           0,
           0,
           0
          ],
          [
           0,
           0,
           0,
           -3,
           -3,
           0,
           0,
           0
          ],
          [
           0,
           0,
           0,
           0,
           0,
           0,
           0,
           0
          ]
         ]
        }
       ],
       "layout": {
        "annotations": [
         {
          "font": {
           "size": 16
          },
          "showarrow": false,
          "text": "Eingabebild",
          "x": 0.14444444444444446,
          "xanchor": "center",
          "xref": "paper",
          "y": 1,
          "yanchor": "bottom",
          "yref": "paper"
         },
         {
          "font": {
           "size": 16
          },
          "showarrow": false,
          "text": "Filter",
          "x": 0.5,
          "xanchor": "center",
          "xref": "paper",
          "y": 1,
          "yanchor": "bottom",
          "yref": "paper"
         },
         {
          "font": {
           "size": 16
          },
          "showarrow": false,
          "text": "Ergebnisbild",
          "x": 0.8555555555555556,
          "xanchor": "center",
          "xref": "paper",
          "y": 1,
          "yanchor": "bottom",
          "yref": "paper"
         }
        ],
        "height": 400,
        "showlegend": false,
        "template": {
         "data": {
          "bar": [
           {
            "error_x": {
             "color": "#2a3f5f"
            },
            "error_y": {
             "color": "#2a3f5f"
            },
            "marker": {
             "line": {
              "color": "#E5ECF6",
              "width": 0.5
             },
             "pattern": {
              "fillmode": "overlay",
              "size": 10,
              "solidity": 0.2
             }
            },
            "type": "bar"
           }
          ],
          "barpolar": [
           {
            "marker": {
             "line": {
              "color": "#E5ECF6",
              "width": 0.5
             },
             "pattern": {
              "fillmode": "overlay",
              "size": 10,
              "solidity": 0.2
             }
            },
            "type": "barpolar"
           }
          ],
          "carpet": [
           {
            "aaxis": {
             "endlinecolor": "#2a3f5f",
             "gridcolor": "white",
             "linecolor": "white",
             "minorgridcolor": "white",
             "startlinecolor": "#2a3f5f"
            },
            "baxis": {
             "endlinecolor": "#2a3f5f",
             "gridcolor": "white",
             "linecolor": "white",
             "minorgridcolor": "white",
             "startlinecolor": "#2a3f5f"
            },
            "type": "carpet"
           }
          ],
          "choropleth": [
           {
            "colorbar": {
             "outlinewidth": 0,
             "ticks": ""
            },
            "type": "choropleth"
           }
          ],
          "contour": [
           {
            "colorbar": {
             "outlinewidth": 0,
             "ticks": ""
            },
            "colorscale": [
             [
              0,
              "#0d0887"
             ],
             [
              0.1111111111111111,
              "#46039f"
             ],
             [
              0.2222222222222222,
              "#7201a8"
             ],
             [
              0.3333333333333333,
              "#9c179e"
             ],
             [
              0.4444444444444444,
              "#bd3786"
             ],
             [
              0.5555555555555556,
              "#d8576b"
             ],
             [
              0.6666666666666666,
              "#ed7953"
             ],
             [
              0.7777777777777778,
              "#fb9f3a"
             ],
             [
              0.8888888888888888,
              "#fdca26"
             ],
             [
              1,
              "#f0f921"
             ]
            ],
            "type": "contour"
           }
          ],
          "contourcarpet": [
           {
            "colorbar": {
             "outlinewidth": 0,
             "ticks": ""
            },
            "type": "contourcarpet"
           }
          ],
          "heatmap": [
           {
            "colorbar": {
             "outlinewidth": 0,
             "ticks": ""
            },
            "colorscale": [
             [
              0,
              "#0d0887"
             ],
             [
              0.1111111111111111,
              "#46039f"
             ],
             [
              0.2222222222222222,
              "#7201a8"
             ],
             [
              0.3333333333333333,
              "#9c179e"
             ],
             [
              0.4444444444444444,
              "#bd3786"
             ],
             [
              0.5555555555555556,
              "#d8576b"
             ],
             [
              0.6666666666666666,
              "#ed7953"
             ],
             [
              0.7777777777777778,
              "#fb9f3a"
             ],
             [
              0.8888888888888888,
              "#fdca26"
             ],
             [
              1,
              "#f0f921"
             ]
            ],
            "type": "heatmap"
           }
          ],
          "heatmapgl": [
           {
            "colorbar": {
             "outlinewidth": 0,
             "ticks": ""
            },
            "colorscale": [
             [
              0,
              "#0d0887"
             ],
             [
              0.1111111111111111,
              "#46039f"
             ],
             [
              0.2222222222222222,
              "#7201a8"
             ],
             [
              0.3333333333333333,
              "#9c179e"
             ],
             [
              0.4444444444444444,
              "#bd3786"
             ],
             [
              0.5555555555555556,
              "#d8576b"
             ],
             [
              0.6666666666666666,
              "#ed7953"
             ],
             [
              0.7777777777777778,
              "#fb9f3a"
             ],
             [
              0.8888888888888888,
              "#fdca26"
             ],
             [
              1,
              "#f0f921"
             ]
            ],
            "type": "heatmapgl"
           }
          ],
          "histogram": [
           {
            "marker": {
             "pattern": {
              "fillmode": "overlay",
              "size": 10,
              "solidity": 0.2
             }
            },
            "type": "histogram"
           }
          ],
          "histogram2d": [
           {
            "colorbar": {
             "outlinewidth": 0,
             "ticks": ""
            },
            "colorscale": [
             [
              0,
              "#0d0887"
             ],
             [
              0.1111111111111111,
              "#46039f"
             ],
             [
              0.2222222222222222,
              "#7201a8"
             ],
             [
              0.3333333333333333,
              "#9c179e"
             ],
             [
              0.4444444444444444,
              "#bd3786"
             ],
             [
              0.5555555555555556,
              "#d8576b"
             ],
             [
              0.6666666666666666,
              "#ed7953"
             ],
             [
              0.7777777777777778,
              "#fb9f3a"
             ],
             [
              0.8888888888888888,
              "#fdca26"
             ],
             [
              1,
              "#f0f921"
             ]
            ],
            "type": "histogram2d"
           }
          ],
          "histogram2dcontour": [
           {
            "colorbar": {
             "outlinewidth": 0,
             "ticks": ""
            },
            "colorscale": [
             [
              0,
              "#0d0887"
             ],
             [
              0.1111111111111111,
              "#46039f"
             ],
             [
              0.2222222222222222,
              "#7201a8"
             ],
             [
              0.3333333333333333,
              "#9c179e"
             ],
             [
              0.4444444444444444,
              "#bd3786"
             ],
             [
              0.5555555555555556,
              "#d8576b"
             ],
             [
              0.6666666666666666,
              "#ed7953"
             ],
             [
              0.7777777777777778,
              "#fb9f3a"
             ],
             [
              0.8888888888888888,
              "#fdca26"
             ],
             [
              1,
              "#f0f921"
             ]
            ],
            "type": "histogram2dcontour"
           }
          ],
          "mesh3d": [
           {
            "colorbar": {
             "outlinewidth": 0,
             "ticks": ""
            },
            "type": "mesh3d"
           }
          ],
          "parcoords": [
           {
            "line": {
             "colorbar": {
              "outlinewidth": 0,
              "ticks": ""
             }
            },
            "type": "parcoords"
           }
          ],
          "pie": [
           {
            "automargin": true,
            "type": "pie"
           }
          ],
          "scatter": [
           {
            "fillpattern": {
             "fillmode": "overlay",
             "size": 10,
             "solidity": 0.2
            },
            "type": "scatter"
           }
          ],
          "scatter3d": [
           {
            "line": {
             "colorbar": {
              "outlinewidth": 0,
              "ticks": ""
             }
            },
            "marker": {
             "colorbar": {
              "outlinewidth": 0,
              "ticks": ""
             }
            },
            "type": "scatter3d"
           }
          ],
          "scattercarpet": [
           {
            "marker": {
             "colorbar": {
              "outlinewidth": 0,
              "ticks": ""
             }
            },
            "type": "scattercarpet"
           }
          ],
          "scattergeo": [
           {
            "marker": {
             "colorbar": {
              "outlinewidth": 0,
              "ticks": ""
             }
            },
            "type": "scattergeo"
           }
          ],
          "scattergl": [
           {
            "marker": {
             "colorbar": {
              "outlinewidth": 0,
              "ticks": ""
             }
            },
            "type": "scattergl"
           }
          ],
          "scattermapbox": [
           {
            "marker": {
             "colorbar": {
              "outlinewidth": 0,
              "ticks": ""
             }
            },
            "type": "scattermapbox"
           }
          ],
          "scatterpolar": [
           {
            "marker": {
             "colorbar": {
              "outlinewidth": 0,
              "ticks": ""
             }
            },
            "type": "scatterpolar"
           }
          ],
          "scatterpolargl": [
           {
            "marker": {
             "colorbar": {
              "outlinewidth": 0,
              "ticks": ""
             }
            },
            "type": "scatterpolargl"
           }
          ],
          "scatterternary": [
           {
            "marker": {
             "colorbar": {
              "outlinewidth": 0,
              "ticks": ""
             }
            },
            "type": "scatterternary"
           }
          ],
          "surface": [
           {
            "colorbar": {
             "outlinewidth": 0,
             "ticks": ""
            },
            "colorscale": [
             [
              0,
              "#0d0887"
             ],
             [
              0.1111111111111111,
              "#46039f"
             ],
             [
              0.2222222222222222,
              "#7201a8"
             ],
             [
              0.3333333333333333,
              "#9c179e"
             ],
             [
              0.4444444444444444,
              "#bd3786"
             ],
             [
              0.5555555555555556,
              "#d8576b"
             ],
             [
              0.6666666666666666,
              "#ed7953"
             ],
             [
              0.7777777777777778,
              "#fb9f3a"
             ],
             [
              0.8888888888888888,
              "#fdca26"
             ],
             [
              1,
              "#f0f921"
             ]
            ],
            "type": "surface"
           }
          ],
          "table": [
           {
            "cells": {
             "fill": {
              "color": "#EBF0F8"
             },
             "line": {
              "color": "white"
             }
            },
            "header": {
             "fill": {
              "color": "#C8D4E3"
             },
             "line": {
              "color": "white"
             }
            },
            "type": "table"
           }
          ]
         },
         "layout": {
          "annotationdefaults": {
           "arrowcolor": "#2a3f5f",
           "arrowhead": 0,
           "arrowwidth": 1
          },
          "autotypenumbers": "strict",
          "coloraxis": {
           "colorbar": {
            "outlinewidth": 0,
            "ticks": ""
           }
          },
          "colorscale": {
           "diverging": [
            [
             0,
             "#8e0152"
            ],
            [
             0.1,
             "#c51b7d"
            ],
            [
             0.2,
             "#de77ae"
            ],
            [
             0.3,
             "#f1b6da"
            ],
            [
             0.4,
             "#fde0ef"
            ],
            [
             0.5,
             "#f7f7f7"
            ],
            [
             0.6,
             "#e6f5d0"
            ],
            [
             0.7,
             "#b8e186"
            ],
            [
             0.8,
             "#7fbc41"
            ],
            [
             0.9,
             "#4d9221"
            ],
            [
             1,
             "#276419"
            ]
           ],
           "sequential": [
            [
             0,
             "#0d0887"
            ],
            [
             0.1111111111111111,
             "#46039f"
            ],
            [
             0.2222222222222222,
             "#7201a8"
            ],
            [
             0.3333333333333333,
             "#9c179e"
            ],
            [
             0.4444444444444444,
             "#bd3786"
            ],
            [
             0.5555555555555556,
             "#d8576b"
            ],
            [
             0.6666666666666666,
             "#ed7953"
            ],
            [
             0.7777777777777778,
             "#fb9f3a"
            ],
            [
             0.8888888888888888,
             "#fdca26"
            ],
            [
             1,
             "#f0f921"
            ]
           ],
           "sequentialminus": [
            [
             0,
             "#0d0887"
            ],
            [
             0.1111111111111111,
             "#46039f"
            ],
            [
             0.2222222222222222,
             "#7201a8"
            ],
            [
             0.3333333333333333,
             "#9c179e"
            ],
            [
             0.4444444444444444,
             "#bd3786"
            ],
            [
             0.5555555555555556,
             "#d8576b"
            ],
            [
             0.6666666666666666,
             "#ed7953"
            ],
            [
             0.7777777777777778,
             "#fb9f3a"
            ],
            [
             0.8888888888888888,
             "#fdca26"
            ],
            [
             1,
             "#f0f921"
            ]
           ]
          },
          "colorway": [
           "#636efa",
           "#EF553B",
           "#00cc96",
           "#ab63fa",
           "#FFA15A",
           "#19d3f3",
           "#FF6692",
           "#B6E880",
           "#FF97FF",
           "#FECB52"
          ],
          "font": {
           "color": "#2a3f5f"
          },
          "geo": {
           "bgcolor": "white",
           "lakecolor": "white",
           "landcolor": "#E5ECF6",
           "showlakes": true,
           "showland": true,
           "subunitcolor": "white"
          },
          "hoverlabel": {
           "align": "left"
          },
          "hovermode": "closest",
          "mapbox": {
           "style": "light"
          },
          "paper_bgcolor": "white",
          "plot_bgcolor": "#E5ECF6",
          "polar": {
           "angularaxis": {
            "gridcolor": "white",
            "linecolor": "white",
            "ticks": ""
           },
           "bgcolor": "#E5ECF6",
           "radialaxis": {
            "gridcolor": "white",
            "linecolor": "white",
            "ticks": ""
           }
          },
          "scene": {
           "xaxis": {
            "backgroundcolor": "#E5ECF6",
            "gridcolor": "white",
            "gridwidth": 2,
            "linecolor": "white",
            "showbackground": true,
            "ticks": "",
            "zerolinecolor": "white"
           },
           "yaxis": {
            "backgroundcolor": "#E5ECF6",
            "gridcolor": "white",
            "gridwidth": 2,
            "linecolor": "white",
            "showbackground": true,
            "ticks": "",
            "zerolinecolor": "white"
           },
           "zaxis": {
            "backgroundcolor": "#E5ECF6",
            "gridcolor": "white",
            "gridwidth": 2,
            "linecolor": "white",
            "showbackground": true,
            "ticks": "",
            "zerolinecolor": "white"
           }
          },
          "shapedefaults": {
           "line": {
            "color": "#2a3f5f"
           }
          },
          "ternary": {
           "aaxis": {
            "gridcolor": "white",
            "linecolor": "white",
            "ticks": ""
           },
           "baxis": {
            "gridcolor": "white",
            "linecolor": "white",
            "ticks": ""
           },
           "bgcolor": "#E5ECF6",
           "caxis": {
            "gridcolor": "white",
            "linecolor": "white",
            "ticks": ""
           }
          },
          "title": {
           "x": 0.05
          },
          "xaxis": {
           "automargin": true,
           "gridcolor": "white",
           "linecolor": "white",
           "ticks": "",
           "title": {
            "standoff": 15
           },
           "zerolinecolor": "white",
           "zerolinewidth": 2
          },
          "yaxis": {
           "automargin": true,
           "gridcolor": "white",
           "linecolor": "white",
           "ticks": "",
           "title": {
            "standoff": 15
           },
           "zerolinecolor": "white",
           "zerolinewidth": 2
          }
         }
        },
        "title": {
         "text": "Convolution Demonstration (Position: 4, 2)"
        },
        "width": 1200,
        "xaxis": {
         "anchor": "y",
         "domain": [
          0,
          0.2888888888888889
         ],
         "showgrid": false,
         "showticklabels": false,
         "zeroline": false
        },
        "xaxis2": {
         "anchor": "y2",
         "domain": [
          0.35555555555555557,
          0.6444444444444445
         ],
         "showgrid": false,
         "showticklabels": false,
         "zeroline": false
        },
        "xaxis3": {
         "anchor": "y3",
         "domain": [
          0.7111111111111111,
          1
         ],
         "showgrid": false,
         "showticklabels": false,
         "zeroline": false
        },
        "yaxis": {
         "anchor": "x",
         "domain": [
          0,
          1
         ],
         "showgrid": false,
         "showticklabels": false,
         "zeroline": false
        },
        "yaxis2": {
         "anchor": "x2",
         "domain": [
          0,
          1
         ],
         "showgrid": false,
         "showticklabels": false,
         "zeroline": false
        },
        "yaxis3": {
         "anchor": "x3",
         "domain": [
          0,
          1
         ],
         "showgrid": false,
         "showticklabels": false,
         "zeroline": false
        }
       }
      }
     },
     "metadata": {},
     "output_type": "display_data"
    },
    {
     "data": {
      "application/vnd.plotly.v1+json": {
       "config": {
        "plotlyServerURL": "https://plot.ly"
       },
       "data": [
        {
         "colorscale": [
          [
           0,
           "rgb(0, 0, 0)"
          ],
          [
           0.09090909090909091,
           "rgb(16, 16, 16)"
          ],
          [
           0.18181818181818182,
           "rgb(38, 38, 38)"
          ],
          [
           0.2727272727272727,
           "rgb(59, 59, 59)"
          ],
          [
           0.36363636363636365,
           "rgb(81, 80, 80)"
          ],
          [
           0.45454545454545453,
           "rgb(102, 101, 101)"
          ],
          [
           0.5454545454545454,
           "rgb(124, 123, 122)"
          ],
          [
           0.6363636363636364,
           "rgb(146, 146, 145)"
          ],
          [
           0.7272727272727273,
           "rgb(171, 171, 170)"
          ],
          [
           0.8181818181818182,
           "rgb(197, 197, 195)"
          ],
          [
           0.9090909090909091,
           "rgb(224, 224, 223)"
          ],
          [
           1,
           "rgb(254, 254, 253)"
          ]
         ],
         "showscale": false,
         "text": [
          [
           1,
           1,
           1,
           1,
           0,
           0,
           0,
           0
          ],
          [
           1,
           1,
           1,
           1,
           0,
           0,
           0,
           0
          ],
          [
           1,
           1,
           1,
           1,
           0,
           0,
           0,
           0
          ],
          [
           1,
           1,
           1,
           1,
           0,
           0,
           0,
           0
          ],
          [
           1,
           1,
           1,
           1,
           0,
           0,
           0,
           0
          ],
          [
           1,
           1,
           1,
           1,
           0,
           0,
           0,
           0
          ],
          [
           1,
           1,
           1,
           1,
           0,
           0,
           0,
           0
          ],
          [
           1,
           1,
           1,
           1,
           0,
           0,
           0,
           0
          ]
         ],
         "textfont": {
          "size": 20
         },
         "texttemplate": "%{text}",
         "type": "heatmap",
         "xaxis": "x",
         "yaxis": "y",
         "z": [
          [
           1,
           1,
           1,
           1,
           0,
           0,
           0,
           0
          ],
          [
           1,
           1,
           1,
           1,
           0,
           0,
           0,
           0
          ],
          [
           1,
           1,
           1,
           1,
           0,
           0,
           0,
           0
          ],
          [
           1,
           1,
           1,
           1,
           0,
           0,
           0,
           0
          ],
          [
           1,
           1,
           1,
           1,
           0,
           0,
           0,
           0
          ],
          [
           1,
           1,
           1,
           1,
           0,
           0,
           0,
           0
          ],
          [
           1,
           1,
           1,
           1,
           0,
           0,
           0,
           0
          ],
          [
           1,
           1,
           1,
           1,
           0,
           0,
           0,
           0
          ]
         ]
        },
        {
         "line": {
          "color": "red",
          "width": 2
         },
         "mode": "lines",
         "showlegend": false,
         "type": "scatter",
         "x": [
          1.5,
          4.5,
          4.5,
          1.5,
          1.5
         ],
         "xaxis": "x",
         "y": [
          2.5,
          2.5,
          5.5,
          5.5,
          2.5
         ],
         "yaxis": "y"
        },
        {
         "colorscale": [
          [
           0,
           "rgb(103,0,31)"
          ],
          [
           0.1,
           "rgb(178,24,43)"
          ],
          [
           0.2,
           "rgb(214,96,77)"
          ],
          [
           0.3,
           "rgb(244,165,130)"
          ],
          [
           0.4,
           "rgb(253,219,199)"
          ],
          [
           0.5,
           "rgb(247,247,247)"
          ],
          [
           0.6,
           "rgb(209,229,240)"
          ],
          [
           0.7,
           "rgb(146,197,222)"
          ],
          [
           0.8,
           "rgb(67,147,195)"
          ],
          [
           0.9,
           "rgb(33,102,172)"
          ],
          [
           1,
           "rgb(5,48,97)"
          ]
         ],
         "showscale": false,
         "text": [
          [
           -1,
           0,
           1
          ],
          [
           -1,
           0,
           1
          ],
          [
           -1,
           0,
           1
          ]
         ],
         "textfont": {
          "size": 20
         },
         "texttemplate": "%{text}",
         "type": "heatmap",
         "xaxis": "x2",
         "yaxis": "y2",
         "z": [
          [
           -1,
           0,
           1
          ],
          [
           -1,
           0,
           1
          ],
          [
           -1,
           0,
           1
          ]
         ]
        },
        {
         "colorscale": [
          [
           0,
           "rgb(103,0,31)"
          ],
          [
           0.1,
           "rgb(178,24,43)"
          ],
          [
           0.2,
           "rgb(214,96,77)"
          ],
          [
           0.3,
           "rgb(244,165,130)"
          ],
          [
           0.4,
           "rgb(253,219,199)"
          ],
          [
           0.5,
           "rgb(247,247,247)"
          ],
          [
           0.6,
           "rgb(209,229,240)"
          ],
          [
           0.7,
           "rgb(146,197,222)"
          ],
          [
           0.8,
           "rgb(67,147,195)"
          ],
          [
           0.9,
           "rgb(33,102,172)"
          ],
          [
           1,
           "rgb(5,48,97)"
          ]
         ],
         "text": [
          [
           0,
           0,
           0,
           0,
           0,
           0,
           0,
           0
          ],
          [
           0,
           0,
           0,
           -3,
           -3,
           0,
           0,
           0
          ],
          [
           0,
           0,
           0,
           -3,
           -3,
           0,
           0,
           0
          ],
          [
           0,
           0,
           0,
           -3,
           -3,
           0,
           0,
           0
          ],
          [
           0,
           0,
           0,
           -3,
           -3,
           0,
           0,
           0
          ],
          [
           0,
           0,
           0,
           -3,
           -3,
           0,
           0,
           0
          ],
          [
           0,
           0,
           0,
           -3,
           -3,
           0,
           0,
           0
          ],
          [
           0,
           0,
           0,
           0,
           0,
           0,
           0,
           0
          ]
         ],
         "textfont": {
          "size": 20
         },
         "texttemplate": "%{text}",
         "type": "heatmap",
         "xaxis": "x3",
         "yaxis": "y3",
         "z": [
          [
           0,
           0,
           0,
           0,
           0,
           0,
           0,
           0
          ],
          [
           0,
           0,
           0,
           -3,
           -3,
           0,
           0,
           0
          ],
          [
           0,
           0,
           0,
           -3,
           -3,
           0,
           0,
           0
          ],
          [
           0,
           0,
           0,
           -3,
           -3,
           0,
           0,
           0
          ],
          [
           0,
           0,
           0,
           -3,
           -3,
           0,
           0,
           0
          ],
          [
           0,
           0,
           0,
           -3,
           -3,
           0,
           0,
           0
          ],
          [
           0,
           0,
           0,
           -3,
           -3,
           0,
           0,
           0
          ],
          [
           0,
           0,
           0,
           0,
           0,
           0,
           0,
           0
          ]
         ]
        }
       ],
       "layout": {
        "annotations": [
         {
          "font": {
           "size": 16
          },
          "showarrow": false,
          "text": "Eingabebild",
          "x": 0.14444444444444446,
          "xanchor": "center",
          "xref": "paper",
          "y": 1,
          "yanchor": "bottom",
          "yref": "paper"
         },
         {
          "font": {
           "size": 16
          },
          "showarrow": false,
          "text": "Filter",
          "x": 0.5,
          "xanchor": "center",
          "xref": "paper",
          "y": 1,
          "yanchor": "bottom",
          "yref": "paper"
         },
         {
          "font": {
           "size": 16
          },
          "showarrow": false,
          "text": "Ergebnisbild",
          "x": 0.8555555555555556,
          "xanchor": "center",
          "xref": "paper",
          "y": 1,
          "yanchor": "bottom",
          "yref": "paper"
         }
        ],
        "height": 400,
        "showlegend": false,
        "template": {
         "data": {
          "bar": [
           {
            "error_x": {
             "color": "#2a3f5f"
            },
            "error_y": {
             "color": "#2a3f5f"
            },
            "marker": {
             "line": {
              "color": "#E5ECF6",
              "width": 0.5
             },
             "pattern": {
              "fillmode": "overlay",
              "size": 10,
              "solidity": 0.2
             }
            },
            "type": "bar"
           }
          ],
          "barpolar": [
           {
            "marker": {
             "line": {
              "color": "#E5ECF6",
              "width": 0.5
             },
             "pattern": {
              "fillmode": "overlay",
              "size": 10,
              "solidity": 0.2
             }
            },
            "type": "barpolar"
           }
          ],
          "carpet": [
           {
            "aaxis": {
             "endlinecolor": "#2a3f5f",
             "gridcolor": "white",
             "linecolor": "white",
             "minorgridcolor": "white",
             "startlinecolor": "#2a3f5f"
            },
            "baxis": {
             "endlinecolor": "#2a3f5f",
             "gridcolor": "white",
             "linecolor": "white",
             "minorgridcolor": "white",
             "startlinecolor": "#2a3f5f"
            },
            "type": "carpet"
           }
          ],
          "choropleth": [
           {
            "colorbar": {
             "outlinewidth": 0,
             "ticks": ""
            },
            "type": "choropleth"
           }
          ],
          "contour": [
           {
            "colorbar": {
             "outlinewidth": 0,
             "ticks": ""
            },
            "colorscale": [
             [
              0,
              "#0d0887"
             ],
             [
              0.1111111111111111,
              "#46039f"
             ],
             [
              0.2222222222222222,
              "#7201a8"
             ],
             [
              0.3333333333333333,
              "#9c179e"
             ],
             [
              0.4444444444444444,
              "#bd3786"
             ],
             [
              0.5555555555555556,
              "#d8576b"
             ],
             [
              0.6666666666666666,
              "#ed7953"
             ],
             [
              0.7777777777777778,
              "#fb9f3a"
             ],
             [
              0.8888888888888888,
              "#fdca26"
             ],
             [
              1,
              "#f0f921"
             ]
            ],
            "type": "contour"
           }
          ],
          "contourcarpet": [
           {
            "colorbar": {
             "outlinewidth": 0,
             "ticks": ""
            },
            "type": "contourcarpet"
           }
          ],
          "heatmap": [
           {
            "colorbar": {
             "outlinewidth": 0,
             "ticks": ""
            },
            "colorscale": [
             [
              0,
              "#0d0887"
             ],
             [
              0.1111111111111111,
              "#46039f"
             ],
             [
              0.2222222222222222,
              "#7201a8"
             ],
             [
              0.3333333333333333,
              "#9c179e"
             ],
             [
              0.4444444444444444,
              "#bd3786"
             ],
             [
              0.5555555555555556,
              "#d8576b"
             ],
             [
              0.6666666666666666,
              "#ed7953"
             ],
             [
              0.7777777777777778,
              "#fb9f3a"
             ],
             [
              0.8888888888888888,
              "#fdca26"
             ],
             [
              1,
              "#f0f921"
             ]
            ],
            "type": "heatmap"
           }
          ],
          "heatmapgl": [
           {
            "colorbar": {
             "outlinewidth": 0,
             "ticks": ""
            },
            "colorscale": [
             [
              0,
              "#0d0887"
             ],
             [
              0.1111111111111111,
              "#46039f"
             ],
             [
              0.2222222222222222,
              "#7201a8"
             ],
             [
              0.3333333333333333,
              "#9c179e"
             ],
             [
              0.4444444444444444,
              "#bd3786"
             ],
             [
              0.5555555555555556,
              "#d8576b"
             ],
             [
              0.6666666666666666,
              "#ed7953"
             ],
             [
              0.7777777777777778,
              "#fb9f3a"
             ],
             [
              0.8888888888888888,
              "#fdca26"
             ],
             [
              1,
              "#f0f921"
             ]
            ],
            "type": "heatmapgl"
           }
          ],
          "histogram": [
           {
            "marker": {
             "pattern": {
              "fillmode": "overlay",
              "size": 10,
              "solidity": 0.2
             }
            },
            "type": "histogram"
           }
          ],
          "histogram2d": [
           {
            "colorbar": {
             "outlinewidth": 0,
             "ticks": ""
            },
            "colorscale": [
             [
              0,
              "#0d0887"
             ],
             [
              0.1111111111111111,
              "#46039f"
             ],
             [
              0.2222222222222222,
              "#7201a8"
             ],
             [
              0.3333333333333333,
              "#9c179e"
             ],
             [
              0.4444444444444444,
              "#bd3786"
             ],
             [
              0.5555555555555556,
              "#d8576b"
             ],
             [
              0.6666666666666666,
              "#ed7953"
             ],
             [
              0.7777777777777778,
              "#fb9f3a"
             ],
             [
              0.8888888888888888,
              "#fdca26"
             ],
             [
              1,
              "#f0f921"
             ]
            ],
            "type": "histogram2d"
           }
          ],
          "histogram2dcontour": [
           {
            "colorbar": {
             "outlinewidth": 0,
             "ticks": ""
            },
            "colorscale": [
             [
              0,
              "#0d0887"
             ],
             [
              0.1111111111111111,
              "#46039f"
             ],
             [
              0.2222222222222222,
              "#7201a8"
             ],
             [
              0.3333333333333333,
              "#9c179e"
             ],
             [
              0.4444444444444444,
              "#bd3786"
             ],
             [
              0.5555555555555556,
              "#d8576b"
             ],
             [
              0.6666666666666666,
              "#ed7953"
             ],
             [
              0.7777777777777778,
              "#fb9f3a"
             ],
             [
              0.8888888888888888,
              "#fdca26"
             ],
             [
              1,
              "#f0f921"
             ]
            ],
            "type": "histogram2dcontour"
           }
          ],
          "mesh3d": [
           {
            "colorbar": {
             "outlinewidth": 0,
             "ticks": ""
            },
            "type": "mesh3d"
           }
          ],
          "parcoords": [
           {
            "line": {
             "colorbar": {
              "outlinewidth": 0,
              "ticks": ""
             }
            },
            "type": "parcoords"
           }
          ],
          "pie": [
           {
            "automargin": true,
            "type": "pie"
           }
          ],
          "scatter": [
           {
            "fillpattern": {
             "fillmode": "overlay",
             "size": 10,
             "solidity": 0.2
            },
            "type": "scatter"
           }
          ],
          "scatter3d": [
           {
            "line": {
             "colorbar": {
              "outlinewidth": 0,
              "ticks": ""
             }
            },
            "marker": {
             "colorbar": {
              "outlinewidth": 0,
              "ticks": ""
             }
            },
            "type": "scatter3d"
           }
          ],
          "scattercarpet": [
           {
            "marker": {
             "colorbar": {
              "outlinewidth": 0,
              "ticks": ""
             }
            },
            "type": "scattercarpet"
           }
          ],
          "scattergeo": [
           {
            "marker": {
             "colorbar": {
              "outlinewidth": 0,
              "ticks": ""
             }
            },
            "type": "scattergeo"
           }
          ],
          "scattergl": [
           {
            "marker": {
             "colorbar": {
              "outlinewidth": 0,
              "ticks": ""
             }
            },
            "type": "scattergl"
           }
          ],
          "scattermapbox": [
           {
            "marker": {
             "colorbar": {
              "outlinewidth": 0,
              "ticks": ""
             }
            },
            "type": "scattermapbox"
           }
          ],
          "scatterpolar": [
           {
            "marker": {
             "colorbar": {
              "outlinewidth": 0,
              "ticks": ""
             }
            },
            "type": "scatterpolar"
           }
          ],
          "scatterpolargl": [
           {
            "marker": {
             "colorbar": {
              "outlinewidth": 0,
              "ticks": ""
             }
            },
            "type": "scatterpolargl"
           }
          ],
          "scatterternary": [
           {
            "marker": {
             "colorbar": {
              "outlinewidth": 0,
              "ticks": ""
             }
            },
            "type": "scatterternary"
           }
          ],
          "surface": [
           {
            "colorbar": {
             "outlinewidth": 0,
             "ticks": ""
            },
            "colorscale": [
             [
              0,
              "#0d0887"
             ],
             [
              0.1111111111111111,
              "#46039f"
             ],
             [
              0.2222222222222222,
              "#7201a8"
             ],
             [
              0.3333333333333333,
              "#9c179e"
             ],
             [
              0.4444444444444444,
              "#bd3786"
             ],
             [
              0.5555555555555556,
              "#d8576b"
             ],
             [
              0.6666666666666666,
              "#ed7953"
             ],
             [
              0.7777777777777778,
              "#fb9f3a"
             ],
             [
              0.8888888888888888,
              "#fdca26"
             ],
             [
              1,
              "#f0f921"
             ]
            ],
            "type": "surface"
           }
          ],
          "table": [
           {
            "cells": {
             "fill": {
              "color": "#EBF0F8"
             },
             "line": {
              "color": "white"
             }
            },
            "header": {
             "fill": {
              "color": "#C8D4E3"
             },
             "line": {
              "color": "white"
             }
            },
            "type": "table"
           }
          ]
         },
         "layout": {
          "annotationdefaults": {
           "arrowcolor": "#2a3f5f",
           "arrowhead": 0,
           "arrowwidth": 1
          },
          "autotypenumbers": "strict",
          "coloraxis": {
           "colorbar": {
            "outlinewidth": 0,
            "ticks": ""
           }
          },
          "colorscale": {
           "diverging": [
            [
             0,
             "#8e0152"
            ],
            [
             0.1,
             "#c51b7d"
            ],
            [
             0.2,
             "#de77ae"
            ],
            [
             0.3,
             "#f1b6da"
            ],
            [
             0.4,
             "#fde0ef"
            ],
            [
             0.5,
             "#f7f7f7"
            ],
            [
             0.6,
             "#e6f5d0"
            ],
            [
             0.7,
             "#b8e186"
            ],
            [
             0.8,
             "#7fbc41"
            ],
            [
             0.9,
             "#4d9221"
            ],
            [
             1,
             "#276419"
            ]
           ],
           "sequential": [
            [
             0,
             "#0d0887"
            ],
            [
             0.1111111111111111,
             "#46039f"
            ],
            [
             0.2222222222222222,
             "#7201a8"
            ],
            [
             0.3333333333333333,
             "#9c179e"
            ],
            [
             0.4444444444444444,
             "#bd3786"
            ],
            [
             0.5555555555555556,
             "#d8576b"
            ],
            [
             0.6666666666666666,
             "#ed7953"
            ],
            [
             0.7777777777777778,
             "#fb9f3a"
            ],
            [
             0.8888888888888888,
             "#fdca26"
            ],
            [
             1,
             "#f0f921"
            ]
           ],
           "sequentialminus": [
            [
             0,
             "#0d0887"
            ],
            [
             0.1111111111111111,
             "#46039f"
            ],
            [
             0.2222222222222222,
             "#7201a8"
            ],
            [
             0.3333333333333333,
             "#9c179e"
            ],
            [
             0.4444444444444444,
             "#bd3786"
            ],
            [
             0.5555555555555556,
             "#d8576b"
            ],
            [
             0.6666666666666666,
             "#ed7953"
            ],
            [
             0.7777777777777778,
             "#fb9f3a"
            ],
            [
             0.8888888888888888,
             "#fdca26"
            ],
            [
             1,
             "#f0f921"
            ]
           ]
          },
          "colorway": [
           "#636efa",
           "#EF553B",
           "#00cc96",
           "#ab63fa",
           "#FFA15A",
           "#19d3f3",
           "#FF6692",
           "#B6E880",
           "#FF97FF",
           "#FECB52"
          ],
          "font": {
           "color": "#2a3f5f"
          },
          "geo": {
           "bgcolor": "white",
           "lakecolor": "white",
           "landcolor": "#E5ECF6",
           "showlakes": true,
           "showland": true,
           "subunitcolor": "white"
          },
          "hoverlabel": {
           "align": "left"
          },
          "hovermode": "closest",
          "mapbox": {
           "style": "light"
          },
          "paper_bgcolor": "white",
          "plot_bgcolor": "#E5ECF6",
          "polar": {
           "angularaxis": {
            "gridcolor": "white",
            "linecolor": "white",
            "ticks": ""
           },
           "bgcolor": "#E5ECF6",
           "radialaxis": {
            "gridcolor": "white",
            "linecolor": "white",
            "ticks": ""
           }
          },
          "scene": {
           "xaxis": {
            "backgroundcolor": "#E5ECF6",
            "gridcolor": "white",
            "gridwidth": 2,
            "linecolor": "white",
            "showbackground": true,
            "ticks": "",
            "zerolinecolor": "white"
           },
           "yaxis": {
            "backgroundcolor": "#E5ECF6",
            "gridcolor": "white",
            "gridwidth": 2,
            "linecolor": "white",
            "showbackground": true,
            "ticks": "",
            "zerolinecolor": "white"
           },
           "zaxis": {
            "backgroundcolor": "#E5ECF6",
            "gridcolor": "white",
            "gridwidth": 2,
            "linecolor": "white",
            "showbackground": true,
            "ticks": "",
            "zerolinecolor": "white"
           }
          },
          "shapedefaults": {
           "line": {
            "color": "#2a3f5f"
           }
          },
          "ternary": {
           "aaxis": {
            "gridcolor": "white",
            "linecolor": "white",
            "ticks": ""
           },
           "baxis": {
            "gridcolor": "white",
            "linecolor": "white",
            "ticks": ""
           },
           "bgcolor": "#E5ECF6",
           "caxis": {
            "gridcolor": "white",
            "linecolor": "white",
            "ticks": ""
           }
          },
          "title": {
           "x": 0.05
          },
          "xaxis": {
           "automargin": true,
           "gridcolor": "white",
           "linecolor": "white",
           "ticks": "",
           "title": {
            "standoff": 15
           },
           "zerolinecolor": "white",
           "zerolinewidth": 2
          },
          "yaxis": {
           "automargin": true,
           "gridcolor": "white",
           "linecolor": "white",
           "ticks": "",
           "title": {
            "standoff": 15
           },
           "zerolinecolor": "white",
           "zerolinewidth": 2
          }
         }
        },
        "title": {
         "text": "Convolution Demonstration (Position: 4, 3)"
        },
        "width": 1200,
        "xaxis": {
         "anchor": "y",
         "domain": [
          0,
          0.2888888888888889
         ],
         "showgrid": false,
         "showticklabels": false,
         "zeroline": false
        },
        "xaxis2": {
         "anchor": "y2",
         "domain": [
          0.35555555555555557,
          0.6444444444444445
         ],
         "showgrid": false,
         "showticklabels": false,
         "zeroline": false
        },
        "xaxis3": {
         "anchor": "y3",
         "domain": [
          0.7111111111111111,
          1
         ],
         "showgrid": false,
         "showticklabels": false,
         "zeroline": false
        },
        "yaxis": {
         "anchor": "x",
         "domain": [
          0,
          1
         ],
         "showgrid": false,
         "showticklabels": false,
         "zeroline": false
        },
        "yaxis2": {
         "anchor": "x2",
         "domain": [
          0,
          1
         ],
         "showgrid": false,
         "showticklabels": false,
         "zeroline": false
        },
        "yaxis3": {
         "anchor": "x3",
         "domain": [
          0,
          1
         ],
         "showgrid": false,
         "showticklabels": false,
         "zeroline": false
        }
       }
      }
     },
     "metadata": {},
     "output_type": "display_data"
    },
    {
     "data": {
      "application/vnd.plotly.v1+json": {
       "config": {
        "plotlyServerURL": "https://plot.ly"
       },
       "data": [
        {
         "colorscale": [
          [
           0,
           "rgb(0, 0, 0)"
          ],
          [
           0.09090909090909091,
           "rgb(16, 16, 16)"
          ],
          [
           0.18181818181818182,
           "rgb(38, 38, 38)"
          ],
          [
           0.2727272727272727,
           "rgb(59, 59, 59)"
          ],
          [
           0.36363636363636365,
           "rgb(81, 80, 80)"
          ],
          [
           0.45454545454545453,
           "rgb(102, 101, 101)"
          ],
          [
           0.5454545454545454,
           "rgb(124, 123, 122)"
          ],
          [
           0.6363636363636364,
           "rgb(146, 146, 145)"
          ],
          [
           0.7272727272727273,
           "rgb(171, 171, 170)"
          ],
          [
           0.8181818181818182,
           "rgb(197, 197, 195)"
          ],
          [
           0.9090909090909091,
           "rgb(224, 224, 223)"
          ],
          [
           1,
           "rgb(254, 254, 253)"
          ]
         ],
         "showscale": false,
         "text": [
          [
           1,
           1,
           1,
           1,
           0,
           0,
           0,
           0
          ],
          [
           1,
           1,
           1,
           1,
           0,
           0,
           0,
           0
          ],
          [
           1,
           1,
           1,
           1,
           0,
           0,
           0,
           0
          ],
          [
           1,
           1,
           1,
           1,
           0,
           0,
           0,
           0
          ],
          [
           1,
           1,
           1,
           1,
           0,
           0,
           0,
           0
          ],
          [
           1,
           1,
           1,
           1,
           0,
           0,
           0,
           0
          ],
          [
           1,
           1,
           1,
           1,
           0,
           0,
           0,
           0
          ],
          [
           1,
           1,
           1,
           1,
           0,
           0,
           0,
           0
          ]
         ],
         "textfont": {
          "size": 20
         },
         "texttemplate": "%{text}",
         "type": "heatmap",
         "xaxis": "x",
         "yaxis": "y",
         "z": [
          [
           1,
           1,
           1,
           1,
           0,
           0,
           0,
           0
          ],
          [
           1,
           1,
           1,
           1,
           0,
           0,
           0,
           0
          ],
          [
           1,
           1,
           1,
           1,
           0,
           0,
           0,
           0
          ],
          [
           1,
           1,
           1,
           1,
           0,
           0,
           0,
           0
          ],
          [
           1,
           1,
           1,
           1,
           0,
           0,
           0,
           0
          ],
          [
           1,
           1,
           1,
           1,
           0,
           0,
           0,
           0
          ],
          [
           1,
           1,
           1,
           1,
           0,
           0,
           0,
           0
          ],
          [
           1,
           1,
           1,
           1,
           0,
           0,
           0,
           0
          ]
         ]
        },
        {
         "line": {
          "color": "red",
          "width": 2
         },
         "mode": "lines",
         "showlegend": false,
         "type": "scatter",
         "x": [
          2.5,
          5.5,
          5.5,
          2.5,
          2.5
         ],
         "xaxis": "x",
         "y": [
          2.5,
          2.5,
          5.5,
          5.5,
          2.5
         ],
         "yaxis": "y"
        },
        {
         "colorscale": [
          [
           0,
           "rgb(103,0,31)"
          ],
          [
           0.1,
           "rgb(178,24,43)"
          ],
          [
           0.2,
           "rgb(214,96,77)"
          ],
          [
           0.3,
           "rgb(244,165,130)"
          ],
          [
           0.4,
           "rgb(253,219,199)"
          ],
          [
           0.5,
           "rgb(247,247,247)"
          ],
          [
           0.6,
           "rgb(209,229,240)"
          ],
          [
           0.7,
           "rgb(146,197,222)"
          ],
          [
           0.8,
           "rgb(67,147,195)"
          ],
          [
           0.9,
           "rgb(33,102,172)"
          ],
          [
           1,
           "rgb(5,48,97)"
          ]
         ],
         "showscale": false,
         "text": [
          [
           -1,
           0,
           1
          ],
          [
           -1,
           0,
           1
          ],
          [
           -1,
           0,
           1
          ]
         ],
         "textfont": {
          "size": 20
         },
         "texttemplate": "%{text}",
         "type": "heatmap",
         "xaxis": "x2",
         "yaxis": "y2",
         "z": [
          [
           -1,
           0,
           1
          ],
          [
           -1,
           0,
           1
          ],
          [
           -1,
           0,
           1
          ]
         ]
        },
        {
         "colorscale": [
          [
           0,
           "rgb(103,0,31)"
          ],
          [
           0.1,
           "rgb(178,24,43)"
          ],
          [
           0.2,
           "rgb(214,96,77)"
          ],
          [
           0.3,
           "rgb(244,165,130)"
          ],
          [
           0.4,
           "rgb(253,219,199)"
          ],
          [
           0.5,
           "rgb(247,247,247)"
          ],
          [
           0.6,
           "rgb(209,229,240)"
          ],
          [
           0.7,
           "rgb(146,197,222)"
          ],
          [
           0.8,
           "rgb(67,147,195)"
          ],
          [
           0.9,
           "rgb(33,102,172)"
          ],
          [
           1,
           "rgb(5,48,97)"
          ]
         ],
         "text": [
          [
           0,
           0,
           0,
           0,
           0,
           0,
           0,
           0
          ],
          [
           0,
           0,
           0,
           -3,
           -3,
           0,
           0,
           0
          ],
          [
           0,
           0,
           0,
           -3,
           -3,
           0,
           0,
           0
          ],
          [
           0,
           0,
           0,
           -3,
           -3,
           0,
           0,
           0
          ],
          [
           0,
           0,
           0,
           -3,
           -3,
           0,
           0,
           0
          ],
          [
           0,
           0,
           0,
           -3,
           -3,
           0,
           0,
           0
          ],
          [
           0,
           0,
           0,
           -3,
           -3,
           0,
           0,
           0
          ],
          [
           0,
           0,
           0,
           0,
           0,
           0,
           0,
           0
          ]
         ],
         "textfont": {
          "size": 20
         },
         "texttemplate": "%{text}",
         "type": "heatmap",
         "xaxis": "x3",
         "yaxis": "y3",
         "z": [
          [
           0,
           0,
           0,
           0,
           0,
           0,
           0,
           0
          ],
          [
           0,
           0,
           0,
           -3,
           -3,
           0,
           0,
           0
          ],
          [
           0,
           0,
           0,
           -3,
           -3,
           0,
           0,
           0
          ],
          [
           0,
           0,
           0,
           -3,
           -3,
           0,
           0,
           0
          ],
          [
           0,
           0,
           0,
           -3,
           -3,
           0,
           0,
           0
          ],
          [
           0,
           0,
           0,
           -3,
           -3,
           0,
           0,
           0
          ],
          [
           0,
           0,
           0,
           -3,
           -3,
           0,
           0,
           0
          ],
          [
           0,
           0,
           0,
           0,
           0,
           0,
           0,
           0
          ]
         ]
        }
       ],
       "layout": {
        "annotations": [
         {
          "font": {
           "size": 16
          },
          "showarrow": false,
          "text": "Eingabebild",
          "x": 0.14444444444444446,
          "xanchor": "center",
          "xref": "paper",
          "y": 1,
          "yanchor": "bottom",
          "yref": "paper"
         },
         {
          "font": {
           "size": 16
          },
          "showarrow": false,
          "text": "Filter",
          "x": 0.5,
          "xanchor": "center",
          "xref": "paper",
          "y": 1,
          "yanchor": "bottom",
          "yref": "paper"
         },
         {
          "font": {
           "size": 16
          },
          "showarrow": false,
          "text": "Ergebnisbild",
          "x": 0.8555555555555556,
          "xanchor": "center",
          "xref": "paper",
          "y": 1,
          "yanchor": "bottom",
          "yref": "paper"
         }
        ],
        "height": 400,
        "showlegend": false,
        "template": {
         "data": {
          "bar": [
           {
            "error_x": {
             "color": "#2a3f5f"
            },
            "error_y": {
             "color": "#2a3f5f"
            },
            "marker": {
             "line": {
              "color": "#E5ECF6",
              "width": 0.5
             },
             "pattern": {
              "fillmode": "overlay",
              "size": 10,
              "solidity": 0.2
             }
            },
            "type": "bar"
           }
          ],
          "barpolar": [
           {
            "marker": {
             "line": {
              "color": "#E5ECF6",
              "width": 0.5
             },
             "pattern": {
              "fillmode": "overlay",
              "size": 10,
              "solidity": 0.2
             }
            },
            "type": "barpolar"
           }
          ],
          "carpet": [
           {
            "aaxis": {
             "endlinecolor": "#2a3f5f",
             "gridcolor": "white",
             "linecolor": "white",
             "minorgridcolor": "white",
             "startlinecolor": "#2a3f5f"
            },
            "baxis": {
             "endlinecolor": "#2a3f5f",
             "gridcolor": "white",
             "linecolor": "white",
             "minorgridcolor": "white",
             "startlinecolor": "#2a3f5f"
            },
            "type": "carpet"
           }
          ],
          "choropleth": [
           {
            "colorbar": {
             "outlinewidth": 0,
             "ticks": ""
            },
            "type": "choropleth"
           }
          ],
          "contour": [
           {
            "colorbar": {
             "outlinewidth": 0,
             "ticks": ""
            },
            "colorscale": [
             [
              0,
              "#0d0887"
             ],
             [
              0.1111111111111111,
              "#46039f"
             ],
             [
              0.2222222222222222,
              "#7201a8"
             ],
             [
              0.3333333333333333,
              "#9c179e"
             ],
             [
              0.4444444444444444,
              "#bd3786"
             ],
             [
              0.5555555555555556,
              "#d8576b"
             ],
             [
              0.6666666666666666,
              "#ed7953"
             ],
             [
              0.7777777777777778,
              "#fb9f3a"
             ],
             [
              0.8888888888888888,
              "#fdca26"
             ],
             [
              1,
              "#f0f921"
             ]
            ],
            "type": "contour"
           }
          ],
          "contourcarpet": [
           {
            "colorbar": {
             "outlinewidth": 0,
             "ticks": ""
            },
            "type": "contourcarpet"
           }
          ],
          "heatmap": [
           {
            "colorbar": {
             "outlinewidth": 0,
             "ticks": ""
            },
            "colorscale": [
             [
              0,
              "#0d0887"
             ],
             [
              0.1111111111111111,
              "#46039f"
             ],
             [
              0.2222222222222222,
              "#7201a8"
             ],
             [
              0.3333333333333333,
              "#9c179e"
             ],
             [
              0.4444444444444444,
              "#bd3786"
             ],
             [
              0.5555555555555556,
              "#d8576b"
             ],
             [
              0.6666666666666666,
              "#ed7953"
             ],
             [
              0.7777777777777778,
              "#fb9f3a"
             ],
             [
              0.8888888888888888,
              "#fdca26"
             ],
             [
              1,
              "#f0f921"
             ]
            ],
            "type": "heatmap"
           }
          ],
          "heatmapgl": [
           {
            "colorbar": {
             "outlinewidth": 0,
             "ticks": ""
            },
            "colorscale": [
             [
              0,
              "#0d0887"
             ],
             [
              0.1111111111111111,
              "#46039f"
             ],
             [
              0.2222222222222222,
              "#7201a8"
             ],
             [
              0.3333333333333333,
              "#9c179e"
             ],
             [
              0.4444444444444444,
              "#bd3786"
             ],
             [
              0.5555555555555556,
              "#d8576b"
             ],
             [
              0.6666666666666666,
              "#ed7953"
             ],
             [
              0.7777777777777778,
              "#fb9f3a"
             ],
             [
              0.8888888888888888,
              "#fdca26"
             ],
             [
              1,
              "#f0f921"
             ]
            ],
            "type": "heatmapgl"
           }
          ],
          "histogram": [
           {
            "marker": {
             "pattern": {
              "fillmode": "overlay",
              "size": 10,
              "solidity": 0.2
             }
            },
            "type": "histogram"
           }
          ],
          "histogram2d": [
           {
            "colorbar": {
             "outlinewidth": 0,
             "ticks": ""
            },
            "colorscale": [
             [
              0,
              "#0d0887"
             ],
             [
              0.1111111111111111,
              "#46039f"
             ],
             [
              0.2222222222222222,
              "#7201a8"
             ],
             [
              0.3333333333333333,
              "#9c179e"
             ],
             [
              0.4444444444444444,
              "#bd3786"
             ],
             [
              0.5555555555555556,
              "#d8576b"
             ],
             [
              0.6666666666666666,
              "#ed7953"
             ],
             [
              0.7777777777777778,
              "#fb9f3a"
             ],
             [
              0.8888888888888888,
              "#fdca26"
             ],
             [
              1,
              "#f0f921"
             ]
            ],
            "type": "histogram2d"
           }
          ],
          "histogram2dcontour": [
           {
            "colorbar": {
             "outlinewidth": 0,
             "ticks": ""
            },
            "colorscale": [
             [
              0,
              "#0d0887"
             ],
             [
              0.1111111111111111,
              "#46039f"
             ],
             [
              0.2222222222222222,
              "#7201a8"
             ],
             [
              0.3333333333333333,
              "#9c179e"
             ],
             [
              0.4444444444444444,
              "#bd3786"
             ],
             [
              0.5555555555555556,
              "#d8576b"
             ],
             [
              0.6666666666666666,
              "#ed7953"
             ],
             [
              0.7777777777777778,
              "#fb9f3a"
             ],
             [
              0.8888888888888888,
              "#fdca26"
             ],
             [
              1,
              "#f0f921"
             ]
            ],
            "type": "histogram2dcontour"
           }
          ],
          "mesh3d": [
           {
            "colorbar": {
             "outlinewidth": 0,
             "ticks": ""
            },
            "type": "mesh3d"
           }
          ],
          "parcoords": [
           {
            "line": {
             "colorbar": {
              "outlinewidth": 0,
              "ticks": ""
             }
            },
            "type": "parcoords"
           }
          ],
          "pie": [
           {
            "automargin": true,
            "type": "pie"
           }
          ],
          "scatter": [
           {
            "fillpattern": {
             "fillmode": "overlay",
             "size": 10,
             "solidity": 0.2
            },
            "type": "scatter"
           }
          ],
          "scatter3d": [
           {
            "line": {
             "colorbar": {
              "outlinewidth": 0,
              "ticks": ""
             }
            },
            "marker": {
             "colorbar": {
              "outlinewidth": 0,
              "ticks": ""
             }
            },
            "type": "scatter3d"
           }
          ],
          "scattercarpet": [
           {
            "marker": {
             "colorbar": {
              "outlinewidth": 0,
              "ticks": ""
             }
            },
            "type": "scattercarpet"
           }
          ],
          "scattergeo": [
           {
            "marker": {
             "colorbar": {
              "outlinewidth": 0,
              "ticks": ""
             }
            },
            "type": "scattergeo"
           }
          ],
          "scattergl": [
           {
            "marker": {
             "colorbar": {
              "outlinewidth": 0,
              "ticks": ""
             }
            },
            "type": "scattergl"
           }
          ],
          "scattermapbox": [
           {
            "marker": {
             "colorbar": {
              "outlinewidth": 0,
              "ticks": ""
             }
            },
            "type": "scattermapbox"
           }
          ],
          "scatterpolar": [
           {
            "marker": {
             "colorbar": {
              "outlinewidth": 0,
              "ticks": ""
             }
            },
            "type": "scatterpolar"
           }
          ],
          "scatterpolargl": [
           {
            "marker": {
             "colorbar": {
              "outlinewidth": 0,
              "ticks": ""
             }
            },
            "type": "scatterpolargl"
           }
          ],
          "scatterternary": [
           {
            "marker": {
             "colorbar": {
              "outlinewidth": 0,
              "ticks": ""
             }
            },
            "type": "scatterternary"
           }
          ],
          "surface": [
           {
            "colorbar": {
             "outlinewidth": 0,
             "ticks": ""
            },
            "colorscale": [
             [
              0,
              "#0d0887"
             ],
             [
              0.1111111111111111,
              "#46039f"
             ],
             [
              0.2222222222222222,
              "#7201a8"
             ],
             [
              0.3333333333333333,
              "#9c179e"
             ],
             [
              0.4444444444444444,
              "#bd3786"
             ],
             [
              0.5555555555555556,
              "#d8576b"
             ],
             [
              0.6666666666666666,
              "#ed7953"
             ],
             [
              0.7777777777777778,
              "#fb9f3a"
             ],
             [
              0.8888888888888888,
              "#fdca26"
             ],
             [
              1,
              "#f0f921"
             ]
            ],
            "type": "surface"
           }
          ],
          "table": [
           {
            "cells": {
             "fill": {
              "color": "#EBF0F8"
             },
             "line": {
              "color": "white"
             }
            },
            "header": {
             "fill": {
              "color": "#C8D4E3"
             },
             "line": {
              "color": "white"
             }
            },
            "type": "table"
           }
          ]
         },
         "layout": {
          "annotationdefaults": {
           "arrowcolor": "#2a3f5f",
           "arrowhead": 0,
           "arrowwidth": 1
          },
          "autotypenumbers": "strict",
          "coloraxis": {
           "colorbar": {
            "outlinewidth": 0,
            "ticks": ""
           }
          },
          "colorscale": {
           "diverging": [
            [
             0,
             "#8e0152"
            ],
            [
             0.1,
             "#c51b7d"
            ],
            [
             0.2,
             "#de77ae"
            ],
            [
             0.3,
             "#f1b6da"
            ],
            [
             0.4,
             "#fde0ef"
            ],
            [
             0.5,
             "#f7f7f7"
            ],
            [
             0.6,
             "#e6f5d0"
            ],
            [
             0.7,
             "#b8e186"
            ],
            [
             0.8,
             "#7fbc41"
            ],
            [
             0.9,
             "#4d9221"
            ],
            [
             1,
             "#276419"
            ]
           ],
           "sequential": [
            [
             0,
             "#0d0887"
            ],
            [
             0.1111111111111111,
             "#46039f"
            ],
            [
             0.2222222222222222,
             "#7201a8"
            ],
            [
             0.3333333333333333,
             "#9c179e"
            ],
            [
             0.4444444444444444,
             "#bd3786"
            ],
            [
             0.5555555555555556,
             "#d8576b"
            ],
            [
             0.6666666666666666,
             "#ed7953"
            ],
            [
             0.7777777777777778,
             "#fb9f3a"
            ],
            [
             0.8888888888888888,
             "#fdca26"
            ],
            [
             1,
             "#f0f921"
            ]
           ],
           "sequentialminus": [
            [
             0,
             "#0d0887"
            ],
            [
             0.1111111111111111,
             "#46039f"
            ],
            [
             0.2222222222222222,
             "#7201a8"
            ],
            [
             0.3333333333333333,
             "#9c179e"
            ],
            [
             0.4444444444444444,
             "#bd3786"
            ],
            [
             0.5555555555555556,
             "#d8576b"
            ],
            [
             0.6666666666666666,
             "#ed7953"
            ],
            [
             0.7777777777777778,
             "#fb9f3a"
            ],
            [
             0.8888888888888888,
             "#fdca26"
            ],
            [
             1,
             "#f0f921"
            ]
           ]
          },
          "colorway": [
           "#636efa",
           "#EF553B",
           "#00cc96",
           "#ab63fa",
           "#FFA15A",
           "#19d3f3",
           "#FF6692",
           "#B6E880",
           "#FF97FF",
           "#FECB52"
          ],
          "font": {
           "color": "#2a3f5f"
          },
          "geo": {
           "bgcolor": "white",
           "lakecolor": "white",
           "landcolor": "#E5ECF6",
           "showlakes": true,
           "showland": true,
           "subunitcolor": "white"
          },
          "hoverlabel": {
           "align": "left"
          },
          "hovermode": "closest",
          "mapbox": {
           "style": "light"
          },
          "paper_bgcolor": "white",
          "plot_bgcolor": "#E5ECF6",
          "polar": {
           "angularaxis": {
            "gridcolor": "white",
            "linecolor": "white",
            "ticks": ""
           },
           "bgcolor": "#E5ECF6",
           "radialaxis": {
            "gridcolor": "white",
            "linecolor": "white",
            "ticks": ""
           }
          },
          "scene": {
           "xaxis": {
            "backgroundcolor": "#E5ECF6",
            "gridcolor": "white",
            "gridwidth": 2,
            "linecolor": "white",
            "showbackground": true,
            "ticks": "",
            "zerolinecolor": "white"
           },
           "yaxis": {
            "backgroundcolor": "#E5ECF6",
            "gridcolor": "white",
            "gridwidth": 2,
            "linecolor": "white",
            "showbackground": true,
            "ticks": "",
            "zerolinecolor": "white"
           },
           "zaxis": {
            "backgroundcolor": "#E5ECF6",
            "gridcolor": "white",
            "gridwidth": 2,
            "linecolor": "white",
            "showbackground": true,
            "ticks": "",
            "zerolinecolor": "white"
           }
          },
          "shapedefaults": {
           "line": {
            "color": "#2a3f5f"
           }
          },
          "ternary": {
           "aaxis": {
            "gridcolor": "white",
            "linecolor": "white",
            "ticks": ""
           },
           "baxis": {
            "gridcolor": "white",
            "linecolor": "white",
            "ticks": ""
           },
           "bgcolor": "#E5ECF6",
           "caxis": {
            "gridcolor": "white",
            "linecolor": "white",
            "ticks": ""
           }
          },
          "title": {
           "x": 0.05
          },
          "xaxis": {
           "automargin": true,
           "gridcolor": "white",
           "linecolor": "white",
           "ticks": "",
           "title": {
            "standoff": 15
           },
           "zerolinecolor": "white",
           "zerolinewidth": 2
          },
          "yaxis": {
           "automargin": true,
           "gridcolor": "white",
           "linecolor": "white",
           "ticks": "",
           "title": {
            "standoff": 15
           },
           "zerolinecolor": "white",
           "zerolinewidth": 2
          }
         }
        },
        "title": {
         "text": "Convolution Demonstration (Position: 4, 4)"
        },
        "width": 1200,
        "xaxis": {
         "anchor": "y",
         "domain": [
          0,
          0.2888888888888889
         ],
         "showgrid": false,
         "showticklabels": false,
         "zeroline": false
        },
        "xaxis2": {
         "anchor": "y2",
         "domain": [
          0.35555555555555557,
          0.6444444444444445
         ],
         "showgrid": false,
         "showticklabels": false,
         "zeroline": false
        },
        "xaxis3": {
         "anchor": "y3",
         "domain": [
          0.7111111111111111,
          1
         ],
         "showgrid": false,
         "showticklabels": false,
         "zeroline": false
        },
        "yaxis": {
         "anchor": "x",
         "domain": [
          0,
          1
         ],
         "showgrid": false,
         "showticklabels": false,
         "zeroline": false
        },
        "yaxis2": {
         "anchor": "x2",
         "domain": [
          0,
          1
         ],
         "showgrid": false,
         "showticklabels": false,
         "zeroline": false
        },
        "yaxis3": {
         "anchor": "x3",
         "domain": [
          0,
          1
         ],
         "showgrid": false,
         "showticklabels": false,
         "zeroline": false
        }
       }
      }
     },
     "metadata": {},
     "output_type": "display_data"
    },
    {
     "data": {
      "application/vnd.plotly.v1+json": {
       "config": {
        "plotlyServerURL": "https://plot.ly"
       },
       "data": [
        {
         "colorscale": [
          [
           0,
           "rgb(0, 0, 0)"
          ],
          [
           0.09090909090909091,
           "rgb(16, 16, 16)"
          ],
          [
           0.18181818181818182,
           "rgb(38, 38, 38)"
          ],
          [
           0.2727272727272727,
           "rgb(59, 59, 59)"
          ],
          [
           0.36363636363636365,
           "rgb(81, 80, 80)"
          ],
          [
           0.45454545454545453,
           "rgb(102, 101, 101)"
          ],
          [
           0.5454545454545454,
           "rgb(124, 123, 122)"
          ],
          [
           0.6363636363636364,
           "rgb(146, 146, 145)"
          ],
          [
           0.7272727272727273,
           "rgb(171, 171, 170)"
          ],
          [
           0.8181818181818182,
           "rgb(197, 197, 195)"
          ],
          [
           0.9090909090909091,
           "rgb(224, 224, 223)"
          ],
          [
           1,
           "rgb(254, 254, 253)"
          ]
         ],
         "name": "image",
         "showscale": false,
         "type": "heatmap",
         "z": [
          [
           1,
           1,
           1,
           1,
           0,
           0,
           0,
           0
          ],
          [
           1,
           1,
           1,
           1,
           0,
           0,
           0,
           0
          ],
          [
           1,
           1,
           1,
           1,
           0,
           0,
           0,
           0
          ],
          [
           1,
           1,
           1,
           1,
           0,
           0,
           0,
           0
          ],
          [
           1,
           1,
           1,
           1,
           0,
           0,
           0,
           0
          ],
          [
           1,
           1,
           1,
           1,
           0,
           0,
           0,
           0
          ],
          [
           1,
           1,
           1,
           1,
           0,
           0,
           0,
           0
          ],
          [
           1,
           1,
           1,
           1,
           0,
           0,
           0,
           0
          ]
         ]
        },
        {
         "line": {
          "color": "red",
          "width": 2
         },
         "mode": "lines",
         "name": "filter",
         "type": "scatter",
         "x": [
          1.5,
          3.5,
          3.5,
          1.5,
          1.5
         ],
         "y": [
          1.5,
          1.5,
          3.5,
          3.5,
          1.5
         ]
        }
       ],
       "frames": [
        {
         "data": [
          {
           "colorscale": [
            [
             0,
             "rgb(0, 0, 0)"
            ],
            [
             0.09090909090909091,
             "rgb(16, 16, 16)"
            ],
            [
             0.18181818181818182,
             "rgb(38, 38, 38)"
            ],
            [
             0.2727272727272727,
             "rgb(59, 59, 59)"
            ],
            [
             0.36363636363636365,
             "rgb(81, 80, 80)"
            ],
            [
             0.45454545454545453,
             "rgb(102, 101, 101)"
            ],
            [
             0.5454545454545454,
             "rgb(124, 123, 122)"
            ],
            [
             0.6363636363636364,
             "rgb(146, 146, 145)"
            ],
            [
             0.7272727272727273,
             "rgb(171, 171, 170)"
            ],
            [
             0.8181818181818182,
             "rgb(197, 197, 195)"
            ],
            [
             0.9090909090909091,
             "rgb(224, 224, 223)"
            ],
            [
             1,
             "rgb(254, 254, 253)"
            ]
           ],
           "name": "image",
           "showscale": false,
           "type": "heatmap",
           "z": [
            [
             1,
             1,
             1,
             1,
             0,
             0,
             0,
             0
            ],
            [
             1,
             1,
             1,
             1,
             0,
             0,
             0,
             0
            ],
            [
             1,
             1,
             1,
             1,
             0,
             0,
             0,
             0
            ],
            [
             1,
             1,
             1,
             1,
             0,
             0,
             0,
             0
            ],
            [
             1,
             1,
             1,
             1,
             0,
             0,
             0,
             0
            ],
            [
             1,
             1,
             1,
             1,
             0,
             0,
             0,
             0
            ],
            [
             1,
             1,
             1,
             1,
             0,
             0,
             0,
             0
            ],
            [
             1,
             1,
             1,
             1,
             0,
             0,
             0,
             0
            ]
           ]
          },
          {
           "line": {
            "color": "red",
            "width": 2
           },
           "mode": "lines",
           "name": "filter",
           "type": "scatter",
           "x": [
            -0.5,
            2.5,
            2.5,
            -0.5,
            -0.5
           ],
           "y": [
            -0.5,
            -0.5,
            2.5,
            2.5,
            -0.5
           ]
          }
         ],
         "name": "frame_1_1"
        },
        {
         "data": [
          {
           "colorscale": [
            [
             0,
             "rgb(0, 0, 0)"
            ],
            [
             0.09090909090909091,
             "rgb(16, 16, 16)"
            ],
            [
             0.18181818181818182,
             "rgb(38, 38, 38)"
            ],
            [
             0.2727272727272727,
             "rgb(59, 59, 59)"
            ],
            [
             0.36363636363636365,
             "rgb(81, 80, 80)"
            ],
            [
             0.45454545454545453,
             "rgb(102, 101, 101)"
            ],
            [
             0.5454545454545454,
             "rgb(124, 123, 122)"
            ],
            [
             0.6363636363636364,
             "rgb(146, 146, 145)"
            ],
            [
             0.7272727272727273,
             "rgb(171, 171, 170)"
            ],
            [
             0.8181818181818182,
             "rgb(197, 197, 195)"
            ],
            [
             0.9090909090909091,
             "rgb(224, 224, 223)"
            ],
            [
             1,
             "rgb(254, 254, 253)"
            ]
           ],
           "name": "image",
           "showscale": false,
           "type": "heatmap",
           "z": [
            [
             1,
             1,
             1,
             1,
             0,
             0,
             0,
             0
            ],
            [
             1,
             1,
             1,
             1,
             0,
             0,
             0,
             0
            ],
            [
             1,
             1,
             1,
             1,
             0,
             0,
             0,
             0
            ],
            [
             1,
             1,
             1,
             1,
             0,
             0,
             0,
             0
            ],
            [
             1,
             1,
             1,
             1,
             0,
             0,
             0,
             0
            ],
            [
             1,
             1,
             1,
             1,
             0,
             0,
             0,
             0
            ],
            [
             1,
             1,
             1,
             1,
             0,
             0,
             0,
             0
            ],
            [
             1,
             1,
             1,
             1,
             0,
             0,
             0,
             0
            ]
           ]
          },
          {
           "line": {
            "color": "red",
            "width": 2
           },
           "mode": "lines",
           "name": "filter",
           "type": "scatter",
           "x": [
            0.5,
            3.5,
            3.5,
            0.5,
            0.5
           ],
           "y": [
            -0.5,
            -0.5,
            2.5,
            2.5,
            -0.5
           ]
          }
         ],
         "name": "frame_1_2"
        },
        {
         "data": [
          {
           "colorscale": [
            [
             0,
             "rgb(0, 0, 0)"
            ],
            [
             0.09090909090909091,
             "rgb(16, 16, 16)"
            ],
            [
             0.18181818181818182,
             "rgb(38, 38, 38)"
            ],
            [
             0.2727272727272727,
             "rgb(59, 59, 59)"
            ],
            [
             0.36363636363636365,
             "rgb(81, 80, 80)"
            ],
            [
             0.45454545454545453,
             "rgb(102, 101, 101)"
            ],
            [
             0.5454545454545454,
             "rgb(124, 123, 122)"
            ],
            [
             0.6363636363636364,
             "rgb(146, 146, 145)"
            ],
            [
             0.7272727272727273,
             "rgb(171, 171, 170)"
            ],
            [
             0.8181818181818182,
             "rgb(197, 197, 195)"
            ],
            [
             0.9090909090909091,
             "rgb(224, 224, 223)"
            ],
            [
             1,
             "rgb(254, 254, 253)"
            ]
           ],
           "name": "image",
           "showscale": false,
           "type": "heatmap",
           "z": [
            [
             1,
             1,
             1,
             1,
             0,
             0,
             0,
             0
            ],
            [
             1,
             1,
             1,
             1,
             0,
             0,
             0,
             0
            ],
            [
             1,
             1,
             1,
             1,
             0,
             0,
             0,
             0
            ],
            [
             1,
             1,
             1,
             1,
             0,
             0,
             0,
             0
            ],
            [
             1,
             1,
             1,
             1,
             0,
             0,
             0,
             0
            ],
            [
             1,
             1,
             1,
             1,
             0,
             0,
             0,
             0
            ],
            [
             1,
             1,
             1,
             1,
             0,
             0,
             0,
             0
            ],
            [
             1,
             1,
             1,
             1,
             0,
             0,
             0,
             0
            ]
           ]
          },
          {
           "line": {
            "color": "red",
            "width": 2
           },
           "mode": "lines",
           "name": "filter",
           "type": "scatter",
           "x": [
            1.5,
            4.5,
            4.5,
            1.5,
            1.5
           ],
           "y": [
            -0.5,
            -0.5,
            2.5,
            2.5,
            -0.5
           ]
          }
         ],
         "name": "frame_1_3"
        },
        {
         "data": [
          {
           "colorscale": [
            [
             0,
             "rgb(0, 0, 0)"
            ],
            [
             0.09090909090909091,
             "rgb(16, 16, 16)"
            ],
            [
             0.18181818181818182,
             "rgb(38, 38, 38)"
            ],
            [
             0.2727272727272727,
             "rgb(59, 59, 59)"
            ],
            [
             0.36363636363636365,
             "rgb(81, 80, 80)"
            ],
            [
             0.45454545454545453,
             "rgb(102, 101, 101)"
            ],
            [
             0.5454545454545454,
             "rgb(124, 123, 122)"
            ],
            [
             0.6363636363636364,
             "rgb(146, 146, 145)"
            ],
            [
             0.7272727272727273,
             "rgb(171, 171, 170)"
            ],
            [
             0.8181818181818182,
             "rgb(197, 197, 195)"
            ],
            [
             0.9090909090909091,
             "rgb(224, 224, 223)"
            ],
            [
             1,
             "rgb(254, 254, 253)"
            ]
           ],
           "name": "image",
           "showscale": false,
           "type": "heatmap",
           "z": [
            [
             1,
             1,
             1,
             1,
             0,
             0,
             0,
             0
            ],
            [
             1,
             1,
             1,
             1,
             0,
             0,
             0,
             0
            ],
            [
             1,
             1,
             1,
             1,
             0,
             0,
             0,
             0
            ],
            [
             1,
             1,
             1,
             1,
             0,
             0,
             0,
             0
            ],
            [
             1,
             1,
             1,
             1,
             0,
             0,
             0,
             0
            ],
            [
             1,
             1,
             1,
             1,
             0,
             0,
             0,
             0
            ],
            [
             1,
             1,
             1,
             1,
             0,
             0,
             0,
             0
            ],
            [
             1,
             1,
             1,
             1,
             0,
             0,
             0,
             0
            ]
           ]
          },
          {
           "line": {
            "color": "red",
            "width": 2
           },
           "mode": "lines",
           "name": "filter",
           "type": "scatter",
           "x": [
            2.5,
            5.5,
            5.5,
            2.5,
            2.5
           ],
           "y": [
            -0.5,
            -0.5,
            2.5,
            2.5,
            -0.5
           ]
          }
         ],
         "name": "frame_1_4"
        },
        {
         "data": [
          {
           "colorscale": [
            [
             0,
             "rgb(0, 0, 0)"
            ],
            [
             0.09090909090909091,
             "rgb(16, 16, 16)"
            ],
            [
             0.18181818181818182,
             "rgb(38, 38, 38)"
            ],
            [
             0.2727272727272727,
             "rgb(59, 59, 59)"
            ],
            [
             0.36363636363636365,
             "rgb(81, 80, 80)"
            ],
            [
             0.45454545454545453,
             "rgb(102, 101, 101)"
            ],
            [
             0.5454545454545454,
             "rgb(124, 123, 122)"
            ],
            [
             0.6363636363636364,
             "rgb(146, 146, 145)"
            ],
            [
             0.7272727272727273,
             "rgb(171, 171, 170)"
            ],
            [
             0.8181818181818182,
             "rgb(197, 197, 195)"
            ],
            [
             0.9090909090909091,
             "rgb(224, 224, 223)"
            ],
            [
             1,
             "rgb(254, 254, 253)"
            ]
           ],
           "name": "image",
           "showscale": false,
           "type": "heatmap",
           "z": [
            [
             1,
             1,
             1,
             1,
             0,
             0,
             0,
             0
            ],
            [
             1,
             1,
             1,
             1,
             0,
             0,
             0,
             0
            ],
            [
             1,
             1,
             1,
             1,
             0,
             0,
             0,
             0
            ],
            [
             1,
             1,
             1,
             1,
             0,
             0,
             0,
             0
            ],
            [
             1,
             1,
             1,
             1,
             0,
             0,
             0,
             0
            ],
            [
             1,
             1,
             1,
             1,
             0,
             0,
             0,
             0
            ],
            [
             1,
             1,
             1,
             1,
             0,
             0,
             0,
             0
            ],
            [
             1,
             1,
             1,
             1,
             0,
             0,
             0,
             0
            ]
           ]
          },
          {
           "line": {
            "color": "red",
            "width": 2
           },
           "mode": "lines",
           "name": "filter",
           "type": "scatter",
           "x": [
            3.5,
            6.5,
            6.5,
            3.5,
            3.5
           ],
           "y": [
            -0.5,
            -0.5,
            2.5,
            2.5,
            -0.5
           ]
          }
         ],
         "name": "frame_1_5"
        },
        {
         "data": [
          {
           "colorscale": [
            [
             0,
             "rgb(0, 0, 0)"
            ],
            [
             0.09090909090909091,
             "rgb(16, 16, 16)"
            ],
            [
             0.18181818181818182,
             "rgb(38, 38, 38)"
            ],
            [
             0.2727272727272727,
             "rgb(59, 59, 59)"
            ],
            [
             0.36363636363636365,
             "rgb(81, 80, 80)"
            ],
            [
             0.45454545454545453,
             "rgb(102, 101, 101)"
            ],
            [
             0.5454545454545454,
             "rgb(124, 123, 122)"
            ],
            [
             0.6363636363636364,
             "rgb(146, 146, 145)"
            ],
            [
             0.7272727272727273,
             "rgb(171, 171, 170)"
            ],
            [
             0.8181818181818182,
             "rgb(197, 197, 195)"
            ],
            [
             0.9090909090909091,
             "rgb(224, 224, 223)"
            ],
            [
             1,
             "rgb(254, 254, 253)"
            ]
           ],
           "name": "image",
           "showscale": false,
           "type": "heatmap",
           "z": [
            [
             1,
             1,
             1,
             1,
             0,
             0,
             0,
             0
            ],
            [
             1,
             1,
             1,
             1,
             0,
             0,
             0,
             0
            ],
            [
             1,
             1,
             1,
             1,
             0,
             0,
             0,
             0
            ],
            [
             1,
             1,
             1,
             1,
             0,
             0,
             0,
             0
            ],
            [
             1,
             1,
             1,
             1,
             0,
             0,
             0,
             0
            ],
            [
             1,
             1,
             1,
             1,
             0,
             0,
             0,
             0
            ],
            [
             1,
             1,
             1,
             1,
             0,
             0,
             0,
             0
            ],
            [
             1,
             1,
             1,
             1,
             0,
             0,
             0,
             0
            ]
           ]
          },
          {
           "line": {
            "color": "red",
            "width": 2
           },
           "mode": "lines",
           "name": "filter",
           "type": "scatter",
           "x": [
            4.5,
            7.5,
            7.5,
            4.5,
            4.5
           ],
           "y": [
            -0.5,
            -0.5,
            2.5,
            2.5,
            -0.5
           ]
          }
         ],
         "name": "frame_1_6"
        },
        {
         "data": [
          {
           "colorscale": [
            [
             0,
             "rgb(0, 0, 0)"
            ],
            [
             0.09090909090909091,
             "rgb(16, 16, 16)"
            ],
            [
             0.18181818181818182,
             "rgb(38, 38, 38)"
            ],
            [
             0.2727272727272727,
             "rgb(59, 59, 59)"
            ],
            [
             0.36363636363636365,
             "rgb(81, 80, 80)"
            ],
            [
             0.45454545454545453,
             "rgb(102, 101, 101)"
            ],
            [
             0.5454545454545454,
             "rgb(124, 123, 122)"
            ],
            [
             0.6363636363636364,
             "rgb(146, 146, 145)"
            ],
            [
             0.7272727272727273,
             "rgb(171, 171, 170)"
            ],
            [
             0.8181818181818182,
             "rgb(197, 197, 195)"
            ],
            [
             0.9090909090909091,
             "rgb(224, 224, 223)"
            ],
            [
             1,
             "rgb(254, 254, 253)"
            ]
           ],
           "name": "image",
           "showscale": false,
           "type": "heatmap",
           "z": [
            [
             1,
             1,
             1,
             1,
             0,
             0,
             0,
             0
            ],
            [
             1,
             1,
             1,
             1,
             0,
             0,
             0,
             0
            ],
            [
             1,
             1,
             1,
             1,
             0,
             0,
             0,
             0
            ],
            [
             1,
             1,
             1,
             1,
             0,
             0,
             0,
             0
            ],
            [
             1,
             1,
             1,
             1,
             0,
             0,
             0,
             0
            ],
            [
             1,
             1,
             1,
             1,
             0,
             0,
             0,
             0
            ],
            [
             1,
             1,
             1,
             1,
             0,
             0,
             0,
             0
            ],
            [
             1,
             1,
             1,
             1,
             0,
             0,
             0,
             0
            ]
           ]
          },
          {
           "line": {
            "color": "red",
            "width": 2
           },
           "mode": "lines",
           "name": "filter",
           "type": "scatter",
           "x": [
            -0.5,
            2.5,
            2.5,
            -0.5,
            -0.5
           ],
           "y": [
            0.5,
            0.5,
            3.5,
            3.5,
            0.5
           ]
          }
         ],
         "name": "frame_2_1"
        },
        {
         "data": [
          {
           "colorscale": [
            [
             0,
             "rgb(0, 0, 0)"
            ],
            [
             0.09090909090909091,
             "rgb(16, 16, 16)"
            ],
            [
             0.18181818181818182,
             "rgb(38, 38, 38)"
            ],
            [
             0.2727272727272727,
             "rgb(59, 59, 59)"
            ],
            [
             0.36363636363636365,
             "rgb(81, 80, 80)"
            ],
            [
             0.45454545454545453,
             "rgb(102, 101, 101)"
            ],
            [
             0.5454545454545454,
             "rgb(124, 123, 122)"
            ],
            [
             0.6363636363636364,
             "rgb(146, 146, 145)"
            ],
            [
             0.7272727272727273,
             "rgb(171, 171, 170)"
            ],
            [
             0.8181818181818182,
             "rgb(197, 197, 195)"
            ],
            [
             0.9090909090909091,
             "rgb(224, 224, 223)"
            ],
            [
             1,
             "rgb(254, 254, 253)"
            ]
           ],
           "name": "image",
           "showscale": false,
           "type": "heatmap",
           "z": [
            [
             1,
             1,
             1,
             1,
             0,
             0,
             0,
             0
            ],
            [
             1,
             1,
             1,
             1,
             0,
             0,
             0,
             0
            ],
            [
             1,
             1,
             1,
             1,
             0,
             0,
             0,
             0
            ],
            [
             1,
             1,
             1,
             1,
             0,
             0,
             0,
             0
            ],
            [
             1,
             1,
             1,
             1,
             0,
             0,
             0,
             0
            ],
            [
             1,
             1,
             1,
             1,
             0,
             0,
             0,
             0
            ],
            [
             1,
             1,
             1,
             1,
             0,
             0,
             0,
             0
            ],
            [
             1,
             1,
             1,
             1,
             0,
             0,
             0,
             0
            ]
           ]
          },
          {
           "line": {
            "color": "red",
            "width": 2
           },
           "mode": "lines",
           "name": "filter",
           "type": "scatter",
           "x": [
            0.5,
            3.5,
            3.5,
            0.5,
            0.5
           ],
           "y": [
            0.5,
            0.5,
            3.5,
            3.5,
            0.5
           ]
          }
         ],
         "name": "frame_2_2"
        },
        {
         "data": [
          {
           "colorscale": [
            [
             0,
             "rgb(0, 0, 0)"
            ],
            [
             0.09090909090909091,
             "rgb(16, 16, 16)"
            ],
            [
             0.18181818181818182,
             "rgb(38, 38, 38)"
            ],
            [
             0.2727272727272727,
             "rgb(59, 59, 59)"
            ],
            [
             0.36363636363636365,
             "rgb(81, 80, 80)"
            ],
            [
             0.45454545454545453,
             "rgb(102, 101, 101)"
            ],
            [
             0.5454545454545454,
             "rgb(124, 123, 122)"
            ],
            [
             0.6363636363636364,
             "rgb(146, 146, 145)"
            ],
            [
             0.7272727272727273,
             "rgb(171, 171, 170)"
            ],
            [
             0.8181818181818182,
             "rgb(197, 197, 195)"
            ],
            [
             0.9090909090909091,
             "rgb(224, 224, 223)"
            ],
            [
             1,
             "rgb(254, 254, 253)"
            ]
           ],
           "name": "image",
           "showscale": false,
           "type": "heatmap",
           "z": [
            [
             1,
             1,
             1,
             1,
             0,
             0,
             0,
             0
            ],
            [
             1,
             1,
             1,
             1,
             0,
             0,
             0,
             0
            ],
            [
             1,
             1,
             1,
             1,
             0,
             0,
             0,
             0
            ],
            [
             1,
             1,
             1,
             1,
             0,
             0,
             0,
             0
            ],
            [
             1,
             1,
             1,
             1,
             0,
             0,
             0,
             0
            ],
            [
             1,
             1,
             1,
             1,
             0,
             0,
             0,
             0
            ],
            [
             1,
             1,
             1,
             1,
             0,
             0,
             0,
             0
            ],
            [
             1,
             1,
             1,
             1,
             0,
             0,
             0,
             0
            ]
           ]
          },
          {
           "line": {
            "color": "red",
            "width": 2
           },
           "mode": "lines",
           "name": "filter",
           "type": "scatter",
           "x": [
            1.5,
            4.5,
            4.5,
            1.5,
            1.5
           ],
           "y": [
            0.5,
            0.5,
            3.5,
            3.5,
            0.5
           ]
          }
         ],
         "name": "frame_2_3"
        },
        {
         "data": [
          {
           "colorscale": [
            [
             0,
             "rgb(0, 0, 0)"
            ],
            [
             0.09090909090909091,
             "rgb(16, 16, 16)"
            ],
            [
             0.18181818181818182,
             "rgb(38, 38, 38)"
            ],
            [
             0.2727272727272727,
             "rgb(59, 59, 59)"
            ],
            [
             0.36363636363636365,
             "rgb(81, 80, 80)"
            ],
            [
             0.45454545454545453,
             "rgb(102, 101, 101)"
            ],
            [
             0.5454545454545454,
             "rgb(124, 123, 122)"
            ],
            [
             0.6363636363636364,
             "rgb(146, 146, 145)"
            ],
            [
             0.7272727272727273,
             "rgb(171, 171, 170)"
            ],
            [
             0.8181818181818182,
             "rgb(197, 197, 195)"
            ],
            [
             0.9090909090909091,
             "rgb(224, 224, 223)"
            ],
            [
             1,
             "rgb(254, 254, 253)"
            ]
           ],
           "name": "image",
           "showscale": false,
           "type": "heatmap",
           "z": [
            [
             1,
             1,
             1,
             1,
             0,
             0,
             0,
             0
            ],
            [
             1,
             1,
             1,
             1,
             0,
             0,
             0,
             0
            ],
            [
             1,
             1,
             1,
             1,
             0,
             0,
             0,
             0
            ],
            [
             1,
             1,
             1,
             1,
             0,
             0,
             0,
             0
            ],
            [
             1,
             1,
             1,
             1,
             0,
             0,
             0,
             0
            ],
            [
             1,
             1,
             1,
             1,
             0,
             0,
             0,
             0
            ],
            [
             1,
             1,
             1,
             1,
             0,
             0,
             0,
             0
            ],
            [
             1,
             1,
             1,
             1,
             0,
             0,
             0,
             0
            ]
           ]
          },
          {
           "line": {
            "color": "red",
            "width": 2
           },
           "mode": "lines",
           "name": "filter",
           "type": "scatter",
           "x": [
            2.5,
            5.5,
            5.5,
            2.5,
            2.5
           ],
           "y": [
            0.5,
            0.5,
            3.5,
            3.5,
            0.5
           ]
          }
         ],
         "name": "frame_2_4"
        },
        {
         "data": [
          {
           "colorscale": [
            [
             0,
             "rgb(0, 0, 0)"
            ],
            [
             0.09090909090909091,
             "rgb(16, 16, 16)"
            ],
            [
             0.18181818181818182,
             "rgb(38, 38, 38)"
            ],
            [
             0.2727272727272727,
             "rgb(59, 59, 59)"
            ],
            [
             0.36363636363636365,
             "rgb(81, 80, 80)"
            ],
            [
             0.45454545454545453,
             "rgb(102, 101, 101)"
            ],
            [
             0.5454545454545454,
             "rgb(124, 123, 122)"
            ],
            [
             0.6363636363636364,
             "rgb(146, 146, 145)"
            ],
            [
             0.7272727272727273,
             "rgb(171, 171, 170)"
            ],
            [
             0.8181818181818182,
             "rgb(197, 197, 195)"
            ],
            [
             0.9090909090909091,
             "rgb(224, 224, 223)"
            ],
            [
             1,
             "rgb(254, 254, 253)"
            ]
           ],
           "name": "image",
           "showscale": false,
           "type": "heatmap",
           "z": [
            [
             1,
             1,
             1,
             1,
             0,
             0,
             0,
             0
            ],
            [
             1,
             1,
             1,
             1,
             0,
             0,
             0,
             0
            ],
            [
             1,
             1,
             1,
             1,
             0,
             0,
             0,
             0
            ],
            [
             1,
             1,
             1,
             1,
             0,
             0,
             0,
             0
            ],
            [
             1,
             1,
             1,
             1,
             0,
             0,
             0,
             0
            ],
            [
             1,
             1,
             1,
             1,
             0,
             0,
             0,
             0
            ],
            [
             1,
             1,
             1,
             1,
             0,
             0,
             0,
             0
            ],
            [
             1,
             1,
             1,
             1,
             0,
             0,
             0,
             0
            ]
           ]
          },
          {
           "line": {
            "color": "red",
            "width": 2
           },
           "mode": "lines",
           "name": "filter",
           "type": "scatter",
           "x": [
            3.5,
            6.5,
            6.5,
            3.5,
            3.5
           ],
           "y": [
            0.5,
            0.5,
            3.5,
            3.5,
            0.5
           ]
          }
         ],
         "name": "frame_2_5"
        },
        {
         "data": [
          {
           "colorscale": [
            [
             0,
             "rgb(0, 0, 0)"
            ],
            [
             0.09090909090909091,
             "rgb(16, 16, 16)"
            ],
            [
             0.18181818181818182,
             "rgb(38, 38, 38)"
            ],
            [
             0.2727272727272727,
             "rgb(59, 59, 59)"
            ],
            [
             0.36363636363636365,
             "rgb(81, 80, 80)"
            ],
            [
             0.45454545454545453,
             "rgb(102, 101, 101)"
            ],
            [
             0.5454545454545454,
             "rgb(124, 123, 122)"
            ],
            [
             0.6363636363636364,
             "rgb(146, 146, 145)"
            ],
            [
             0.7272727272727273,
             "rgb(171, 171, 170)"
            ],
            [
             0.8181818181818182,
             "rgb(197, 197, 195)"
            ],
            [
             0.9090909090909091,
             "rgb(224, 224, 223)"
            ],
            [
             1,
             "rgb(254, 254, 253)"
            ]
           ],
           "name": "image",
           "showscale": false,
           "type": "heatmap",
           "z": [
            [
             1,
             1,
             1,
             1,
             0,
             0,
             0,
             0
            ],
            [
             1,
             1,
             1,
             1,
             0,
             0,
             0,
             0
            ],
            [
             1,
             1,
             1,
             1,
             0,
             0,
             0,
             0
            ],
            [
             1,
             1,
             1,
             1,
             0,
             0,
             0,
             0
            ],
            [
             1,
             1,
             1,
             1,
             0,
             0,
             0,
             0
            ],
            [
             1,
             1,
             1,
             1,
             0,
             0,
             0,
             0
            ],
            [
             1,
             1,
             1,
             1,
             0,
             0,
             0,
             0
            ],
            [
             1,
             1,
             1,
             1,
             0,
             0,
             0,
             0
            ]
           ]
          },
          {
           "line": {
            "color": "red",
            "width": 2
           },
           "mode": "lines",
           "name": "filter",
           "type": "scatter",
           "x": [
            4.5,
            7.5,
            7.5,
            4.5,
            4.5
           ],
           "y": [
            0.5,
            0.5,
            3.5,
            3.5,
            0.5
           ]
          }
         ],
         "name": "frame_2_6"
        },
        {
         "data": [
          {
           "colorscale": [
            [
             0,
             "rgb(0, 0, 0)"
            ],
            [
             0.09090909090909091,
             "rgb(16, 16, 16)"
            ],
            [
             0.18181818181818182,
             "rgb(38, 38, 38)"
            ],
            [
             0.2727272727272727,
             "rgb(59, 59, 59)"
            ],
            [
             0.36363636363636365,
             "rgb(81, 80, 80)"
            ],
            [
             0.45454545454545453,
             "rgb(102, 101, 101)"
            ],
            [
             0.5454545454545454,
             "rgb(124, 123, 122)"
            ],
            [
             0.6363636363636364,
             "rgb(146, 146, 145)"
            ],
            [
             0.7272727272727273,
             "rgb(171, 171, 170)"
            ],
            [
             0.8181818181818182,
             "rgb(197, 197, 195)"
            ],
            [
             0.9090909090909091,
             "rgb(224, 224, 223)"
            ],
            [
             1,
             "rgb(254, 254, 253)"
            ]
           ],
           "name": "image",
           "showscale": false,
           "type": "heatmap",
           "z": [
            [
             1,
             1,
             1,
             1,
             0,
             0,
             0,
             0
            ],
            [
             1,
             1,
             1,
             1,
             0,
             0,
             0,
             0
            ],
            [
             1,
             1,
             1,
             1,
             0,
             0,
             0,
             0
            ],
            [
             1,
             1,
             1,
             1,
             0,
             0,
             0,
             0
            ],
            [
             1,
             1,
             1,
             1,
             0,
             0,
             0,
             0
            ],
            [
             1,
             1,
             1,
             1,
             0,
             0,
             0,
             0
            ],
            [
             1,
             1,
             1,
             1,
             0,
             0,
             0,
             0
            ],
            [
             1,
             1,
             1,
             1,
             0,
             0,
             0,
             0
            ]
           ]
          },
          {
           "line": {
            "color": "red",
            "width": 2
           },
           "mode": "lines",
           "name": "filter",
           "type": "scatter",
           "x": [
            -0.5,
            2.5,
            2.5,
            -0.5,
            -0.5
           ],
           "y": [
            1.5,
            1.5,
            4.5,
            4.5,
            1.5
           ]
          }
         ],
         "name": "frame_3_1"
        },
        {
         "data": [
          {
           "colorscale": [
            [
             0,
             "rgb(0, 0, 0)"
            ],
            [
             0.09090909090909091,
             "rgb(16, 16, 16)"
            ],
            [
             0.18181818181818182,
             "rgb(38, 38, 38)"
            ],
            [
             0.2727272727272727,
             "rgb(59, 59, 59)"
            ],
            [
             0.36363636363636365,
             "rgb(81, 80, 80)"
            ],
            [
             0.45454545454545453,
             "rgb(102, 101, 101)"
            ],
            [
             0.5454545454545454,
             "rgb(124, 123, 122)"
            ],
            [
             0.6363636363636364,
             "rgb(146, 146, 145)"
            ],
            [
             0.7272727272727273,
             "rgb(171, 171, 170)"
            ],
            [
             0.8181818181818182,
             "rgb(197, 197, 195)"
            ],
            [
             0.9090909090909091,
             "rgb(224, 224, 223)"
            ],
            [
             1,
             "rgb(254, 254, 253)"
            ]
           ],
           "name": "image",
           "showscale": false,
           "type": "heatmap",
           "z": [
            [
             1,
             1,
             1,
             1,
             0,
             0,
             0,
             0
            ],
            [
             1,
             1,
             1,
             1,
             0,
             0,
             0,
             0
            ],
            [
             1,
             1,
             1,
             1,
             0,
             0,
             0,
             0
            ],
            [
             1,
             1,
             1,
             1,
             0,
             0,
             0,
             0
            ],
            [
             1,
             1,
             1,
             1,
             0,
             0,
             0,
             0
            ],
            [
             1,
             1,
             1,
             1,
             0,
             0,
             0,
             0
            ],
            [
             1,
             1,
             1,
             1,
             0,
             0,
             0,
             0
            ],
            [
             1,
             1,
             1,
             1,
             0,
             0,
             0,
             0
            ]
           ]
          },
          {
           "line": {
            "color": "red",
            "width": 2
           },
           "mode": "lines",
           "name": "filter",
           "type": "scatter",
           "x": [
            0.5,
            3.5,
            3.5,
            0.5,
            0.5
           ],
           "y": [
            1.5,
            1.5,
            4.5,
            4.5,
            1.5
           ]
          }
         ],
         "name": "frame_3_2"
        },
        {
         "data": [
          {
           "colorscale": [
            [
             0,
             "rgb(0, 0, 0)"
            ],
            [
             0.09090909090909091,
             "rgb(16, 16, 16)"
            ],
            [
             0.18181818181818182,
             "rgb(38, 38, 38)"
            ],
            [
             0.2727272727272727,
             "rgb(59, 59, 59)"
            ],
            [
             0.36363636363636365,
             "rgb(81, 80, 80)"
            ],
            [
             0.45454545454545453,
             "rgb(102, 101, 101)"
            ],
            [
             0.5454545454545454,
             "rgb(124, 123, 122)"
            ],
            [
             0.6363636363636364,
             "rgb(146, 146, 145)"
            ],
            [
             0.7272727272727273,
             "rgb(171, 171, 170)"
            ],
            [
             0.8181818181818182,
             "rgb(197, 197, 195)"
            ],
            [
             0.9090909090909091,
             "rgb(224, 224, 223)"
            ],
            [
             1,
             "rgb(254, 254, 253)"
            ]
           ],
           "name": "image",
           "showscale": false,
           "type": "heatmap",
           "z": [
            [
             1,
             1,
             1,
             1,
             0,
             0,
             0,
             0
            ],
            [
             1,
             1,
             1,
             1,
             0,
             0,
             0,
             0
            ],
            [
             1,
             1,
             1,
             1,
             0,
             0,
             0,
             0
            ],
            [
             1,
             1,
             1,
             1,
             0,
             0,
             0,
             0
            ],
            [
             1,
             1,
             1,
             1,
             0,
             0,
             0,
             0
            ],
            [
             1,
             1,
             1,
             1,
             0,
             0,
             0,
             0
            ],
            [
             1,
             1,
             1,
             1,
             0,
             0,
             0,
             0
            ],
            [
             1,
             1,
             1,
             1,
             0,
             0,
             0,
             0
            ]
           ]
          },
          {
           "line": {
            "color": "red",
            "width": 2
           },
           "mode": "lines",
           "name": "filter",
           "type": "scatter",
           "x": [
            1.5,
            4.5,
            4.5,
            1.5,
            1.5
           ],
           "y": [
            1.5,
            1.5,
            4.5,
            4.5,
            1.5
           ]
          }
         ],
         "name": "frame_3_3"
        },
        {
         "data": [
          {
           "colorscale": [
            [
             0,
             "rgb(0, 0, 0)"
            ],
            [
             0.09090909090909091,
             "rgb(16, 16, 16)"
            ],
            [
             0.18181818181818182,
             "rgb(38, 38, 38)"
            ],
            [
             0.2727272727272727,
             "rgb(59, 59, 59)"
            ],
            [
             0.36363636363636365,
             "rgb(81, 80, 80)"
            ],
            [
             0.45454545454545453,
             "rgb(102, 101, 101)"
            ],
            [
             0.5454545454545454,
             "rgb(124, 123, 122)"
            ],
            [
             0.6363636363636364,
             "rgb(146, 146, 145)"
            ],
            [
             0.7272727272727273,
             "rgb(171, 171, 170)"
            ],
            [
             0.8181818181818182,
             "rgb(197, 197, 195)"
            ],
            [
             0.9090909090909091,
             "rgb(224, 224, 223)"
            ],
            [
             1,
             "rgb(254, 254, 253)"
            ]
           ],
           "name": "image",
           "showscale": false,
           "type": "heatmap",
           "z": [
            [
             1,
             1,
             1,
             1,
             0,
             0,
             0,
             0
            ],
            [
             1,
             1,
             1,
             1,
             0,
             0,
             0,
             0
            ],
            [
             1,
             1,
             1,
             1,
             0,
             0,
             0,
             0
            ],
            [
             1,
             1,
             1,
             1,
             0,
             0,
             0,
             0
            ],
            [
             1,
             1,
             1,
             1,
             0,
             0,
             0,
             0
            ],
            [
             1,
             1,
             1,
             1,
             0,
             0,
             0,
             0
            ],
            [
             1,
             1,
             1,
             1,
             0,
             0,
             0,
             0
            ],
            [
             1,
             1,
             1,
             1,
             0,
             0,
             0,
             0
            ]
           ]
          },
          {
           "line": {
            "color": "red",
            "width": 2
           },
           "mode": "lines",
           "name": "filter",
           "type": "scatter",
           "x": [
            2.5,
            5.5,
            5.5,
            2.5,
            2.5
           ],
           "y": [
            1.5,
            1.5,
            4.5,
            4.5,
            1.5
           ]
          }
         ],
         "name": "frame_3_4"
        },
        {
         "data": [
          {
           "colorscale": [
            [
             0,
             "rgb(0, 0, 0)"
            ],
            [
             0.09090909090909091,
             "rgb(16, 16, 16)"
            ],
            [
             0.18181818181818182,
             "rgb(38, 38, 38)"
            ],
            [
             0.2727272727272727,
             "rgb(59, 59, 59)"
            ],
            [
             0.36363636363636365,
             "rgb(81, 80, 80)"
            ],
            [
             0.45454545454545453,
             "rgb(102, 101, 101)"
            ],
            [
             0.5454545454545454,
             "rgb(124, 123, 122)"
            ],
            [
             0.6363636363636364,
             "rgb(146, 146, 145)"
            ],
            [
             0.7272727272727273,
             "rgb(171, 171, 170)"
            ],
            [
             0.8181818181818182,
             "rgb(197, 197, 195)"
            ],
            [
             0.9090909090909091,
             "rgb(224, 224, 223)"
            ],
            [
             1,
             "rgb(254, 254, 253)"
            ]
           ],
           "name": "image",
           "showscale": false,
           "type": "heatmap",
           "z": [
            [
             1,
             1,
             1,
             1,
             0,
             0,
             0,
             0
            ],
            [
             1,
             1,
             1,
             1,
             0,
             0,
             0,
             0
            ],
            [
             1,
             1,
             1,
             1,
             0,
             0,
             0,
             0
            ],
            [
             1,
             1,
             1,
             1,
             0,
             0,
             0,
             0
            ],
            [
             1,
             1,
             1,
             1,
             0,
             0,
             0,
             0
            ],
            [
             1,
             1,
             1,
             1,
             0,
             0,
             0,
             0
            ],
            [
             1,
             1,
             1,
             1,
             0,
             0,
             0,
             0
            ],
            [
             1,
             1,
             1,
             1,
             0,
             0,
             0,
             0
            ]
           ]
          },
          {
           "line": {
            "color": "red",
            "width": 2
           },
           "mode": "lines",
           "name": "filter",
           "type": "scatter",
           "x": [
            3.5,
            6.5,
            6.5,
            3.5,
            3.5
           ],
           "y": [
            1.5,
            1.5,
            4.5,
            4.5,
            1.5
           ]
          }
         ],
         "name": "frame_3_5"
        },
        {
         "data": [
          {
           "colorscale": [
            [
             0,
             "rgb(0, 0, 0)"
            ],
            [
             0.09090909090909091,
             "rgb(16, 16, 16)"
            ],
            [
             0.18181818181818182,
             "rgb(38, 38, 38)"
            ],
            [
             0.2727272727272727,
             "rgb(59, 59, 59)"
            ],
            [
             0.36363636363636365,
             "rgb(81, 80, 80)"
            ],
            [
             0.45454545454545453,
             "rgb(102, 101, 101)"
            ],
            [
             0.5454545454545454,
             "rgb(124, 123, 122)"
            ],
            [
             0.6363636363636364,
             "rgb(146, 146, 145)"
            ],
            [
             0.7272727272727273,
             "rgb(171, 171, 170)"
            ],
            [
             0.8181818181818182,
             "rgb(197, 197, 195)"
            ],
            [
             0.9090909090909091,
             "rgb(224, 224, 223)"
            ],
            [
             1,
             "rgb(254, 254, 253)"
            ]
           ],
           "name": "image",
           "showscale": false,
           "type": "heatmap",
           "z": [
            [
             1,
             1,
             1,
             1,
             0,
             0,
             0,
             0
            ],
            [
             1,
             1,
             1,
             1,
             0,
             0,
             0,
             0
            ],
            [
             1,
             1,
             1,
             1,
             0,
             0,
             0,
             0
            ],
            [
             1,
             1,
             1,
             1,
             0,
             0,
             0,
             0
            ],
            [
             1,
             1,
             1,
             1,
             0,
             0,
             0,
             0
            ],
            [
             1,
             1,
             1,
             1,
             0,
             0,
             0,
             0
            ],
            [
             1,
             1,
             1,
             1,
             0,
             0,
             0,
             0
            ],
            [
             1,
             1,
             1,
             1,
             0,
             0,
             0,
             0
            ]
           ]
          },
          {
           "line": {
            "color": "red",
            "width": 2
           },
           "mode": "lines",
           "name": "filter",
           "type": "scatter",
           "x": [
            4.5,
            7.5,
            7.5,
            4.5,
            4.5
           ],
           "y": [
            1.5,
            1.5,
            4.5,
            4.5,
            1.5
           ]
          }
         ],
         "name": "frame_3_6"
        },
        {
         "data": [
          {
           "colorscale": [
            [
             0,
             "rgb(0, 0, 0)"
            ],
            [
             0.09090909090909091,
             "rgb(16, 16, 16)"
            ],
            [
             0.18181818181818182,
             "rgb(38, 38, 38)"
            ],
            [
             0.2727272727272727,
             "rgb(59, 59, 59)"
            ],
            [
             0.36363636363636365,
             "rgb(81, 80, 80)"
            ],
            [
             0.45454545454545453,
             "rgb(102, 101, 101)"
            ],
            [
             0.5454545454545454,
             "rgb(124, 123, 122)"
            ],
            [
             0.6363636363636364,
             "rgb(146, 146, 145)"
            ],
            [
             0.7272727272727273,
             "rgb(171, 171, 170)"
            ],
            [
             0.8181818181818182,
             "rgb(197, 197, 195)"
            ],
            [
             0.9090909090909091,
             "rgb(224, 224, 223)"
            ],
            [
             1,
             "rgb(254, 254, 253)"
            ]
           ],
           "name": "image",
           "showscale": false,
           "type": "heatmap",
           "z": [
            [
             1,
             1,
             1,
             1,
             0,
             0,
             0,
             0
            ],
            [
             1,
             1,
             1,
             1,
             0,
             0,
             0,
             0
            ],
            [
             1,
             1,
             1,
             1,
             0,
             0,
             0,
             0
            ],
            [
             1,
             1,
             1,
             1,
             0,
             0,
             0,
             0
            ],
            [
             1,
             1,
             1,
             1,
             0,
             0,
             0,
             0
            ],
            [
             1,
             1,
             1,
             1,
             0,
             0,
             0,
             0
            ],
            [
             1,
             1,
             1,
             1,
             0,
             0,
             0,
             0
            ],
            [
             1,
             1,
             1,
             1,
             0,
             0,
             0,
             0
            ]
           ]
          },
          {
           "line": {
            "color": "red",
            "width": 2
           },
           "mode": "lines",
           "name": "filter",
           "type": "scatter",
           "x": [
            -0.5,
            2.5,
            2.5,
            -0.5,
            -0.5
           ],
           "y": [
            2.5,
            2.5,
            5.5,
            5.5,
            2.5
           ]
          }
         ],
         "name": "frame_4_1"
        },
        {
         "data": [
          {
           "colorscale": [
            [
             0,
             "rgb(0, 0, 0)"
            ],
            [
             0.09090909090909091,
             "rgb(16, 16, 16)"
            ],
            [
             0.18181818181818182,
             "rgb(38, 38, 38)"
            ],
            [
             0.2727272727272727,
             "rgb(59, 59, 59)"
            ],
            [
             0.36363636363636365,
             "rgb(81, 80, 80)"
            ],
            [
             0.45454545454545453,
             "rgb(102, 101, 101)"
            ],
            [
             0.5454545454545454,
             "rgb(124, 123, 122)"
            ],
            [
             0.6363636363636364,
             "rgb(146, 146, 145)"
            ],
            [
             0.7272727272727273,
             "rgb(171, 171, 170)"
            ],
            [
             0.8181818181818182,
             "rgb(197, 197, 195)"
            ],
            [
             0.9090909090909091,
             "rgb(224, 224, 223)"
            ],
            [
             1,
             "rgb(254, 254, 253)"
            ]
           ],
           "name": "image",
           "showscale": false,
           "type": "heatmap",
           "z": [
            [
             1,
             1,
             1,
             1,
             0,
             0,
             0,
             0
            ],
            [
             1,
             1,
             1,
             1,
             0,
             0,
             0,
             0
            ],
            [
             1,
             1,
             1,
             1,
             0,
             0,
             0,
             0
            ],
            [
             1,
             1,
             1,
             1,
             0,
             0,
             0,
             0
            ],
            [
             1,
             1,
             1,
             1,
             0,
             0,
             0,
             0
            ],
            [
             1,
             1,
             1,
             1,
             0,
             0,
             0,
             0
            ],
            [
             1,
             1,
             1,
             1,
             0,
             0,
             0,
             0
            ],
            [
             1,
             1,
             1,
             1,
             0,
             0,
             0,
             0
            ]
           ]
          },
          {
           "line": {
            "color": "red",
            "width": 2
           },
           "mode": "lines",
           "name": "filter",
           "type": "scatter",
           "x": [
            0.5,
            3.5,
            3.5,
            0.5,
            0.5
           ],
           "y": [
            2.5,
            2.5,
            5.5,
            5.5,
            2.5
           ]
          }
         ],
         "name": "frame_4_2"
        },
        {
         "data": [
          {
           "colorscale": [
            [
             0,
             "rgb(0, 0, 0)"
            ],
            [
             0.09090909090909091,
             "rgb(16, 16, 16)"
            ],
            [
             0.18181818181818182,
             "rgb(38, 38, 38)"
            ],
            [
             0.2727272727272727,
             "rgb(59, 59, 59)"
            ],
            [
             0.36363636363636365,
             "rgb(81, 80, 80)"
            ],
            [
             0.45454545454545453,
             "rgb(102, 101, 101)"
            ],
            [
             0.5454545454545454,
             "rgb(124, 123, 122)"
            ],
            [
             0.6363636363636364,
             "rgb(146, 146, 145)"
            ],
            [
             0.7272727272727273,
             "rgb(171, 171, 170)"
            ],
            [
             0.8181818181818182,
             "rgb(197, 197, 195)"
            ],
            [
             0.9090909090909091,
             "rgb(224, 224, 223)"
            ],
            [
             1,
             "rgb(254, 254, 253)"
            ]
           ],
           "name": "image",
           "showscale": false,
           "type": "heatmap",
           "z": [
            [
             1,
             1,
             1,
             1,
             0,
             0,
             0,
             0
            ],
            [
             1,
             1,
             1,
             1,
             0,
             0,
             0,
             0
            ],
            [
             1,
             1,
             1,
             1,
             0,
             0,
             0,
             0
            ],
            [
             1,
             1,
             1,
             1,
             0,
             0,
             0,
             0
            ],
            [
             1,
             1,
             1,
             1,
             0,
             0,
             0,
             0
            ],
            [
             1,
             1,
             1,
             1,
             0,
             0,
             0,
             0
            ],
            [
             1,
             1,
             1,
             1,
             0,
             0,
             0,
             0
            ],
            [
             1,
             1,
             1,
             1,
             0,
             0,
             0,
             0
            ]
           ]
          },
          {
           "line": {
            "color": "red",
            "width": 2
           },
           "mode": "lines",
           "name": "filter",
           "type": "scatter",
           "x": [
            1.5,
            4.5,
            4.5,
            1.5,
            1.5
           ],
           "y": [
            2.5,
            2.5,
            5.5,
            5.5,
            2.5
           ]
          }
         ],
         "name": "frame_4_3"
        },
        {
         "data": [
          {
           "colorscale": [
            [
             0,
             "rgb(0, 0, 0)"
            ],
            [
             0.09090909090909091,
             "rgb(16, 16, 16)"
            ],
            [
             0.18181818181818182,
             "rgb(38, 38, 38)"
            ],
            [
             0.2727272727272727,
             "rgb(59, 59, 59)"
            ],
            [
             0.36363636363636365,
             "rgb(81, 80, 80)"
            ],
            [
             0.45454545454545453,
             "rgb(102, 101, 101)"
            ],
            [
             0.5454545454545454,
             "rgb(124, 123, 122)"
            ],
            [
             0.6363636363636364,
             "rgb(146, 146, 145)"
            ],
            [
             0.7272727272727273,
             "rgb(171, 171, 170)"
            ],
            [
             0.8181818181818182,
             "rgb(197, 197, 195)"
            ],
            [
             0.9090909090909091,
             "rgb(224, 224, 223)"
            ],
            [
             1,
             "rgb(254, 254, 253)"
            ]
           ],
           "name": "image",
           "showscale": false,
           "type": "heatmap",
           "z": [
            [
             1,
             1,
             1,
             1,
             0,
             0,
             0,
             0
            ],
            [
             1,
             1,
             1,
             1,
             0,
             0,
             0,
             0
            ],
            [
             1,
             1,
             1,
             1,
             0,
             0,
             0,
             0
            ],
            [
             1,
             1,
             1,
             1,
             0,
             0,
             0,
             0
            ],
            [
             1,
             1,
             1,
             1,
             0,
             0,
             0,
             0
            ],
            [
             1,
             1,
             1,
             1,
             0,
             0,
             0,
             0
            ],
            [
             1,
             1,
             1,
             1,
             0,
             0,
             0,
             0
            ],
            [
             1,
             1,
             1,
             1,
             0,
             0,
             0,
             0
            ]
           ]
          },
          {
           "line": {
            "color": "red",
            "width": 2
           },
           "mode": "lines",
           "name": "filter",
           "type": "scatter",
           "x": [
            2.5,
            5.5,
            5.5,
            2.5,
            2.5
           ],
           "y": [
            2.5,
            2.5,
            5.5,
            5.5,
            2.5
           ]
          }
         ],
         "name": "frame_4_4"
        },
        {
         "data": [
          {
           "colorscale": [
            [
             0,
             "rgb(0, 0, 0)"
            ],
            [
             0.09090909090909091,
             "rgb(16, 16, 16)"
            ],
            [
             0.18181818181818182,
             "rgb(38, 38, 38)"
            ],
            [
             0.2727272727272727,
             "rgb(59, 59, 59)"
            ],
            [
             0.36363636363636365,
             "rgb(81, 80, 80)"
            ],
            [
             0.45454545454545453,
             "rgb(102, 101, 101)"
            ],
            [
             0.5454545454545454,
             "rgb(124, 123, 122)"
            ],
            [
             0.6363636363636364,
             "rgb(146, 146, 145)"
            ],
            [
             0.7272727272727273,
             "rgb(171, 171, 170)"
            ],
            [
             0.8181818181818182,
             "rgb(197, 197, 195)"
            ],
            [
             0.9090909090909091,
             "rgb(224, 224, 223)"
            ],
            [
             1,
             "rgb(254, 254, 253)"
            ]
           ],
           "name": "image",
           "showscale": false,
           "type": "heatmap",
           "z": [
            [
             1,
             1,
             1,
             1,
             0,
             0,
             0,
             0
            ],
            [
             1,
             1,
             1,
             1,
             0,
             0,
             0,
             0
            ],
            [
             1,
             1,
             1,
             1,
             0,
             0,
             0,
             0
            ],
            [
             1,
             1,
             1,
             1,
             0,
             0,
             0,
             0
            ],
            [
             1,
             1,
             1,
             1,
             0,
             0,
             0,
             0
            ],
            [
             1,
             1,
             1,
             1,
             0,
             0,
             0,
             0
            ],
            [
             1,
             1,
             1,
             1,
             0,
             0,
             0,
             0
            ],
            [
             1,
             1,
             1,
             1,
             0,
             0,
             0,
             0
            ]
           ]
          },
          {
           "line": {
            "color": "red",
            "width": 2
           },
           "mode": "lines",
           "name": "filter",
           "type": "scatter",
           "x": [
            3.5,
            6.5,
            6.5,
            3.5,
            3.5
           ],
           "y": [
            2.5,
            2.5,
            5.5,
            5.5,
            2.5
           ]
          }
         ],
         "name": "frame_4_5"
        },
        {
         "data": [
          {
           "colorscale": [
            [
             0,
             "rgb(0, 0, 0)"
            ],
            [
             0.09090909090909091,
             "rgb(16, 16, 16)"
            ],
            [
             0.18181818181818182,
             "rgb(38, 38, 38)"
            ],
            [
             0.2727272727272727,
             "rgb(59, 59, 59)"
            ],
            [
             0.36363636363636365,
             "rgb(81, 80, 80)"
            ],
            [
             0.45454545454545453,
             "rgb(102, 101, 101)"
            ],
            [
             0.5454545454545454,
             "rgb(124, 123, 122)"
            ],
            [
             0.6363636363636364,
             "rgb(146, 146, 145)"
            ],
            [
             0.7272727272727273,
             "rgb(171, 171, 170)"
            ],
            [
             0.8181818181818182,
             "rgb(197, 197, 195)"
            ],
            [
             0.9090909090909091,
             "rgb(224, 224, 223)"
            ],
            [
             1,
             "rgb(254, 254, 253)"
            ]
           ],
           "name": "image",
           "showscale": false,
           "type": "heatmap",
           "z": [
            [
             1,
             1,
             1,
             1,
             0,
             0,
             0,
             0
            ],
            [
             1,
             1,
             1,
             1,
             0,
             0,
             0,
             0
            ],
            [
             1,
             1,
             1,
             1,
             0,
             0,
             0,
             0
            ],
            [
             1,
             1,
             1,
             1,
             0,
             0,
             0,
             0
            ],
            [
             1,
             1,
             1,
             1,
             0,
             0,
             0,
             0
            ],
            [
             1,
             1,
             1,
             1,
             0,
             0,
             0,
             0
            ],
            [
             1,
             1,
             1,
             1,
             0,
             0,
             0,
             0
            ],
            [
             1,
             1,
             1,
             1,
             0,
             0,
             0,
             0
            ]
           ]
          },
          {
           "line": {
            "color": "red",
            "width": 2
           },
           "mode": "lines",
           "name": "filter",
           "type": "scatter",
           "x": [
            4.5,
            7.5,
            7.5,
            4.5,
            4.5
           ],
           "y": [
            2.5,
            2.5,
            5.5,
            5.5,
            2.5
           ]
          }
         ],
         "name": "frame_4_6"
        },
        {
         "data": [
          {
           "colorscale": [
            [
             0,
             "rgb(0, 0, 0)"
            ],
            [
             0.09090909090909091,
             "rgb(16, 16, 16)"
            ],
            [
             0.18181818181818182,
             "rgb(38, 38, 38)"
            ],
            [
             0.2727272727272727,
             "rgb(59, 59, 59)"
            ],
            [
             0.36363636363636365,
             "rgb(81, 80, 80)"
            ],
            [
             0.45454545454545453,
             "rgb(102, 101, 101)"
            ],
            [
             0.5454545454545454,
             "rgb(124, 123, 122)"
            ],
            [
             0.6363636363636364,
             "rgb(146, 146, 145)"
            ],
            [
             0.7272727272727273,
             "rgb(171, 171, 170)"
            ],
            [
             0.8181818181818182,
             "rgb(197, 197, 195)"
            ],
            [
             0.9090909090909091,
             "rgb(224, 224, 223)"
            ],
            [
             1,
             "rgb(254, 254, 253)"
            ]
           ],
           "name": "image",
           "showscale": false,
           "type": "heatmap",
           "z": [
            [
             1,
             1,
             1,
             1,
             0,
             0,
             0,
             0
            ],
            [
             1,
             1,
             1,
             1,
             0,
             0,
             0,
             0
            ],
            [
             1,
             1,
             1,
             1,
             0,
             0,
             0,
             0
            ],
            [
             1,
             1,
             1,
             1,
             0,
             0,
             0,
             0
            ],
            [
             1,
             1,
             1,
             1,
             0,
             0,
             0,
             0
            ],
            [
             1,
             1,
             1,
             1,
             0,
             0,
             0,
             0
            ],
            [
             1,
             1,
             1,
             1,
             0,
             0,
             0,
             0
            ],
            [
             1,
             1,
             1,
             1,
             0,
             0,
             0,
             0
            ]
           ]
          },
          {
           "line": {
            "color": "red",
            "width": 2
           },
           "mode": "lines",
           "name": "filter",
           "type": "scatter",
           "x": [
            -0.5,
            2.5,
            2.5,
            -0.5,
            -0.5
           ],
           "y": [
            3.5,
            3.5,
            6.5,
            6.5,
            3.5
           ]
          }
         ],
         "name": "frame_5_1"
        },
        {
         "data": [
          {
           "colorscale": [
            [
             0,
             "rgb(0, 0, 0)"
            ],
            [
             0.09090909090909091,
             "rgb(16, 16, 16)"
            ],
            [
             0.18181818181818182,
             "rgb(38, 38, 38)"
            ],
            [
             0.2727272727272727,
             "rgb(59, 59, 59)"
            ],
            [
             0.36363636363636365,
             "rgb(81, 80, 80)"
            ],
            [
             0.45454545454545453,
             "rgb(102, 101, 101)"
            ],
            [
             0.5454545454545454,
             "rgb(124, 123, 122)"
            ],
            [
             0.6363636363636364,
             "rgb(146, 146, 145)"
            ],
            [
             0.7272727272727273,
             "rgb(171, 171, 170)"
            ],
            [
             0.8181818181818182,
             "rgb(197, 197, 195)"
            ],
            [
             0.9090909090909091,
             "rgb(224, 224, 223)"
            ],
            [
             1,
             "rgb(254, 254, 253)"
            ]
           ],
           "name": "image",
           "showscale": false,
           "type": "heatmap",
           "z": [
            [
             1,
             1,
             1,
             1,
             0,
             0,
             0,
             0
            ],
            [
             1,
             1,
             1,
             1,
             0,
             0,
             0,
             0
            ],
            [
             1,
             1,
             1,
             1,
             0,
             0,
             0,
             0
            ],
            [
             1,
             1,
             1,
             1,
             0,
             0,
             0,
             0
            ],
            [
             1,
             1,
             1,
             1,
             0,
             0,
             0,
             0
            ],
            [
             1,
             1,
             1,
             1,
             0,
             0,
             0,
             0
            ],
            [
             1,
             1,
             1,
             1,
             0,
             0,
             0,
             0
            ],
            [
             1,
             1,
             1,
             1,
             0,
             0,
             0,
             0
            ]
           ]
          },
          {
           "line": {
            "color": "red",
            "width": 2
           },
           "mode": "lines",
           "name": "filter",
           "type": "scatter",
           "x": [
            0.5,
            3.5,
            3.5,
            0.5,
            0.5
           ],
           "y": [
            3.5,
            3.5,
            6.5,
            6.5,
            3.5
           ]
          }
         ],
         "name": "frame_5_2"
        },
        {
         "data": [
          {
           "colorscale": [
            [
             0,
             "rgb(0, 0, 0)"
            ],
            [
             0.09090909090909091,
             "rgb(16, 16, 16)"
            ],
            [
             0.18181818181818182,
             "rgb(38, 38, 38)"
            ],
            [
             0.2727272727272727,
             "rgb(59, 59, 59)"
            ],
            [
             0.36363636363636365,
             "rgb(81, 80, 80)"
            ],
            [
             0.45454545454545453,
             "rgb(102, 101, 101)"
            ],
            [
             0.5454545454545454,
             "rgb(124, 123, 122)"
            ],
            [
             0.6363636363636364,
             "rgb(146, 146, 145)"
            ],
            [
             0.7272727272727273,
             "rgb(171, 171, 170)"
            ],
            [
             0.8181818181818182,
             "rgb(197, 197, 195)"
            ],
            [
             0.9090909090909091,
             "rgb(224, 224, 223)"
            ],
            [
             1,
             "rgb(254, 254, 253)"
            ]
           ],
           "name": "image",
           "showscale": false,
           "type": "heatmap",
           "z": [
            [
             1,
             1,
             1,
             1,
             0,
             0,
             0,
             0
            ],
            [
             1,
             1,
             1,
             1,
             0,
             0,
             0,
             0
            ],
            [
             1,
             1,
             1,
             1,
             0,
             0,
             0,
             0
            ],
            [
             1,
             1,
             1,
             1,
             0,
             0,
             0,
             0
            ],
            [
             1,
             1,
             1,
             1,
             0,
             0,
             0,
             0
            ],
            [
             1,
             1,
             1,
             1,
             0,
             0,
             0,
             0
            ],
            [
             1,
             1,
             1,
             1,
             0,
             0,
             0,
             0
            ],
            [
             1,
             1,
             1,
             1,
             0,
             0,
             0,
             0
            ]
           ]
          },
          {
           "line": {
            "color": "red",
            "width": 2
           },
           "mode": "lines",
           "name": "filter",
           "type": "scatter",
           "x": [
            1.5,
            4.5,
            4.5,
            1.5,
            1.5
           ],
           "y": [
            3.5,
            3.5,
            6.5,
            6.5,
            3.5
           ]
          }
         ],
         "name": "frame_5_3"
        },
        {
         "data": [
          {
           "colorscale": [
            [
             0,
             "rgb(0, 0, 0)"
            ],
            [
             0.09090909090909091,
             "rgb(16, 16, 16)"
            ],
            [
             0.18181818181818182,
             "rgb(38, 38, 38)"
            ],
            [
             0.2727272727272727,
             "rgb(59, 59, 59)"
            ],
            [
             0.36363636363636365,
             "rgb(81, 80, 80)"
            ],
            [
             0.45454545454545453,
             "rgb(102, 101, 101)"
            ],
            [
             0.5454545454545454,
             "rgb(124, 123, 122)"
            ],
            [
             0.6363636363636364,
             "rgb(146, 146, 145)"
            ],
            [
             0.7272727272727273,
             "rgb(171, 171, 170)"
            ],
            [
             0.8181818181818182,
             "rgb(197, 197, 195)"
            ],
            [
             0.9090909090909091,
             "rgb(224, 224, 223)"
            ],
            [
             1,
             "rgb(254, 254, 253)"
            ]
           ],
           "name": "image",
           "showscale": false,
           "type": "heatmap",
           "z": [
            [
             1,
             1,
             1,
             1,
             0,
             0,
             0,
             0
            ],
            [
             1,
             1,
             1,
             1,
             0,
             0,
             0,
             0
            ],
            [
             1,
             1,
             1,
             1,
             0,
             0,
             0,
             0
            ],
            [
             1,
             1,
             1,
             1,
             0,
             0,
             0,
             0
            ],
            [
             1,
             1,
             1,
             1,
             0,
             0,
             0,
             0
            ],
            [
             1,
             1,
             1,
             1,
             0,
             0,
             0,
             0
            ],
            [
             1,
             1,
             1,
             1,
             0,
             0,
             0,
             0
            ],
            [
             1,
             1,
             1,
             1,
             0,
             0,
             0,
             0
            ]
           ]
          },
          {
           "line": {
            "color": "red",
            "width": 2
           },
           "mode": "lines",
           "name": "filter",
           "type": "scatter",
           "x": [
            2.5,
            5.5,
            5.5,
            2.5,
            2.5
           ],
           "y": [
            3.5,
            3.5,
            6.5,
            6.5,
            3.5
           ]
          }
         ],
         "name": "frame_5_4"
        },
        {
         "data": [
          {
           "colorscale": [
            [
             0,
             "rgb(0, 0, 0)"
            ],
            [
             0.09090909090909091,
             "rgb(16, 16, 16)"
            ],
            [
             0.18181818181818182,
             "rgb(38, 38, 38)"
            ],
            [
             0.2727272727272727,
             "rgb(59, 59, 59)"
            ],
            [
             0.36363636363636365,
             "rgb(81, 80, 80)"
            ],
            [
             0.45454545454545453,
             "rgb(102, 101, 101)"
            ],
            [
             0.5454545454545454,
             "rgb(124, 123, 122)"
            ],
            [
             0.6363636363636364,
             "rgb(146, 146, 145)"
            ],
            [
             0.7272727272727273,
             "rgb(171, 171, 170)"
            ],
            [
             0.8181818181818182,
             "rgb(197, 197, 195)"
            ],
            [
             0.9090909090909091,
             "rgb(224, 224, 223)"
            ],
            [
             1,
             "rgb(254, 254, 253)"
            ]
           ],
           "name": "image",
           "showscale": false,
           "type": "heatmap",
           "z": [
            [
             1,
             1,
             1,
             1,
             0,
             0,
             0,
             0
            ],
            [
             1,
             1,
             1,
             1,
             0,
             0,
             0,
             0
            ],
            [
             1,
             1,
             1,
             1,
             0,
             0,
             0,
             0
            ],
            [
             1,
             1,
             1,
             1,
             0,
             0,
             0,
             0
            ],
            [
             1,
             1,
             1,
             1,
             0,
             0,
             0,
             0
            ],
            [
             1,
             1,
             1,
             1,
             0,
             0,
             0,
             0
            ],
            [
             1,
             1,
             1,
             1,
             0,
             0,
             0,
             0
            ],
            [
             1,
             1,
             1,
             1,
             0,
             0,
             0,
             0
            ]
           ]
          },
          {
           "line": {
            "color": "red",
            "width": 2
           },
           "mode": "lines",
           "name": "filter",
           "type": "scatter",
           "x": [
            3.5,
            6.5,
            6.5,
            3.5,
            3.5
           ],
           "y": [
            3.5,
            3.5,
            6.5,
            6.5,
            3.5
           ]
          }
         ],
         "name": "frame_5_5"
        },
        {
         "data": [
          {
           "colorscale": [
            [
             0,
             "rgb(0, 0, 0)"
            ],
            [
             0.09090909090909091,
             "rgb(16, 16, 16)"
            ],
            [
             0.18181818181818182,
             "rgb(38, 38, 38)"
            ],
            [
             0.2727272727272727,
             "rgb(59, 59, 59)"
            ],
            [
             0.36363636363636365,
             "rgb(81, 80, 80)"
            ],
            [
             0.45454545454545453,
             "rgb(102, 101, 101)"
            ],
            [
             0.5454545454545454,
             "rgb(124, 123, 122)"
            ],
            [
             0.6363636363636364,
             "rgb(146, 146, 145)"
            ],
            [
             0.7272727272727273,
             "rgb(171, 171, 170)"
            ],
            [
             0.8181818181818182,
             "rgb(197, 197, 195)"
            ],
            [
             0.9090909090909091,
             "rgb(224, 224, 223)"
            ],
            [
             1,
             "rgb(254, 254, 253)"
            ]
           ],
           "name": "image",
           "showscale": false,
           "type": "heatmap",
           "z": [
            [
             1,
             1,
             1,
             1,
             0,
             0,
             0,
             0
            ],
            [
             1,
             1,
             1,
             1,
             0,
             0,
             0,
             0
            ],
            [
             1,
             1,
             1,
             1,
             0,
             0,
             0,
             0
            ],
            [
             1,
             1,
             1,
             1,
             0,
             0,
             0,
             0
            ],
            [
             1,
             1,
             1,
             1,
             0,
             0,
             0,
             0
            ],
            [
             1,
             1,
             1,
             1,
             0,
             0,
             0,
             0
            ],
            [
             1,
             1,
             1,
             1,
             0,
             0,
             0,
             0
            ],
            [
             1,
             1,
             1,
             1,
             0,
             0,
             0,
             0
            ]
           ]
          },
          {
           "line": {
            "color": "red",
            "width": 2
           },
           "mode": "lines",
           "name": "filter",
           "type": "scatter",
           "x": [
            4.5,
            7.5,
            7.5,
            4.5,
            4.5
           ],
           "y": [
            3.5,
            3.5,
            6.5,
            6.5,
            3.5
           ]
          }
         ],
         "name": "frame_5_6"
        },
        {
         "data": [
          {
           "colorscale": [
            [
             0,
             "rgb(0, 0, 0)"
            ],
            [
             0.09090909090909091,
             "rgb(16, 16, 16)"
            ],
            [
             0.18181818181818182,
             "rgb(38, 38, 38)"
            ],
            [
             0.2727272727272727,
             "rgb(59, 59, 59)"
            ],
            [
             0.36363636363636365,
             "rgb(81, 80, 80)"
            ],
            [
             0.45454545454545453,
             "rgb(102, 101, 101)"
            ],
            [
             0.5454545454545454,
             "rgb(124, 123, 122)"
            ],
            [
             0.6363636363636364,
             "rgb(146, 146, 145)"
            ],
            [
             0.7272727272727273,
             "rgb(171, 171, 170)"
            ],
            [
             0.8181818181818182,
             "rgb(197, 197, 195)"
            ],
            [
             0.9090909090909091,
             "rgb(224, 224, 223)"
            ],
            [
             1,
             "rgb(254, 254, 253)"
            ]
           ],
           "name": "image",
           "showscale": false,
           "type": "heatmap",
           "z": [
            [
             1,
             1,
             1,
             1,
             0,
             0,
             0,
             0
            ],
            [
             1,
             1,
             1,
             1,
             0,
             0,
             0,
             0
            ],
            [
             1,
             1,
             1,
             1,
             0,
             0,
             0,
             0
            ],
            [
             1,
             1,
             1,
             1,
             0,
             0,
             0,
             0
            ],
            [
             1,
             1,
             1,
             1,
             0,
             0,
             0,
             0
            ],
            [
             1,
             1,
             1,
             1,
             0,
             0,
             0,
             0
            ],
            [
             1,
             1,
             1,
             1,
             0,
             0,
             0,
             0
            ],
            [
             1,
             1,
             1,
             1,
             0,
             0,
             0,
             0
            ]
           ]
          },
          {
           "line": {
            "color": "red",
            "width": 2
           },
           "mode": "lines",
           "name": "filter",
           "type": "scatter",
           "x": [
            -0.5,
            2.5,
            2.5,
            -0.5,
            -0.5
           ],
           "y": [
            4.5,
            4.5,
            7.5,
            7.5,
            4.5
           ]
          }
         ],
         "name": "frame_6_1"
        },
        {
         "data": [
          {
           "colorscale": [
            [
             0,
             "rgb(0, 0, 0)"
            ],
            [
             0.09090909090909091,
             "rgb(16, 16, 16)"
            ],
            [
             0.18181818181818182,
             "rgb(38, 38, 38)"
            ],
            [
             0.2727272727272727,
             "rgb(59, 59, 59)"
            ],
            [
             0.36363636363636365,
             "rgb(81, 80, 80)"
            ],
            [
             0.45454545454545453,
             "rgb(102, 101, 101)"
            ],
            [
             0.5454545454545454,
             "rgb(124, 123, 122)"
            ],
            [
             0.6363636363636364,
             "rgb(146, 146, 145)"
            ],
            [
             0.7272727272727273,
             "rgb(171, 171, 170)"
            ],
            [
             0.8181818181818182,
             "rgb(197, 197, 195)"
            ],
            [
             0.9090909090909091,
             "rgb(224, 224, 223)"
            ],
            [
             1,
             "rgb(254, 254, 253)"
            ]
           ],
           "name": "image",
           "showscale": false,
           "type": "heatmap",
           "z": [
            [
             1,
             1,
             1,
             1,
             0,
             0,
             0,
             0
            ],
            [
             1,
             1,
             1,
             1,
             0,
             0,
             0,
             0
            ],
            [
             1,
             1,
             1,
             1,
             0,
             0,
             0,
             0
            ],
            [
             1,
             1,
             1,
             1,
             0,
             0,
             0,
             0
            ],
            [
             1,
             1,
             1,
             1,
             0,
             0,
             0,
             0
            ],
            [
             1,
             1,
             1,
             1,
             0,
             0,
             0,
             0
            ],
            [
             1,
             1,
             1,
             1,
             0,
             0,
             0,
             0
            ],
            [
             1,
             1,
             1,
             1,
             0,
             0,
             0,
             0
            ]
           ]
          },
          {
           "line": {
            "color": "red",
            "width": 2
           },
           "mode": "lines",
           "name": "filter",
           "type": "scatter",
           "x": [
            0.5,
            3.5,
            3.5,
            0.5,
            0.5
           ],
           "y": [
            4.5,
            4.5,
            7.5,
            7.5,
            4.5
           ]
          }
         ],
         "name": "frame_6_2"
        },
        {
         "data": [
          {
           "colorscale": [
            [
             0,
             "rgb(0, 0, 0)"
            ],
            [
             0.09090909090909091,
             "rgb(16, 16, 16)"
            ],
            [
             0.18181818181818182,
             "rgb(38, 38, 38)"
            ],
            [
             0.2727272727272727,
             "rgb(59, 59, 59)"
            ],
            [
             0.36363636363636365,
             "rgb(81, 80, 80)"
            ],
            [
             0.45454545454545453,
             "rgb(102, 101, 101)"
            ],
            [
             0.5454545454545454,
             "rgb(124, 123, 122)"
            ],
            [
             0.6363636363636364,
             "rgb(146, 146, 145)"
            ],
            [
             0.7272727272727273,
             "rgb(171, 171, 170)"
            ],
            [
             0.8181818181818182,
             "rgb(197, 197, 195)"
            ],
            [
             0.9090909090909091,
             "rgb(224, 224, 223)"
            ],
            [
             1,
             "rgb(254, 254, 253)"
            ]
           ],
           "name": "image",
           "showscale": false,
           "type": "heatmap",
           "z": [
            [
             1,
             1,
             1,
             1,
             0,
             0,
             0,
             0
            ],
            [
             1,
             1,
             1,
             1,
             0,
             0,
             0,
             0
            ],
            [
             1,
             1,
             1,
             1,
             0,
             0,
             0,
             0
            ],
            [
             1,
             1,
             1,
             1,
             0,
             0,
             0,
             0
            ],
            [
             1,
             1,
             1,
             1,
             0,
             0,
             0,
             0
            ],
            [
             1,
             1,
             1,
             1,
             0,
             0,
             0,
             0
            ],
            [
             1,
             1,
             1,
             1,
             0,
             0,
             0,
             0
            ],
            [
             1,
             1,
             1,
             1,
             0,
             0,
             0,
             0
            ]
           ]
          },
          {
           "line": {
            "color": "red",
            "width": 2
           },
           "mode": "lines",
           "name": "filter",
           "type": "scatter",
           "x": [
            1.5,
            4.5,
            4.5,
            1.5,
            1.5
           ],
           "y": [
            4.5,
            4.5,
            7.5,
            7.5,
            4.5
           ]
          }
         ],
         "name": "frame_6_3"
        },
        {
         "data": [
          {
           "colorscale": [
            [
             0,
             "rgb(0, 0, 0)"
            ],
            [
             0.09090909090909091,
             "rgb(16, 16, 16)"
            ],
            [
             0.18181818181818182,
             "rgb(38, 38, 38)"
            ],
            [
             0.2727272727272727,
             "rgb(59, 59, 59)"
            ],
            [
             0.36363636363636365,
             "rgb(81, 80, 80)"
            ],
            [
             0.45454545454545453,
             "rgb(102, 101, 101)"
            ],
            [
             0.5454545454545454,
             "rgb(124, 123, 122)"
            ],
            [
             0.6363636363636364,
             "rgb(146, 146, 145)"
            ],
            [
             0.7272727272727273,
             "rgb(171, 171, 170)"
            ],
            [
             0.8181818181818182,
             "rgb(197, 197, 195)"
            ],
            [
             0.9090909090909091,
             "rgb(224, 224, 223)"
            ],
            [
             1,
             "rgb(254, 254, 253)"
            ]
           ],
           "name": "image",
           "showscale": false,
           "type": "heatmap",
           "z": [
            [
             1,
             1,
             1,
             1,
             0,
             0,
             0,
             0
            ],
            [
             1,
             1,
             1,
             1,
             0,
             0,
             0,
             0
            ],
            [
             1,
             1,
             1,
             1,
             0,
             0,
             0,
             0
            ],
            [
             1,
             1,
             1,
             1,
             0,
             0,
             0,
             0
            ],
            [
             1,
             1,
             1,
             1,
             0,
             0,
             0,
             0
            ],
            [
             1,
             1,
             1,
             1,
             0,
             0,
             0,
             0
            ],
            [
             1,
             1,
             1,
             1,
             0,
             0,
             0,
             0
            ],
            [
             1,
             1,
             1,
             1,
             0,
             0,
             0,
             0
            ]
           ]
          },
          {
           "line": {
            "color": "red",
            "width": 2
           },
           "mode": "lines",
           "name": "filter",
           "type": "scatter",
           "x": [
            2.5,
            5.5,
            5.5,
            2.5,
            2.5
           ],
           "y": [
            4.5,
            4.5,
            7.5,
            7.5,
            4.5
           ]
          }
         ],
         "name": "frame_6_4"
        },
        {
         "data": [
          {
           "colorscale": [
            [
             0,
             "rgb(0, 0, 0)"
            ],
            [
             0.09090909090909091,
             "rgb(16, 16, 16)"
            ],
            [
             0.18181818181818182,
             "rgb(38, 38, 38)"
            ],
            [
             0.2727272727272727,
             "rgb(59, 59, 59)"
            ],
            [
             0.36363636363636365,
             "rgb(81, 80, 80)"
            ],
            [
             0.45454545454545453,
             "rgb(102, 101, 101)"
            ],
            [
             0.5454545454545454,
             "rgb(124, 123, 122)"
            ],
            [
             0.6363636363636364,
             "rgb(146, 146, 145)"
            ],
            [
             0.7272727272727273,
             "rgb(171, 171, 170)"
            ],
            [
             0.8181818181818182,
             "rgb(197, 197, 195)"
            ],
            [
             0.9090909090909091,
             "rgb(224, 224, 223)"
            ],
            [
             1,
             "rgb(254, 254, 253)"
            ]
           ],
           "name": "image",
           "showscale": false,
           "type": "heatmap",
           "z": [
            [
             1,
             1,
             1,
             1,
             0,
             0,
             0,
             0
            ],
            [
             1,
             1,
             1,
             1,
             0,
             0,
             0,
             0
            ],
            [
             1,
             1,
             1,
             1,
             0,
             0,
             0,
             0
            ],
            [
             1,
             1,
             1,
             1,
             0,
             0,
             0,
             0
            ],
            [
             1,
             1,
             1,
             1,
             0,
             0,
             0,
             0
            ],
            [
             1,
             1,
             1,
             1,
             0,
             0,
             0,
             0
            ],
            [
             1,
             1,
             1,
             1,
             0,
             0,
             0,
             0
            ],
            [
             1,
             1,
             1,
             1,
             0,
             0,
             0,
             0
            ]
           ]
          },
          {
           "line": {
            "color": "red",
            "width": 2
           },
           "mode": "lines",
           "name": "filter",
           "type": "scatter",
           "x": [
            3.5,
            6.5,
            6.5,
            3.5,
            3.5
           ],
           "y": [
            4.5,
            4.5,
            7.5,
            7.5,
            4.5
           ]
          }
         ],
         "name": "frame_6_5"
        },
        {
         "data": [
          {
           "colorscale": [
            [
             0,
             "rgb(0, 0, 0)"
            ],
            [
             0.09090909090909091,
             "rgb(16, 16, 16)"
            ],
            [
             0.18181818181818182,
             "rgb(38, 38, 38)"
            ],
            [
             0.2727272727272727,
             "rgb(59, 59, 59)"
            ],
            [
             0.36363636363636365,
             "rgb(81, 80, 80)"
            ],
            [
             0.45454545454545453,
             "rgb(102, 101, 101)"
            ],
            [
             0.5454545454545454,
             "rgb(124, 123, 122)"
            ],
            [
             0.6363636363636364,
             "rgb(146, 146, 145)"
            ],
            [
             0.7272727272727273,
             "rgb(171, 171, 170)"
            ],
            [
             0.8181818181818182,
             "rgb(197, 197, 195)"
            ],
            [
             0.9090909090909091,
             "rgb(224, 224, 223)"
            ],
            [
             1,
             "rgb(254, 254, 253)"
            ]
           ],
           "name": "image",
           "showscale": false,
           "type": "heatmap",
           "z": [
            [
             1,
             1,
             1,
             1,
             0,
             0,
             0,
             0
            ],
            [
             1,
             1,
             1,
             1,
             0,
             0,
             0,
             0
            ],
            [
             1,
             1,
             1,
             1,
             0,
             0,
             0,
             0
            ],
            [
             1,
             1,
             1,
             1,
             0,
             0,
             0,
             0
            ],
            [
             1,
             1,
             1,
             1,
             0,
             0,
             0,
             0
            ],
            [
             1,
             1,
             1,
             1,
             0,
             0,
             0,
             0
            ],
            [
             1,
             1,
             1,
             1,
             0,
             0,
             0,
             0
            ],
            [
             1,
             1,
             1,
             1,
             0,
             0,
             0,
             0
            ]
           ]
          },
          {
           "line": {
            "color": "red",
            "width": 2
           },
           "mode": "lines",
           "name": "filter",
           "type": "scatter",
           "x": [
            4.5,
            7.5,
            7.5,
            4.5,
            4.5
           ],
           "y": [
            4.5,
            4.5,
            7.5,
            7.5,
            4.5
           ]
          }
         ],
         "name": "frame_6_6"
        }
       ],
       "layout": {
        "height": 500,
        "template": {
         "data": {
          "bar": [
           {
            "error_x": {
             "color": "#2a3f5f"
            },
            "error_y": {
             "color": "#2a3f5f"
            },
            "marker": {
             "line": {
              "color": "#E5ECF6",
              "width": 0.5
             },
             "pattern": {
              "fillmode": "overlay",
              "size": 10,
              "solidity": 0.2
             }
            },
            "type": "bar"
           }
          ],
          "barpolar": [
           {
            "marker": {
             "line": {
              "color": "#E5ECF6",
              "width": 0.5
             },
             "pattern": {
              "fillmode": "overlay",
              "size": 10,
              "solidity": 0.2
             }
            },
            "type": "barpolar"
           }
          ],
          "carpet": [
           {
            "aaxis": {
             "endlinecolor": "#2a3f5f",
             "gridcolor": "white",
             "linecolor": "white",
             "minorgridcolor": "white",
             "startlinecolor": "#2a3f5f"
            },
            "baxis": {
             "endlinecolor": "#2a3f5f",
             "gridcolor": "white",
             "linecolor": "white",
             "minorgridcolor": "white",
             "startlinecolor": "#2a3f5f"
            },
            "type": "carpet"
           }
          ],
          "choropleth": [
           {
            "colorbar": {
             "outlinewidth": 0,
             "ticks": ""
            },
            "type": "choropleth"
           }
          ],
          "contour": [
           {
            "colorbar": {
             "outlinewidth": 0,
             "ticks": ""
            },
            "colorscale": [
             [
              0,
              "#0d0887"
             ],
             [
              0.1111111111111111,
              "#46039f"
             ],
             [
              0.2222222222222222,
              "#7201a8"
             ],
             [
              0.3333333333333333,
              "#9c179e"
             ],
             [
              0.4444444444444444,
              "#bd3786"
             ],
             [
              0.5555555555555556,
              "#d8576b"
             ],
             [
              0.6666666666666666,
              "#ed7953"
             ],
             [
              0.7777777777777778,
              "#fb9f3a"
             ],
             [
              0.8888888888888888,
              "#fdca26"
             ],
             [
              1,
              "#f0f921"
             ]
            ],
            "type": "contour"
           }
          ],
          "contourcarpet": [
           {
            "colorbar": {
             "outlinewidth": 0,
             "ticks": ""
            },
            "type": "contourcarpet"
           }
          ],
          "heatmap": [
           {
            "colorbar": {
             "outlinewidth": 0,
             "ticks": ""
            },
            "colorscale": [
             [
              0,
              "#0d0887"
             ],
             [
              0.1111111111111111,
              "#46039f"
             ],
             [
              0.2222222222222222,
              "#7201a8"
             ],
             [
              0.3333333333333333,
              "#9c179e"
             ],
             [
              0.4444444444444444,
              "#bd3786"
             ],
             [
              0.5555555555555556,
              "#d8576b"
             ],
             [
              0.6666666666666666,
              "#ed7953"
             ],
             [
              0.7777777777777778,
              "#fb9f3a"
             ],
             [
              0.8888888888888888,
              "#fdca26"
             ],
             [
              1,
              "#f0f921"
             ]
            ],
            "type": "heatmap"
           }
          ],
          "heatmapgl": [
           {
            "colorbar": {
             "outlinewidth": 0,
             "ticks": ""
            },
            "colorscale": [
             [
              0,
              "#0d0887"
             ],
             [
              0.1111111111111111,
              "#46039f"
             ],
             [
              0.2222222222222222,
              "#7201a8"
             ],
             [
              0.3333333333333333,
              "#9c179e"
             ],
             [
              0.4444444444444444,
              "#bd3786"
             ],
             [
              0.5555555555555556,
              "#d8576b"
             ],
             [
              0.6666666666666666,
              "#ed7953"
             ],
             [
              0.7777777777777778,
              "#fb9f3a"
             ],
             [
              0.8888888888888888,
              "#fdca26"
             ],
             [
              1,
              "#f0f921"
             ]
            ],
            "type": "heatmapgl"
           }
          ],
          "histogram": [
           {
            "marker": {
             "pattern": {
              "fillmode": "overlay",
              "size": 10,
              "solidity": 0.2
             }
            },
            "type": "histogram"
           }
          ],
          "histogram2d": [
           {
            "colorbar": {
             "outlinewidth": 0,
             "ticks": ""
            },
            "colorscale": [
             [
              0,
              "#0d0887"
             ],
             [
              0.1111111111111111,
              "#46039f"
             ],
             [
              0.2222222222222222,
              "#7201a8"
             ],
             [
              0.3333333333333333,
              "#9c179e"
             ],
             [
              0.4444444444444444,
              "#bd3786"
             ],
             [
              0.5555555555555556,
              "#d8576b"
             ],
             [
              0.6666666666666666,
              "#ed7953"
             ],
             [
              0.7777777777777778,
              "#fb9f3a"
             ],
             [
              0.8888888888888888,
              "#fdca26"
             ],
             [
              1,
              "#f0f921"
             ]
            ],
            "type": "histogram2d"
           }
          ],
          "histogram2dcontour": [
           {
            "colorbar": {
             "outlinewidth": 0,
             "ticks": ""
            },
            "colorscale": [
             [
              0,
              "#0d0887"
             ],
             [
              0.1111111111111111,
              "#46039f"
             ],
             [
              0.2222222222222222,
              "#7201a8"
             ],
             [
              0.3333333333333333,
              "#9c179e"
             ],
             [
              0.4444444444444444,
              "#bd3786"
             ],
             [
              0.5555555555555556,
              "#d8576b"
             ],
             [
              0.6666666666666666,
              "#ed7953"
             ],
             [
              0.7777777777777778,
              "#fb9f3a"
             ],
             [
              0.8888888888888888,
              "#fdca26"
             ],
             [
              1,
              "#f0f921"
             ]
            ],
            "type": "histogram2dcontour"
           }
          ],
          "mesh3d": [
           {
            "colorbar": {
             "outlinewidth": 0,
             "ticks": ""
            },
            "type": "mesh3d"
           }
          ],
          "parcoords": [
           {
            "line": {
             "colorbar": {
              "outlinewidth": 0,
              "ticks": ""
             }
            },
            "type": "parcoords"
           }
          ],
          "pie": [
           {
            "automargin": true,
            "type": "pie"
           }
          ],
          "scatter": [
           {
            "fillpattern": {
             "fillmode": "overlay",
             "size": 10,
             "solidity": 0.2
            },
            "type": "scatter"
           }
          ],
          "scatter3d": [
           {
            "line": {
             "colorbar": {
              "outlinewidth": 0,
              "ticks": ""
             }
            },
            "marker": {
             "colorbar": {
              "outlinewidth": 0,
              "ticks": ""
             }
            },
            "type": "scatter3d"
           }
          ],
          "scattercarpet": [
           {
            "marker": {
             "colorbar": {
              "outlinewidth": 0,
              "ticks": ""
             }
            },
            "type": "scattercarpet"
           }
          ],
          "scattergeo": [
           {
            "marker": {
             "colorbar": {
              "outlinewidth": 0,
              "ticks": ""
             }
            },
            "type": "scattergeo"
           }
          ],
          "scattergl": [
           {
            "marker": {
             "colorbar": {
              "outlinewidth": 0,
              "ticks": ""
             }
            },
            "type": "scattergl"
           }
          ],
          "scattermapbox": [
           {
            "marker": {
             "colorbar": {
              "outlinewidth": 0,
              "ticks": ""
             }
            },
            "type": "scattermapbox"
           }
          ],
          "scatterpolar": [
           {
            "marker": {
             "colorbar": {
              "outlinewidth": 0,
              "ticks": ""
             }
            },
            "type": "scatterpolar"
           }
          ],
          "scatterpolargl": [
           {
            "marker": {
             "colorbar": {
              "outlinewidth": 0,
              "ticks": ""
             }
            },
            "type": "scatterpolargl"
           }
          ],
          "scatterternary": [
           {
            "marker": {
             "colorbar": {
              "outlinewidth": 0,
              "ticks": ""
             }
            },
            "type": "scatterternary"
           }
          ],
          "surface": [
           {
            "colorbar": {
             "outlinewidth": 0,
             "ticks": ""
            },
            "colorscale": [
             [
              0,
              "#0d0887"
             ],
             [
              0.1111111111111111,
              "#46039f"
             ],
             [
              0.2222222222222222,
              "#7201a8"
             ],
             [
              0.3333333333333333,
              "#9c179e"
             ],
             [
              0.4444444444444444,
              "#bd3786"
             ],
             [
              0.5555555555555556,
              "#d8576b"
             ],
             [
              0.6666666666666666,
              "#ed7953"
             ],
             [
              0.7777777777777778,
              "#fb9f3a"
             ],
             [
              0.8888888888888888,
              "#fdca26"
             ],
             [
              1,
              "#f0f921"
             ]
            ],
            "type": "surface"
           }
          ],
          "table": [
           {
            "cells": {
             "fill": {
              "color": "#EBF0F8"
             },
             "line": {
              "color": "white"
             }
            },
            "header": {
             "fill": {
              "color": "#C8D4E3"
             },
             "line": {
              "color": "white"
             }
            },
            "type": "table"
           }
          ]
         },
         "layout": {
          "annotationdefaults": {
           "arrowcolor": "#2a3f5f",
           "arrowhead": 0,
           "arrowwidth": 1
          },
          "autotypenumbers": "strict",
          "coloraxis": {
           "colorbar": {
            "outlinewidth": 0,
            "ticks": ""
           }
          },
          "colorscale": {
           "diverging": [
            [
             0,
             "#8e0152"
            ],
            [
             0.1,
             "#c51b7d"
            ],
            [
             0.2,
             "#de77ae"
            ],
            [
             0.3,
             "#f1b6da"
            ],
            [
             0.4,
             "#fde0ef"
            ],
            [
             0.5,
             "#f7f7f7"
            ],
            [
             0.6,
             "#e6f5d0"
            ],
            [
             0.7,
             "#b8e186"
            ],
            [
             0.8,
             "#7fbc41"
            ],
            [
             0.9,
             "#4d9221"
            ],
            [
             1,
             "#276419"
            ]
           ],
           "sequential": [
            [
             0,
             "#0d0887"
            ],
            [
             0.1111111111111111,
             "#46039f"
            ],
            [
             0.2222222222222222,
             "#7201a8"
            ],
            [
             0.3333333333333333,
             "#9c179e"
            ],
            [
             0.4444444444444444,
             "#bd3786"
            ],
            [
             0.5555555555555556,
             "#d8576b"
            ],
            [
             0.6666666666666666,
             "#ed7953"
            ],
            [
             0.7777777777777778,
             "#fb9f3a"
            ],
            [
             0.8888888888888888,
             "#fdca26"
            ],
            [
             1,
             "#f0f921"
            ]
           ],
           "sequentialminus": [
            [
             0,
             "#0d0887"
            ],
            [
             0.1111111111111111,
             "#46039f"
            ],
            [
             0.2222222222222222,
             "#7201a8"
            ],
            [
             0.3333333333333333,
             "#9c179e"
            ],
            [
             0.4444444444444444,
             "#bd3786"
            ],
            [
             0.5555555555555556,
             "#d8576b"
            ],
            [
             0.6666666666666666,
             "#ed7953"
            ],
            [
             0.7777777777777778,
             "#fb9f3a"
            ],
            [
             0.8888888888888888,
             "#fdca26"
            ],
            [
             1,
             "#f0f921"
            ]
           ]
          },
          "colorway": [
           "#636efa",
           "#EF553B",
           "#00cc96",
           "#ab63fa",
           "#FFA15A",
           "#19d3f3",
           "#FF6692",
           "#B6E880",
           "#FF97FF",
           "#FECB52"
          ],
          "font": {
           "color": "#2a3f5f"
          },
          "geo": {
           "bgcolor": "white",
           "lakecolor": "white",
           "landcolor": "#E5ECF6",
           "showlakes": true,
           "showland": true,
           "subunitcolor": "white"
          },
          "hoverlabel": {
           "align": "left"
          },
          "hovermode": "closest",
          "mapbox": {
           "style": "light"
          },
          "paper_bgcolor": "white",
          "plot_bgcolor": "#E5ECF6",
          "polar": {
           "angularaxis": {
            "gridcolor": "white",
            "linecolor": "white",
            "ticks": ""
           },
           "bgcolor": "#E5ECF6",
           "radialaxis": {
            "gridcolor": "white",
            "linecolor": "white",
            "ticks": ""
           }
          },
          "scene": {
           "xaxis": {
            "backgroundcolor": "#E5ECF6",
            "gridcolor": "white",
            "gridwidth": 2,
            "linecolor": "white",
            "showbackground": true,
            "ticks": "",
            "zerolinecolor": "white"
           },
           "yaxis": {
            "backgroundcolor": "#E5ECF6",
            "gridcolor": "white",
            "gridwidth": 2,
            "linecolor": "white",
            "showbackground": true,
            "ticks": "",
            "zerolinecolor": "white"
           },
           "zaxis": {
            "backgroundcolor": "#E5ECF6",
            "gridcolor": "white",
            "gridwidth": 2,
            "linecolor": "white",
            "showbackground": true,
            "ticks": "",
            "zerolinecolor": "white"
           }
          },
          "shapedefaults": {
           "line": {
            "color": "#2a3f5f"
           }
          },
          "ternary": {
           "aaxis": {
            "gridcolor": "white",
            "linecolor": "white",
            "ticks": ""
           },
           "baxis": {
            "gridcolor": "white",
            "linecolor": "white",
            "ticks": ""
           },
           "bgcolor": "#E5ECF6",
           "caxis": {
            "gridcolor": "white",
            "linecolor": "white",
            "ticks": ""
           }
          },
          "title": {
           "x": 0.05
          },
          "xaxis": {
           "automargin": true,
           "gridcolor": "white",
           "linecolor": "white",
           "ticks": "",
           "title": {
            "standoff": 15
           },
           "zerolinecolor": "white",
           "zerolinewidth": 2
          },
          "yaxis": {
           "automargin": true,
           "gridcolor": "white",
           "linecolor": "white",
           "ticks": "",
           "title": {
            "standoff": 15
           },
           "zerolinecolor": "white",
           "zerolinewidth": 2
          }
         }
        },
        "title": {
         "text": "Filterverschiebung über das Bild"
        },
        "updatemenus": [
         {
          "buttons": [
           {
            "args": [
             null,
             {
              "frame": {
               "duration": 300,
               "redraw": true
              },
              "fromcurrent": true,
              "mode": "immediate"
             }
            ],
            "label": "Play",
            "method": "animate"
           }
          ],
          "showactive": false,
          "type": "buttons",
          "x": 0,
          "xanchor": "left",
          "y": 0,
          "yanchor": "top"
         }
        ],
        "width": 500,
        "xaxis": {
         "range": [
          -0.5,
          7.5
         ],
         "showgrid": false,
         "showticklabels": false,
         "zeroline": false
        },
        "yaxis": {
         "range": [
          -0.5,
          7.5
         ],
         "showgrid": false,
         "showticklabels": false,
         "zeroline": false
        }
       }
      }
     },
     "metadata": {},
     "output_type": "display_data"
    }
   ],
   "source": [
    "import numpy as np\n",
    "import plotly.graph_objects as go\n",
    "from plotly.subplots import make_subplots\n",
    "\n",
    "# Ein einfaches 8x8 Bild mit einer vertikalen Kante erstellen\n",
    "image = np.zeros((8, 8))\n",
    "image[:, :4] = 1  # Linke Hälfte weiß, rechte Hälfte schwarz\n",
    "\n",
    "# Kantenerkennungsfilter definieren\n",
    "filter = np.array([\n",
    "    [-1, 0, 1],\n",
    "    [-1, 0, 1],\n",
    "    [-1, 0, 1]\n",
    "])\n",
    "\n",
    "# Funktion für Convolution an einer Position\n",
    "def apply_filter(image, filter, pos_x, pos_y):\n",
    "    result = 0\n",
    "    for i in range(3):\n",
    "        for j in range(3):\n",
    "            if (pos_x+i-1 >= 0 and pos_x+i-1 < image.shape[0] and \n",
    "                pos_y+j-1 >= 0 and pos_y+j-1 < image.shape[1]):\n",
    "                result += image[pos_x+i-1, pos_y+j-1] * filter[i, j]\n",
    "    return result\n",
    "\n",
    "# Komplettes Ergebnisbild berechnen\n",
    "result_image = np.zeros_like(image)\n",
    "for i in range(1, image.shape[0]-1):\n",
    "    for j in range(1, image.shape[1]-1):\n",
    "        result_image[i, j] = apply_filter(image, filter, i, j)\n",
    "\n",
    "# Visualisierung\n",
    "def plot_convolution(image, filter, pos_x, pos_y):\n",
    "    # Erstelle Figure mit Subplots\n",
    "    fig = make_subplots(\n",
    "        rows=1, cols=3,\n",
    "        subplot_titles=('Eingabebild', 'Filter', 'Ergebnisbild'),\n",
    "        column_widths=[0.33, 0.33, 0.33]\n",
    "    )\n",
    "\n",
    "    # Eingabebild\n",
    "    fig.add_trace(\n",
    "        go.Heatmap(\n",
    "            z=image,\n",
    "            colorscale='gray',\n",
    "            showscale=False,\n",
    "            text=np.round(image, 2),\n",
    "            texttemplate='%{text}',\n",
    "            textfont={\"size\": 20},\n",
    "        ),\n",
    "        row=1, col=1\n",
    "    )\n",
    "\n",
    "    # Filter hervorheben\n",
    "    if pos_x is not None and pos_y is not None:\n",
    "        fig.add_trace(\n",
    "            go.Scatter(\n",
    "                x=[pos_y-1.5, pos_y+1.5, pos_y+1.5, pos_y-1.5, pos_y-1.5],\n",
    "                y=[pos_x-1.5, pos_x-1.5, pos_x+1.5, pos_x+1.5, pos_x-1.5],\n",
    "                mode='lines',\n",
    "                line=dict(color='red', width=2),\n",
    "                showlegend=False\n",
    "            ),\n",
    "            row=1, col=1\n",
    "        )\n",
    "\n",
    "    # Filter\n",
    "    fig.add_trace(\n",
    "        go.Heatmap(\n",
    "            z=filter,\n",
    "            colorscale='RdBu',\n",
    "            text=filter,\n",
    "            texttemplate='%{text}',\n",
    "            textfont={\"size\": 20},\n",
    "            showscale=False\n",
    "        ),\n",
    "        row=1, col=2\n",
    "    )\n",
    "\n",
    "    # Ergebnisbild\n",
    "    fig.add_trace(\n",
    "        go.Heatmap(\n",
    "            z=result_image,\n",
    "            colorscale='RdBu',\n",
    "            text=np.round(result_image, 2),\n",
    "            texttemplate='%{text}',\n",
    "            textfont={\"size\": 20},\n",
    "        ),\n",
    "        row=1, col=3\n",
    "    )\n",
    "\n",
    "    # Layout anpassen\n",
    "    fig.update_layout(\n",
    "        height=400,\n",
    "        width=1200,\n",
    "        title_text=f\"Convolution Demonstration (Position: {pos_x}, {pos_y})\",\n",
    "        showlegend=False\n",
    "    )\n",
    "\n",
    "    # Achsen anpassen\n",
    "    for i in range(1, 4):\n",
    "        fig.update_xaxes(showgrid=False, zeroline=False, showticklabels=False, row=1, col=i)\n",
    "        fig.update_yaxes(showgrid=False, zeroline=False, showticklabels=False, row=1, col=i)\n",
    "\n",
    "    fig.show()\n",
    "\n",
    "# Verschiedene Positionen zeigen\n",
    "positions = [(4, 2), (4, 3), (4, 4)]  # Positionen vor, auf und nach der Kante\n",
    "for pos_x, pos_y in positions:\n",
    "    plot_convolution(image, filter, pos_x, pos_y)\n",
    "\n",
    "# Zusätzlich: Animation der Filterverschiebung erstellen\n",
    "frames = []\n",
    "for x in range(1, 7):\n",
    "    for y in range(1, 7):\n",
    "        frames.append(go.Frame(\n",
    "            data=[\n",
    "                go.Heatmap(z=image, colorscale='gray', showscale=False),\n",
    "                go.Scatter(\n",
    "                    x=[y-1.5, y+1.5, y+1.5, y-1.5, y-1.5],\n",
    "                    y=[x-1.5, x-1.5, x+1.5, x+1.5, x-1.5],\n",
    "                    mode='lines',\n",
    "                    line=dict(color='red', width=2)\n",
    "                )\n",
    "            ],\n",
    "            name=f'frame_{x}_{y}'\n",
    "        ))\n",
    "fig = go.Figure()\n",
    "\n",
    "# Basisdaten (erstes Frame)\n",
    "fig.add_trace(\n",
    "    go.Heatmap(\n",
    "        z=image,\n",
    "        colorscale='gray',\n",
    "        showscale=False,\n",
    "        name='image'\n",
    "    )\n",
    ")\n",
    "\n",
    "fig.add_trace(\n",
    "    go.Scatter(\n",
    "        x=[1.5, 3.5, 3.5, 1.5, 1.5],\n",
    "        y=[1.5, 1.5, 3.5, 3.5, 1.5],\n",
    "        mode='lines',\n",
    "        line=dict(color='red', width=2),\n",
    "        name='filter'\n",
    "    )\n",
    ")\n",
    "\n",
    "# Frames erstellen\n",
    "frames = []\n",
    "for x in range(1, 7):\n",
    "    for y in range(1, 7):\n",
    "        frame = go.Frame(\n",
    "            data=[\n",
    "                # Bild in jedem Frame neu zeichnen\n",
    "                go.Heatmap(\n",
    "                    z=image,\n",
    "                    colorscale='gray',\n",
    "                    showscale=False,\n",
    "                    name='image'\n",
    "                ),\n",
    "                # Rotes Rechteck für Filter-Position\n",
    "                go.Scatter(\n",
    "                    x=[y-1.5, y+1.5, y+1.5, y-1.5, y-1.5],\n",
    "                    y=[x-1.5, x-1.5, x+1.5, x+1.5, x-1.5],\n",
    "                    mode='lines',\n",
    "                    line=dict(color='red', width=2),\n",
    "                    name='filter'\n",
    "                )\n",
    "            ],\n",
    "            name=f'frame_{x}_{y}'\n",
    "        )\n",
    "        frames.append(frame)\n",
    "\n",
    "fig.frames = frames\n",
    "\n",
    "# Layout optimieren\n",
    "fig.update_layout(\n",
    "    title=\"Filterverschiebung über das Bild\",\n",
    "    width=500,\n",
    "    height=500,\n",
    "    updatemenus=[{\n",
    "        'type': 'buttons',\n",
    "        'showactive': False,\n",
    "        'y': 0,\n",
    "        'x': 0,\n",
    "        'xanchor': 'left',\n",
    "        'yanchor': 'top',\n",
    "        'buttons': [{\n",
    "            'label': 'Play',\n",
    "            'method': 'animate',\n",
    "            'args': [None, {\n",
    "                'frame': {'duration': 300, 'redraw': True},\n",
    "                'fromcurrent': True,\n",
    "                'mode': 'immediate',\n",
    "            }]\n",
    "        }]\n",
    "    }]\n",
    ")\n",
    "\n",
    "# Achsen anpassen\n",
    "fig.update_xaxes(showgrid=False, zeroline=False, showticklabels=False, range=[-0.5, 7.5])\n",
    "fig.update_yaxes(showgrid=False, zeroline=False, showticklabels=False, range=[-0.5, 7.5])\n",
    "\n",
    "fig.show()"
   ]
  },
  {
   "cell_type": "markdown",
   "metadata": {},
   "source": [
    "# Wie Netze Sequenzen verarbeiten (RNNs)"
   ]
  },
  {
   "cell_type": "markdown",
   "metadata": {},
   "source": [
    "### RNN"
   ]
  },
  {
   "cell_type": "code",
   "execution_count": 2,
   "metadata": {},
   "outputs": [
    {
     "data": {
      "application/vnd.plotly.v1+json": {
       "config": {
        "plotlyServerURL": "https://plot.ly"
       },
       "data": [
        {
         "marker": {
          "color": "rgba(173, 216, 230, 0.7)",
          "line": {
           "color": "rgba(70, 70, 70, 0.8)",
           "width": 1
          },
          "size": 40
         },
         "mode": "markers+text",
         "name": "Input",
         "showlegend": true,
         "text": "x0",
         "textposition": "middle center",
         "type": "scatter",
         "x": [
          0
         ],
         "y": [
          0
         ]
        },
        {
         "marker": {
          "color": "rgba(144, 238, 144, 0.7)",
          "line": {
           "color": "rgba(70, 70, 70, 0.8)",
           "width": 1
          },
          "size": 60
         },
         "mode": "markers+text",
         "name": "Hidden",
         "showlegend": true,
         "text": "h0",
         "textposition": "middle center",
         "type": "scatter",
         "x": [
          0
         ],
         "y": [
          2
         ]
        },
        {
         "marker": {
          "color": "rgba(250, 128, 114, 0.7)",
          "line": {
           "color": "rgba(70, 70, 70, 0.8)",
           "width": 1
          },
          "size": 40
         },
         "mode": "markers+text",
         "name": "Output",
         "showlegend": true,
         "text": "y0",
         "textposition": "middle center",
         "type": "scatter",
         "x": [
          0
         ],
         "y": [
          4
         ]
        },
        {
         "line": {
          "color": "rgba(128, 128, 128, 0.4)",
          "width": 2
         },
         "mode": "lines",
         "showlegend": false,
         "type": "scatter",
         "x": [
          0,
          0
         ],
         "y": [
          0,
          2
         ]
        },
        {
         "line": {
          "color": "rgba(128, 128, 128, 0.4)",
          "width": 2
         },
         "mode": "lines",
         "showlegend": false,
         "type": "scatter",
         "x": [
          0,
          0
         ],
         "y": [
          2,
          4
         ]
        },
        {
         "line": {
          "color": "rgba(218, 112, 214, 0.7)",
          "width": 3
         },
         "mode": "lines",
         "showlegend": false,
         "type": "scatter",
         "x": [
          0,
          3
         ],
         "y": [
          2,
          2
         ]
        },
        {
         "marker": {
          "color": "rgba(173, 216, 230, 0.7)",
          "line": {
           "color": "rgba(70, 70, 70, 0.8)",
           "width": 1
          },
          "size": 40
         },
         "mode": "markers+text",
         "showlegend": false,
         "text": "x1",
         "textposition": "middle center",
         "type": "scatter",
         "x": [
          3
         ],
         "y": [
          0
         ]
        },
        {
         "marker": {
          "color": "rgba(144, 238, 144, 0.7)",
          "line": {
           "color": "rgba(70, 70, 70, 0.8)",
           "width": 1
          },
          "size": 60
         },
         "mode": "markers+text",
         "showlegend": false,
         "text": "h1",
         "textposition": "middle center",
         "type": "scatter",
         "x": [
          3
         ],
         "y": [
          2
         ]
        },
        {
         "marker": {
          "color": "rgba(250, 128, 114, 0.7)",
          "line": {
           "color": "rgba(70, 70, 70, 0.8)",
           "width": 1
          },
          "size": 40
         },
         "mode": "markers+text",
         "showlegend": false,
         "text": "y1",
         "textposition": "middle center",
         "type": "scatter",
         "x": [
          3
         ],
         "y": [
          4
         ]
        },
        {
         "line": {
          "color": "rgba(128, 128, 128, 0.4)",
          "width": 2
         },
         "mode": "lines",
         "showlegend": false,
         "type": "scatter",
         "x": [
          3,
          3
         ],
         "y": [
          0,
          2
         ]
        },
        {
         "line": {
          "color": "rgba(128, 128, 128, 0.4)",
          "width": 2
         },
         "mode": "lines",
         "showlegend": false,
         "type": "scatter",
         "x": [
          3,
          3
         ],
         "y": [
          2,
          4
         ]
        },
        {
         "line": {
          "color": "rgba(218, 112, 214, 0.7)",
          "width": 3
         },
         "mode": "lines",
         "showlegend": false,
         "type": "scatter",
         "x": [
          3,
          6
         ],
         "y": [
          2,
          2
         ]
        },
        {
         "marker": {
          "color": "rgba(173, 216, 230, 0.7)",
          "line": {
           "color": "rgba(70, 70, 70, 0.8)",
           "width": 1
          },
          "size": 40
         },
         "mode": "markers+text",
         "showlegend": false,
         "text": "x2",
         "textposition": "middle center",
         "type": "scatter",
         "x": [
          6
         ],
         "y": [
          0
         ]
        },
        {
         "marker": {
          "color": "rgba(144, 238, 144, 0.7)",
          "line": {
           "color": "rgba(70, 70, 70, 0.8)",
           "width": 1
          },
          "size": 60
         },
         "mode": "markers+text",
         "showlegend": false,
         "text": "h2",
         "textposition": "middle center",
         "type": "scatter",
         "x": [
          6
         ],
         "y": [
          2
         ]
        },
        {
         "marker": {
          "color": "rgba(250, 128, 114, 0.7)",
          "line": {
           "color": "rgba(70, 70, 70, 0.8)",
           "width": 1
          },
          "size": 40
         },
         "mode": "markers+text",
         "showlegend": false,
         "text": "y2",
         "textposition": "middle center",
         "type": "scatter",
         "x": [
          6
         ],
         "y": [
          4
         ]
        },
        {
         "line": {
          "color": "rgba(128, 128, 128, 0.4)",
          "width": 2
         },
         "mode": "lines",
         "showlegend": false,
         "type": "scatter",
         "x": [
          6,
          6
         ],
         "y": [
          0,
          2
         ]
        },
        {
         "line": {
          "color": "rgba(128, 128, 128, 0.4)",
          "width": 2
         },
         "mode": "lines",
         "showlegend": false,
         "type": "scatter",
         "x": [
          6,
          6
         ],
         "y": [
          2,
          4
         ]
        }
       ],
       "layout": {
        "annotations": [
         {
          "bgcolor": "rgba(255, 255, 255, 0.9)",
          "bordercolor": "rgba(0, 0, 0, 0.3)",
          "borderpad": 10,
          "borderwidth": 1,
          "font": {
           "family": "Computer Modern",
           "size": 14
          },
          "showarrow": false,
          "text": "\nh_t = tanh(W_h · h_{t-1} + W_x · x_t + b_h)\ny_t = W_y · h_t + b_y\n",
          "x": 4.5,
          "y": 5
         }
        ],
        "height": 600,
        "margin": {
         "b": 50,
         "t": 100
        },
        "plot_bgcolor": "white",
        "showlegend": true,
        "template": {
         "data": {
          "bar": [
           {
            "error_x": {
             "color": "#2a3f5f"
            },
            "error_y": {
             "color": "#2a3f5f"
            },
            "marker": {
             "line": {
              "color": "#E5ECF6",
              "width": 0.5
             },
             "pattern": {
              "fillmode": "overlay",
              "size": 10,
              "solidity": 0.2
             }
            },
            "type": "bar"
           }
          ],
          "barpolar": [
           {
            "marker": {
             "line": {
              "color": "#E5ECF6",
              "width": 0.5
             },
             "pattern": {
              "fillmode": "overlay",
              "size": 10,
              "solidity": 0.2
             }
            },
            "type": "barpolar"
           }
          ],
          "carpet": [
           {
            "aaxis": {
             "endlinecolor": "#2a3f5f",
             "gridcolor": "white",
             "linecolor": "white",
             "minorgridcolor": "white",
             "startlinecolor": "#2a3f5f"
            },
            "baxis": {
             "endlinecolor": "#2a3f5f",
             "gridcolor": "white",
             "linecolor": "white",
             "minorgridcolor": "white",
             "startlinecolor": "#2a3f5f"
            },
            "type": "carpet"
           }
          ],
          "choropleth": [
           {
            "colorbar": {
             "outlinewidth": 0,
             "ticks": ""
            },
            "type": "choropleth"
           }
          ],
          "contour": [
           {
            "colorbar": {
             "outlinewidth": 0,
             "ticks": ""
            },
            "colorscale": [
             [
              0,
              "#0d0887"
             ],
             [
              0.1111111111111111,
              "#46039f"
             ],
             [
              0.2222222222222222,
              "#7201a8"
             ],
             [
              0.3333333333333333,
              "#9c179e"
             ],
             [
              0.4444444444444444,
              "#bd3786"
             ],
             [
              0.5555555555555556,
              "#d8576b"
             ],
             [
              0.6666666666666666,
              "#ed7953"
             ],
             [
              0.7777777777777778,
              "#fb9f3a"
             ],
             [
              0.8888888888888888,
              "#fdca26"
             ],
             [
              1,
              "#f0f921"
             ]
            ],
            "type": "contour"
           }
          ],
          "contourcarpet": [
           {
            "colorbar": {
             "outlinewidth": 0,
             "ticks": ""
            },
            "type": "contourcarpet"
           }
          ],
          "heatmap": [
           {
            "colorbar": {
             "outlinewidth": 0,
             "ticks": ""
            },
            "colorscale": [
             [
              0,
              "#0d0887"
             ],
             [
              0.1111111111111111,
              "#46039f"
             ],
             [
              0.2222222222222222,
              "#7201a8"
             ],
             [
              0.3333333333333333,
              "#9c179e"
             ],
             [
              0.4444444444444444,
              "#bd3786"
             ],
             [
              0.5555555555555556,
              "#d8576b"
             ],
             [
              0.6666666666666666,
              "#ed7953"
             ],
             [
              0.7777777777777778,
              "#fb9f3a"
             ],
             [
              0.8888888888888888,
              "#fdca26"
             ],
             [
              1,
              "#f0f921"
             ]
            ],
            "type": "heatmap"
           }
          ],
          "heatmapgl": [
           {
            "colorbar": {
             "outlinewidth": 0,
             "ticks": ""
            },
            "colorscale": [
             [
              0,
              "#0d0887"
             ],
             [
              0.1111111111111111,
              "#46039f"
             ],
             [
              0.2222222222222222,
              "#7201a8"
             ],
             [
              0.3333333333333333,
              "#9c179e"
             ],
             [
              0.4444444444444444,
              "#bd3786"
             ],
             [
              0.5555555555555556,
              "#d8576b"
             ],
             [
              0.6666666666666666,
              "#ed7953"
             ],
             [
              0.7777777777777778,
              "#fb9f3a"
             ],
             [
              0.8888888888888888,
              "#fdca26"
             ],
             [
              1,
              "#f0f921"
             ]
            ],
            "type": "heatmapgl"
           }
          ],
          "histogram": [
           {
            "marker": {
             "pattern": {
              "fillmode": "overlay",
              "size": 10,
              "solidity": 0.2
             }
            },
            "type": "histogram"
           }
          ],
          "histogram2d": [
           {
            "colorbar": {
             "outlinewidth": 0,
             "ticks": ""
            },
            "colorscale": [
             [
              0,
              "#0d0887"
             ],
             [
              0.1111111111111111,
              "#46039f"
             ],
             [
              0.2222222222222222,
              "#7201a8"
             ],
             [
              0.3333333333333333,
              "#9c179e"
             ],
             [
              0.4444444444444444,
              "#bd3786"
             ],
             [
              0.5555555555555556,
              "#d8576b"
             ],
             [
              0.6666666666666666,
              "#ed7953"
             ],
             [
              0.7777777777777778,
              "#fb9f3a"
             ],
             [
              0.8888888888888888,
              "#fdca26"
             ],
             [
              1,
              "#f0f921"
             ]
            ],
            "type": "histogram2d"
           }
          ],
          "histogram2dcontour": [
           {
            "colorbar": {
             "outlinewidth": 0,
             "ticks": ""
            },
            "colorscale": [
             [
              0,
              "#0d0887"
             ],
             [
              0.1111111111111111,
              "#46039f"
             ],
             [
              0.2222222222222222,
              "#7201a8"
             ],
             [
              0.3333333333333333,
              "#9c179e"
             ],
             [
              0.4444444444444444,
              "#bd3786"
             ],
             [
              0.5555555555555556,
              "#d8576b"
             ],
             [
              0.6666666666666666,
              "#ed7953"
             ],
             [
              0.7777777777777778,
              "#fb9f3a"
             ],
             [
              0.8888888888888888,
              "#fdca26"
             ],
             [
              1,
              "#f0f921"
             ]
            ],
            "type": "histogram2dcontour"
           }
          ],
          "mesh3d": [
           {
            "colorbar": {
             "outlinewidth": 0,
             "ticks": ""
            },
            "type": "mesh3d"
           }
          ],
          "parcoords": [
           {
            "line": {
             "colorbar": {
              "outlinewidth": 0,
              "ticks": ""
             }
            },
            "type": "parcoords"
           }
          ],
          "pie": [
           {
            "automargin": true,
            "type": "pie"
           }
          ],
          "scatter": [
           {
            "fillpattern": {
             "fillmode": "overlay",
             "size": 10,
             "solidity": 0.2
            },
            "type": "scatter"
           }
          ],
          "scatter3d": [
           {
            "line": {
             "colorbar": {
              "outlinewidth": 0,
              "ticks": ""
             }
            },
            "marker": {
             "colorbar": {
              "outlinewidth": 0,
              "ticks": ""
             }
            },
            "type": "scatter3d"
           }
          ],
          "scattercarpet": [
           {
            "marker": {
             "colorbar": {
              "outlinewidth": 0,
              "ticks": ""
             }
            },
            "type": "scattercarpet"
           }
          ],
          "scattergeo": [
           {
            "marker": {
             "colorbar": {
              "outlinewidth": 0,
              "ticks": ""
             }
            },
            "type": "scattergeo"
           }
          ],
          "scattergl": [
           {
            "marker": {
             "colorbar": {
              "outlinewidth": 0,
              "ticks": ""
             }
            },
            "type": "scattergl"
           }
          ],
          "scattermapbox": [
           {
            "marker": {
             "colorbar": {
              "outlinewidth": 0,
              "ticks": ""
             }
            },
            "type": "scattermapbox"
           }
          ],
          "scatterpolar": [
           {
            "marker": {
             "colorbar": {
              "outlinewidth": 0,
              "ticks": ""
             }
            },
            "type": "scatterpolar"
           }
          ],
          "scatterpolargl": [
           {
            "marker": {
             "colorbar": {
              "outlinewidth": 0,
              "ticks": ""
             }
            },
            "type": "scatterpolargl"
           }
          ],
          "scatterternary": [
           {
            "marker": {
             "colorbar": {
              "outlinewidth": 0,
              "ticks": ""
             }
            },
            "type": "scatterternary"
           }
          ],
          "surface": [
           {
            "colorbar": {
             "outlinewidth": 0,
             "ticks": ""
            },
            "colorscale": [
             [
              0,
              "#0d0887"
             ],
             [
              0.1111111111111111,
              "#46039f"
             ],
             [
              0.2222222222222222,
              "#7201a8"
             ],
             [
              0.3333333333333333,
              "#9c179e"
             ],
             [
              0.4444444444444444,
              "#bd3786"
             ],
             [
              0.5555555555555556,
              "#d8576b"
             ],
             [
              0.6666666666666666,
              "#ed7953"
             ],
             [
              0.7777777777777778,
              "#fb9f3a"
             ],
             [
              0.8888888888888888,
              "#fdca26"
             ],
             [
              1,
              "#f0f921"
             ]
            ],
            "type": "surface"
           }
          ],
          "table": [
           {
            "cells": {
             "fill": {
              "color": "#EBF0F8"
             },
             "line": {
              "color": "white"
             }
            },
            "header": {
             "fill": {
              "color": "#C8D4E3"
             },
             "line": {
              "color": "white"
             }
            },
            "type": "table"
           }
          ]
         },
         "layout": {
          "annotationdefaults": {
           "arrowcolor": "#2a3f5f",
           "arrowhead": 0,
           "arrowwidth": 1
          },
          "autotypenumbers": "strict",
          "coloraxis": {
           "colorbar": {
            "outlinewidth": 0,
            "ticks": ""
           }
          },
          "colorscale": {
           "diverging": [
            [
             0,
             "#8e0152"
            ],
            [
             0.1,
             "#c51b7d"
            ],
            [
             0.2,
             "#de77ae"
            ],
            [
             0.3,
             "#f1b6da"
            ],
            [
             0.4,
             "#fde0ef"
            ],
            [
             0.5,
             "#f7f7f7"
            ],
            [
             0.6,
             "#e6f5d0"
            ],
            [
             0.7,
             "#b8e186"
            ],
            [
             0.8,
             "#7fbc41"
            ],
            [
             0.9,
             "#4d9221"
            ],
            [
             1,
             "#276419"
            ]
           ],
           "sequential": [
            [
             0,
             "#0d0887"
            ],
            [
             0.1111111111111111,
             "#46039f"
            ],
            [
             0.2222222222222222,
             "#7201a8"
            ],
            [
             0.3333333333333333,
             "#9c179e"
            ],
            [
             0.4444444444444444,
             "#bd3786"
            ],
            [
             0.5555555555555556,
             "#d8576b"
            ],
            [
             0.6666666666666666,
             "#ed7953"
            ],
            [
             0.7777777777777778,
             "#fb9f3a"
            ],
            [
             0.8888888888888888,
             "#fdca26"
            ],
            [
             1,
             "#f0f921"
            ]
           ],
           "sequentialminus": [
            [
             0,
             "#0d0887"
            ],
            [
             0.1111111111111111,
             "#46039f"
            ],
            [
             0.2222222222222222,
             "#7201a8"
            ],
            [
             0.3333333333333333,
             "#9c179e"
            ],
            [
             0.4444444444444444,
             "#bd3786"
            ],
            [
             0.5555555555555556,
             "#d8576b"
            ],
            [
             0.6666666666666666,
             "#ed7953"
            ],
            [
             0.7777777777777778,
             "#fb9f3a"
            ],
            [
             0.8888888888888888,
             "#fdca26"
            ],
            [
             1,
             "#f0f921"
            ]
           ]
          },
          "colorway": [
           "#636efa",
           "#EF553B",
           "#00cc96",
           "#ab63fa",
           "#FFA15A",
           "#19d3f3",
           "#FF6692",
           "#B6E880",
           "#FF97FF",
           "#FECB52"
          ],
          "font": {
           "color": "#2a3f5f"
          },
          "geo": {
           "bgcolor": "white",
           "lakecolor": "white",
           "landcolor": "#E5ECF6",
           "showlakes": true,
           "showland": true,
           "subunitcolor": "white"
          },
          "hoverlabel": {
           "align": "left"
          },
          "hovermode": "closest",
          "mapbox": {
           "style": "light"
          },
          "paper_bgcolor": "white",
          "plot_bgcolor": "#E5ECF6",
          "polar": {
           "angularaxis": {
            "gridcolor": "white",
            "linecolor": "white",
            "ticks": ""
           },
           "bgcolor": "#E5ECF6",
           "radialaxis": {
            "gridcolor": "white",
            "linecolor": "white",
            "ticks": ""
           }
          },
          "scene": {
           "xaxis": {
            "backgroundcolor": "#E5ECF6",
            "gridcolor": "white",
            "gridwidth": 2,
            "linecolor": "white",
            "showbackground": true,
            "ticks": "",
            "zerolinecolor": "white"
           },
           "yaxis": {
            "backgroundcolor": "#E5ECF6",
            "gridcolor": "white",
            "gridwidth": 2,
            "linecolor": "white",
            "showbackground": true,
            "ticks": "",
            "zerolinecolor": "white"
           },
           "zaxis": {
            "backgroundcolor": "#E5ECF6",
            "gridcolor": "white",
            "gridwidth": 2,
            "linecolor": "white",
            "showbackground": true,
            "ticks": "",
            "zerolinecolor": "white"
           }
          },
          "shapedefaults": {
           "line": {
            "color": "#2a3f5f"
           }
          },
          "ternary": {
           "aaxis": {
            "gridcolor": "white",
            "linecolor": "white",
            "ticks": ""
           },
           "baxis": {
            "gridcolor": "white",
            "linecolor": "white",
            "ticks": ""
           },
           "bgcolor": "#E5ECF6",
           "caxis": {
            "gridcolor": "white",
            "linecolor": "white",
            "ticks": ""
           }
          },
          "title": {
           "x": 0.05
          },
          "xaxis": {
           "automargin": true,
           "gridcolor": "white",
           "linecolor": "white",
           "ticks": "",
           "title": {
            "standoff": 15
           },
           "zerolinecolor": "white",
           "zerolinewidth": 2
          },
          "yaxis": {
           "automargin": true,
           "gridcolor": "white",
           "linecolor": "white",
           "ticks": "",
           "title": {
            "standoff": 15
           },
           "zerolinecolor": "white",
           "zerolinewidth": 2
          }
         }
        },
        "title": {
         "font": {
          "size": 16
         },
         "text": "Rekurrentes Neuronales Netz (RNN) über drei Zeitschritte",
         "x": 0.5,
         "y": 0.95
        },
        "width": 1000,
        "xaxis": {
         "range": [
          -1,
          10
         ],
         "showticklabels": false
        },
        "yaxis": {
         "range": [
          -1,
          6
         ],
         "showticklabels": false
        }
       }
      }
     },
     "metadata": {},
     "output_type": "display_data"
    }
   ],
   "source": [
    "import plotly.graph_objects as go\n",
    "import numpy as np\n",
    "\n",
    "# Konstanten\n",
    "NODE_SIZE = dict(\n",
    "    input=40,\n",
    "    hidden=60,\n",
    "    output=40\n",
    ")\n",
    "\n",
    "COLORS = dict(\n",
    "    input='rgba(173, 216, 230, 0.7)',      # hellblau\n",
    "    hidden='rgba(144, 238, 144, 0.7)',     # hellgrün\n",
    "    output='rgba(250, 128, 114, 0.7)',     # lachs\n",
    "    recurrent='rgba(218, 112, 214, 0.7)',  # orchidee\n",
    "    lines='rgba(128, 128, 128, 0.4)'       # grau\n",
    ")\n",
    "\n",
    "# Positionen für die Zeitschritte\n",
    "TIMESTEPS = 3\n",
    "X_SPACING = 3\n",
    "Y_SPACING = 2\n",
    "\n",
    "# Figure erstellen\n",
    "fig = go.Figure()\n",
    "\n",
    "# Funktion zum Hinzufügen von Nodes\n",
    "def add_node(x, y, node_type, text, show_legend=True):\n",
    "    return fig.add_trace(go.Scatter(\n",
    "        x=[x],\n",
    "        y=[y],\n",
    "        mode='markers+text',\n",
    "        marker=dict(\n",
    "            size=NODE_SIZE[node_type],\n",
    "            color=COLORS[node_type],\n",
    "            line=dict(color='rgba(70, 70, 70, 0.8)', width=1)\n",
    "        ),\n",
    "        text=text,\n",
    "        textposition='middle center',\n",
    "        name=node_type.capitalize() if show_legend else None,\n",
    "        showlegend=show_legend\n",
    "    ))\n",
    "\n",
    "# Funktion zum Hinzufügen von Verbindungen\n",
    "def add_connection(x1, y1, x2, y2, color=COLORS['lines'], width=2):\n",
    "    fig.add_trace(go.Scatter(\n",
    "        x=[x1, x2],\n",
    "        y=[y1, y2],\n",
    "        mode='lines',\n",
    "        line=dict(color=color, width=width),\n",
    "        showlegend=False\n",
    "    ))\n",
    "\n",
    "# Nodes für jeden Zeitschritt hinzufügen\n",
    "for t in range(TIMESTEPS):\n",
    "    # Input node\n",
    "    add_node(\n",
    "        x=t * X_SPACING,\n",
    "        y=0,\n",
    "        node_type='input',\n",
    "        text=f'x{t}',\n",
    "        show_legend=(t == 0)\n",
    "    )\n",
    "    \n",
    "    # Hidden state node\n",
    "    add_node(\n",
    "        x=t * X_SPACING,\n",
    "        y=Y_SPACING,\n",
    "        node_type='hidden',\n",
    "        text=f'h{t}',\n",
    "        show_legend=(t == 0)\n",
    "    )\n",
    "    \n",
    "    # Output node\n",
    "    add_node(\n",
    "        x=t * X_SPACING,\n",
    "        y=Y_SPACING * 2,\n",
    "        node_type='output',\n",
    "        text=f'y{t}',\n",
    "        show_legend=(t == 0)\n",
    "    )\n",
    "    \n",
    "    # Verbindungen innerhalb eines Zeitschritts\n",
    "    # Input zu Hidden\n",
    "    add_connection(\n",
    "        t * X_SPACING,\n",
    "        0,\n",
    "        t * X_SPACING,\n",
    "        Y_SPACING\n",
    "    )\n",
    "    \n",
    "    # Hidden zu Output\n",
    "    add_connection(\n",
    "        t * X_SPACING,\n",
    "        Y_SPACING,\n",
    "        t * X_SPACING,\n",
    "        Y_SPACING * 2\n",
    "    )\n",
    "    \n",
    "    # Rekurrente Verbindung zum nächsten Zeitschritt\n",
    "    if t < TIMESTEPS - 1:\n",
    "        add_connection(\n",
    "            t * X_SPACING,\n",
    "            Y_SPACING,\n",
    "            (t + 1) * X_SPACING,\n",
    "            Y_SPACING,\n",
    "            color=COLORS['recurrent'],\n",
    "            width=3\n",
    "        )\n",
    "\n",
    "# Formelbox hinzufügen\n",
    "formula = \"\"\"\n",
    "h_t = tanh(W_h · h_{t-1} + W_x · x_t + b_h)\n",
    "y_t = W_y · h_t + b_y\n",
    "\"\"\"\n",
    "\n",
    "fig.add_annotation(\n",
    "    x=TIMESTEPS * X_SPACING / 2,\n",
    "    y=Y_SPACING * 2.5,\n",
    "    text=formula,\n",
    "    showarrow=False,\n",
    "    font=dict(size=14, family='Computer Modern'),\n",
    "    bgcolor='rgba(255, 255, 255, 0.9)',\n",
    "    bordercolor='rgba(0, 0, 0, 0.3)',\n",
    "    borderwidth=1,\n",
    "    borderpad=10\n",
    ")\n",
    "\n",
    "# Layout\n",
    "fig.update_layout(\n",
    "    title=dict(\n",
    "        text='Rekurrentes Neuronales Netz (RNN) über drei Zeitschritte',\n",
    "        x=0.5,\n",
    "        y=0.95,\n",
    "        font=dict(size=16)\n",
    "    ),\n",
    "    showlegend=True,\n",
    "    xaxis=dict(\n",
    "        showticklabels=False,\n",
    "        range=[-1, TIMESTEPS * X_SPACING + 1]\n",
    "    ),\n",
    "    yaxis=dict(\n",
    "        showticklabels=False,\n",
    "        range=[-1, Y_SPACING * 2.5 + 1]\n",
    "    ),\n",
    "    plot_bgcolor='white',\n",
    "    width=1000,\n",
    "    height=600,\n",
    "    margin=dict(t=100, b=50)\n",
    ")\n",
    "\n",
    "fig.show()"
   ]
  },
  {
   "cell_type": "code",
   "execution_count": 6,
   "metadata": {},
   "outputs": [],
   "source": [
    "# Erste Stunde (Mathe, 8 Uhr)\n",
    "x_0 = [1, 8]        # 1. Stunde, Mathe (Schwierigkeit 8)\n",
    "h_0 = [0.9]         # Schüler startet ausgeruht\n",
    "y_0 = 0.9          # Hohe Konzentration\n",
    "\n",
    "# Zweite Stunde (Sport, 9 Uhr)\n",
    "x_1 = [2, 3]        # 2. Stunde, Sport (Schwierigkeit 3)\n",
    "h_1 = [0.7]         # Etwas erschöpft von Mathe\n",
    "y_1 = 0.85        # Noch gute Konzentration\n",
    "\n",
    "# Dritte Stunde (Physik, 10 Uhr)\n",
    "x_2 = [3, 7]        # 3. Stunde, Physik (Schwierigkeit 7)\n",
    "h_2 = [0.4]         # Deutlich erschöpfter\n",
    "y_2 = 0.6          # Konzentration lässt nach"
   ]
  },
  {
   "cell_type": "code",
   "execution_count": 7,
   "metadata": {},
   "outputs": [
    {
     "data": {
      "application/vnd.plotly.v1+json": {
       "config": {
        "plotlyServerURL": "https://plot.ly"
       },
       "data": [
        {
         "marker": {
          "color": "rgba(173, 216, 230, 0.7)",
          "line": {
           "color": "rgba(70, 70, 70, 0.8)",
           "width": 1
          },
          "size": 50
         },
         "mode": "markers+text",
         "name": "Input",
         "showlegend": true,
         "text": "1. Stunde (Mathe)\n[1, 8]",
         "textposition": "middle center",
         "type": "scatter",
         "x": [
          0
         ],
         "y": [
          0
         ]
        },
        {
         "marker": {
          "color": "rgba(144, 238, 144, 0.7)",
          "line": {
           "color": "rgba(70, 70, 70, 0.8)",
           "width": 1
          },
          "size": 70
         },
         "mode": "markers+text",
         "name": "Hidden",
         "showlegend": true,
         "text": "Energielevel\n0.9",
         "textposition": "middle center",
         "type": "scatter",
         "x": [
          0
         ],
         "y": [
          2.5
         ]
        },
        {
         "marker": {
          "color": "rgba(250, 128, 114, 0.7)",
          "line": {
           "color": "rgba(70, 70, 70, 0.8)",
           "width": 1
          },
          "size": 50
         },
         "mode": "markers+text",
         "name": "Output",
         "showlegend": true,
         "text": "Konzentration\n90%",
         "textposition": "middle center",
         "type": "scatter",
         "x": [
          0
         ],
         "y": [
          5
         ]
        },
        {
         "line": {
          "color": "rgba(128, 128, 128, 0.4)",
          "width": 2
         },
         "mode": "lines",
         "showlegend": false,
         "type": "scatter",
         "x": [
          0,
          0
         ],
         "y": [
          0,
          2.5
         ]
        },
        {
         "marker": {
          "color": "rgba(255, 165, 0, 0.7)",
          "size": 30
         },
         "mode": "markers+text",
         "showlegend": false,
         "text": "W_x",
         "textposition": "middle center",
         "type": "scatter",
         "x": [
          0
         ],
         "y": [
          1.25
         ]
        },
        {
         "line": {
          "color": "rgba(128, 128, 128, 0.4)",
          "width": 2
         },
         "mode": "lines",
         "showlegend": false,
         "type": "scatter",
         "x": [
          0,
          0
         ],
         "y": [
          2.5,
          5
         ]
        },
        {
         "marker": {
          "color": "rgba(255, 165, 0, 0.7)",
          "size": 30
         },
         "mode": "markers+text",
         "showlegend": false,
         "text": "W_y",
         "textposition": "middle center",
         "type": "scatter",
         "x": [
          0
         ],
         "y": [
          3.75
         ]
        },
        {
         "line": {
          "color": "rgba(218, 112, 214, 0.7)",
          "width": 3
         },
         "mode": "lines",
         "showlegend": false,
         "type": "scatter",
         "x": [
          0,
          4
         ],
         "y": [
          2.5,
          2.5
         ]
        },
        {
         "marker": {
          "color": "rgba(255, 165, 0, 0.7)",
          "size": 30
         },
         "mode": "markers+text",
         "showlegend": false,
         "text": "W_h",
         "textposition": "middle center",
         "type": "scatter",
         "x": [
          2
         ],
         "y": [
          2.5
         ]
        },
        {
         "marker": {
          "color": "rgba(173, 216, 230, 0.7)",
          "line": {
           "color": "rgba(70, 70, 70, 0.8)",
           "width": 1
          },
          "size": 50
         },
         "mode": "markers+text",
         "showlegend": false,
         "text": "2. Stunde (Sport)\n[2, 3]",
         "textposition": "middle center",
         "type": "scatter",
         "x": [
          4
         ],
         "y": [
          0
         ]
        },
        {
         "marker": {
          "color": "rgba(144, 238, 144, 0.7)",
          "line": {
           "color": "rgba(70, 70, 70, 0.8)",
           "width": 1
          },
          "size": 70
         },
         "mode": "markers+text",
         "showlegend": false,
         "text": "Energielevel\n0.7",
         "textposition": "middle center",
         "type": "scatter",
         "x": [
          4
         ],
         "y": [
          2.5
         ]
        },
        {
         "marker": {
          "color": "rgba(250, 128, 114, 0.7)",
          "line": {
           "color": "rgba(70, 70, 70, 0.8)",
           "width": 1
          },
          "size": 50
         },
         "mode": "markers+text",
         "showlegend": false,
         "text": "Konzentration\n85%",
         "textposition": "middle center",
         "type": "scatter",
         "x": [
          4
         ],
         "y": [
          5
         ]
        },
        {
         "line": {
          "color": "rgba(128, 128, 128, 0.4)",
          "width": 2
         },
         "mode": "lines",
         "showlegend": false,
         "type": "scatter",
         "x": [
          4,
          4
         ],
         "y": [
          0,
          2.5
         ]
        },
        {
         "marker": {
          "color": "rgba(255, 165, 0, 0.7)",
          "size": 30
         },
         "mode": "markers+text",
         "showlegend": false,
         "text": "W_x",
         "textposition": "middle center",
         "type": "scatter",
         "x": [
          4
         ],
         "y": [
          1.25
         ]
        },
        {
         "line": {
          "color": "rgba(128, 128, 128, 0.4)",
          "width": 2
         },
         "mode": "lines",
         "showlegend": false,
         "type": "scatter",
         "x": [
          4,
          4
         ],
         "y": [
          2.5,
          5
         ]
        },
        {
         "marker": {
          "color": "rgba(255, 165, 0, 0.7)",
          "size": 30
         },
         "mode": "markers+text",
         "showlegend": false,
         "text": "W_y",
         "textposition": "middle center",
         "type": "scatter",
         "x": [
          4
         ],
         "y": [
          3.75
         ]
        },
        {
         "line": {
          "color": "rgba(218, 112, 214, 0.7)",
          "width": 3
         },
         "mode": "lines",
         "showlegend": false,
         "type": "scatter",
         "x": [
          4,
          8
         ],
         "y": [
          2.5,
          2.5
         ]
        },
        {
         "marker": {
          "color": "rgba(255, 165, 0, 0.7)",
          "size": 30
         },
         "mode": "markers+text",
         "showlegend": false,
         "text": "W_h",
         "textposition": "middle center",
         "type": "scatter",
         "x": [
          6
         ],
         "y": [
          2.5
         ]
        },
        {
         "marker": {
          "color": "rgba(173, 216, 230, 0.7)",
          "line": {
           "color": "rgba(70, 70, 70, 0.8)",
           "width": 1
          },
          "size": 50
         },
         "mode": "markers+text",
         "showlegend": false,
         "text": "3. Stunde (Physik)\n[3, 7]",
         "textposition": "middle center",
         "type": "scatter",
         "x": [
          8
         ],
         "y": [
          0
         ]
        },
        {
         "marker": {
          "color": "rgba(144, 238, 144, 0.7)",
          "line": {
           "color": "rgba(70, 70, 70, 0.8)",
           "width": 1
          },
          "size": 70
         },
         "mode": "markers+text",
         "showlegend": false,
         "text": "Energielevel\n0.4",
         "textposition": "middle center",
         "type": "scatter",
         "x": [
          8
         ],
         "y": [
          2.5
         ]
        },
        {
         "marker": {
          "color": "rgba(250, 128, 114, 0.7)",
          "line": {
           "color": "rgba(70, 70, 70, 0.8)",
           "width": 1
          },
          "size": 50
         },
         "mode": "markers+text",
         "showlegend": false,
         "text": "Konzentration\n60%",
         "textposition": "middle center",
         "type": "scatter",
         "x": [
          8
         ],
         "y": [
          5
         ]
        },
        {
         "line": {
          "color": "rgba(128, 128, 128, 0.4)",
          "width": 2
         },
         "mode": "lines",
         "showlegend": false,
         "type": "scatter",
         "x": [
          8,
          8
         ],
         "y": [
          0,
          2.5
         ]
        },
        {
         "marker": {
          "color": "rgba(255, 165, 0, 0.7)",
          "size": 30
         },
         "mode": "markers+text",
         "showlegend": false,
         "text": "W_x",
         "textposition": "middle center",
         "type": "scatter",
         "x": [
          8
         ],
         "y": [
          1.25
         ]
        },
        {
         "line": {
          "color": "rgba(128, 128, 128, 0.4)",
          "width": 2
         },
         "mode": "lines",
         "showlegend": false,
         "type": "scatter",
         "x": [
          8,
          8
         ],
         "y": [
          2.5,
          5
         ]
        },
        {
         "marker": {
          "color": "rgba(255, 165, 0, 0.7)",
          "size": 30
         },
         "mode": "markers+text",
         "showlegend": false,
         "text": "W_y",
         "textposition": "middle center",
         "type": "scatter",
         "x": [
          8
         ],
         "y": [
          3.75
         ]
        }
       ],
       "layout": {
        "annotations": [
         {
          "align": "left",
          "bgcolor": "rgba(255, 255, 255, 0.9)",
          "bordercolor": "rgba(0, 0, 0, 0.3)",
          "borderpad": 10,
          "borderwidth": 1,
          "font": {
           "size": 12
          },
          "showarrow": false,
          "text": "Inputs pro Stunde: [Stunde, Schwierigkeit]<br>Hidden State: Energielevel (0-1)<br>Output: Konzentration (0-100%)<br>W_x: Einfluss der aktuellen Stunde<br>W_h: Übertragung der Müdigkeit<br>W_y: Umrechnung in Konzentration",
          "x": -1,
          "y": -1
         }
        ],
        "height": 700,
        "margin": {
         "b": 50,
         "t": 100
        },
        "plot_bgcolor": "white",
        "showlegend": true,
        "template": {
         "data": {
          "bar": [
           {
            "error_x": {
             "color": "#2a3f5f"
            },
            "error_y": {
             "color": "#2a3f5f"
            },
            "marker": {
             "line": {
              "color": "#E5ECF6",
              "width": 0.5
             },
             "pattern": {
              "fillmode": "overlay",
              "size": 10,
              "solidity": 0.2
             }
            },
            "type": "bar"
           }
          ],
          "barpolar": [
           {
            "marker": {
             "line": {
              "color": "#E5ECF6",
              "width": 0.5
             },
             "pattern": {
              "fillmode": "overlay",
              "size": 10,
              "solidity": 0.2
             }
            },
            "type": "barpolar"
           }
          ],
          "carpet": [
           {
            "aaxis": {
             "endlinecolor": "#2a3f5f",
             "gridcolor": "white",
             "linecolor": "white",
             "minorgridcolor": "white",
             "startlinecolor": "#2a3f5f"
            },
            "baxis": {
             "endlinecolor": "#2a3f5f",
             "gridcolor": "white",
             "linecolor": "white",
             "minorgridcolor": "white",
             "startlinecolor": "#2a3f5f"
            },
            "type": "carpet"
           }
          ],
          "choropleth": [
           {
            "colorbar": {
             "outlinewidth": 0,
             "ticks": ""
            },
            "type": "choropleth"
           }
          ],
          "contour": [
           {
            "colorbar": {
             "outlinewidth": 0,
             "ticks": ""
            },
            "colorscale": [
             [
              0,
              "#0d0887"
             ],
             [
              0.1111111111111111,
              "#46039f"
             ],
             [
              0.2222222222222222,
              "#7201a8"
             ],
             [
              0.3333333333333333,
              "#9c179e"
             ],
             [
              0.4444444444444444,
              "#bd3786"
             ],
             [
              0.5555555555555556,
              "#d8576b"
             ],
             [
              0.6666666666666666,
              "#ed7953"
             ],
             [
              0.7777777777777778,
              "#fb9f3a"
             ],
             [
              0.8888888888888888,
              "#fdca26"
             ],
             [
              1,
              "#f0f921"
             ]
            ],
            "type": "contour"
           }
          ],
          "contourcarpet": [
           {
            "colorbar": {
             "outlinewidth": 0,
             "ticks": ""
            },
            "type": "contourcarpet"
           }
          ],
          "heatmap": [
           {
            "colorbar": {
             "outlinewidth": 0,
             "ticks": ""
            },
            "colorscale": [
             [
              0,
              "#0d0887"
             ],
             [
              0.1111111111111111,
              "#46039f"
             ],
             [
              0.2222222222222222,
              "#7201a8"
             ],
             [
              0.3333333333333333,
              "#9c179e"
             ],
             [
              0.4444444444444444,
              "#bd3786"
             ],
             [
              0.5555555555555556,
              "#d8576b"
             ],
             [
              0.6666666666666666,
              "#ed7953"
             ],
             [
              0.7777777777777778,
              "#fb9f3a"
             ],
             [
              0.8888888888888888,
              "#fdca26"
             ],
             [
              1,
              "#f0f921"
             ]
            ],
            "type": "heatmap"
           }
          ],
          "heatmapgl": [
           {
            "colorbar": {
             "outlinewidth": 0,
             "ticks": ""
            },
            "colorscale": [
             [
              0,
              "#0d0887"
             ],
             [
              0.1111111111111111,
              "#46039f"
             ],
             [
              0.2222222222222222,
              "#7201a8"
             ],
             [
              0.3333333333333333,
              "#9c179e"
             ],
             [
              0.4444444444444444,
              "#bd3786"
             ],
             [
              0.5555555555555556,
              "#d8576b"
             ],
             [
              0.6666666666666666,
              "#ed7953"
             ],
             [
              0.7777777777777778,
              "#fb9f3a"
             ],
             [
              0.8888888888888888,
              "#fdca26"
             ],
             [
              1,
              "#f0f921"
             ]
            ],
            "type": "heatmapgl"
           }
          ],
          "histogram": [
           {
            "marker": {
             "pattern": {
              "fillmode": "overlay",
              "size": 10,
              "solidity": 0.2
             }
            },
            "type": "histogram"
           }
          ],
          "histogram2d": [
           {
            "colorbar": {
             "outlinewidth": 0,
             "ticks": ""
            },
            "colorscale": [
             [
              0,
              "#0d0887"
             ],
             [
              0.1111111111111111,
              "#46039f"
             ],
             [
              0.2222222222222222,
              "#7201a8"
             ],
             [
              0.3333333333333333,
              "#9c179e"
             ],
             [
              0.4444444444444444,
              "#bd3786"
             ],
             [
              0.5555555555555556,
              "#d8576b"
             ],
             [
              0.6666666666666666,
              "#ed7953"
             ],
             [
              0.7777777777777778,
              "#fb9f3a"
             ],
             [
              0.8888888888888888,
              "#fdca26"
             ],
             [
              1,
              "#f0f921"
             ]
            ],
            "type": "histogram2d"
           }
          ],
          "histogram2dcontour": [
           {
            "colorbar": {
             "outlinewidth": 0,
             "ticks": ""
            },
            "colorscale": [
             [
              0,
              "#0d0887"
             ],
             [
              0.1111111111111111,
              "#46039f"
             ],
             [
              0.2222222222222222,
              "#7201a8"
             ],
             [
              0.3333333333333333,
              "#9c179e"
             ],
             [
              0.4444444444444444,
              "#bd3786"
             ],
             [
              0.5555555555555556,
              "#d8576b"
             ],
             [
              0.6666666666666666,
              "#ed7953"
             ],
             [
              0.7777777777777778,
              "#fb9f3a"
             ],
             [
              0.8888888888888888,
              "#fdca26"
             ],
             [
              1,
              "#f0f921"
             ]
            ],
            "type": "histogram2dcontour"
           }
          ],
          "mesh3d": [
           {
            "colorbar": {
             "outlinewidth": 0,
             "ticks": ""
            },
            "type": "mesh3d"
           }
          ],
          "parcoords": [
           {
            "line": {
             "colorbar": {
              "outlinewidth": 0,
              "ticks": ""
             }
            },
            "type": "parcoords"
           }
          ],
          "pie": [
           {
            "automargin": true,
            "type": "pie"
           }
          ],
          "scatter": [
           {
            "fillpattern": {
             "fillmode": "overlay",
             "size": 10,
             "solidity": 0.2
            },
            "type": "scatter"
           }
          ],
          "scatter3d": [
           {
            "line": {
             "colorbar": {
              "outlinewidth": 0,
              "ticks": ""
             }
            },
            "marker": {
             "colorbar": {
              "outlinewidth": 0,
              "ticks": ""
             }
            },
            "type": "scatter3d"
           }
          ],
          "scattercarpet": [
           {
            "marker": {
             "colorbar": {
              "outlinewidth": 0,
              "ticks": ""
             }
            },
            "type": "scattercarpet"
           }
          ],
          "scattergeo": [
           {
            "marker": {
             "colorbar": {
              "outlinewidth": 0,
              "ticks": ""
             }
            },
            "type": "scattergeo"
           }
          ],
          "scattergl": [
           {
            "marker": {
             "colorbar": {
              "outlinewidth": 0,
              "ticks": ""
             }
            },
            "type": "scattergl"
           }
          ],
          "scattermapbox": [
           {
            "marker": {
             "colorbar": {
              "outlinewidth": 0,
              "ticks": ""
             }
            },
            "type": "scattermapbox"
           }
          ],
          "scatterpolar": [
           {
            "marker": {
             "colorbar": {
              "outlinewidth": 0,
              "ticks": ""
             }
            },
            "type": "scatterpolar"
           }
          ],
          "scatterpolargl": [
           {
            "marker": {
             "colorbar": {
              "outlinewidth": 0,
              "ticks": ""
             }
            },
            "type": "scatterpolargl"
           }
          ],
          "scatterternary": [
           {
            "marker": {
             "colorbar": {
              "outlinewidth": 0,
              "ticks": ""
             }
            },
            "type": "scatterternary"
           }
          ],
          "surface": [
           {
            "colorbar": {
             "outlinewidth": 0,
             "ticks": ""
            },
            "colorscale": [
             [
              0,
              "#0d0887"
             ],
             [
              0.1111111111111111,
              "#46039f"
             ],
             [
              0.2222222222222222,
              "#7201a8"
             ],
             [
              0.3333333333333333,
              "#9c179e"
             ],
             [
              0.4444444444444444,
              "#bd3786"
             ],
             [
              0.5555555555555556,
              "#d8576b"
             ],
             [
              0.6666666666666666,
              "#ed7953"
             ],
             [
              0.7777777777777778,
              "#fb9f3a"
             ],
             [
              0.8888888888888888,
              "#fdca26"
             ],
             [
              1,
              "#f0f921"
             ]
            ],
            "type": "surface"
           }
          ],
          "table": [
           {
            "cells": {
             "fill": {
              "color": "#EBF0F8"
             },
             "line": {
              "color": "white"
             }
            },
            "header": {
             "fill": {
              "color": "#C8D4E3"
             },
             "line": {
              "color": "white"
             }
            },
            "type": "table"
           }
          ]
         },
         "layout": {
          "annotationdefaults": {
           "arrowcolor": "#2a3f5f",
           "arrowhead": 0,
           "arrowwidth": 1
          },
          "autotypenumbers": "strict",
          "coloraxis": {
           "colorbar": {
            "outlinewidth": 0,
            "ticks": ""
           }
          },
          "colorscale": {
           "diverging": [
            [
             0,
             "#8e0152"
            ],
            [
             0.1,
             "#c51b7d"
            ],
            [
             0.2,
             "#de77ae"
            ],
            [
             0.3,
             "#f1b6da"
            ],
            [
             0.4,
             "#fde0ef"
            ],
            [
             0.5,
             "#f7f7f7"
            ],
            [
             0.6,
             "#e6f5d0"
            ],
            [
             0.7,
             "#b8e186"
            ],
            [
             0.8,
             "#7fbc41"
            ],
            [
             0.9,
             "#4d9221"
            ],
            [
             1,
             "#276419"
            ]
           ],
           "sequential": [
            [
             0,
             "#0d0887"
            ],
            [
             0.1111111111111111,
             "#46039f"
            ],
            [
             0.2222222222222222,
             "#7201a8"
            ],
            [
             0.3333333333333333,
             "#9c179e"
            ],
            [
             0.4444444444444444,
             "#bd3786"
            ],
            [
             0.5555555555555556,
             "#d8576b"
            ],
            [
             0.6666666666666666,
             "#ed7953"
            ],
            [
             0.7777777777777778,
             "#fb9f3a"
            ],
            [
             0.8888888888888888,
             "#fdca26"
            ],
            [
             1,
             "#f0f921"
            ]
           ],
           "sequentialminus": [
            [
             0,
             "#0d0887"
            ],
            [
             0.1111111111111111,
             "#46039f"
            ],
            [
             0.2222222222222222,
             "#7201a8"
            ],
            [
             0.3333333333333333,
             "#9c179e"
            ],
            [
             0.4444444444444444,
             "#bd3786"
            ],
            [
             0.5555555555555556,
             "#d8576b"
            ],
            [
             0.6666666666666666,
             "#ed7953"
            ],
            [
             0.7777777777777778,
             "#fb9f3a"
            ],
            [
             0.8888888888888888,
             "#fdca26"
            ],
            [
             1,
             "#f0f921"
            ]
           ]
          },
          "colorway": [
           "#636efa",
           "#EF553B",
           "#00cc96",
           "#ab63fa",
           "#FFA15A",
           "#19d3f3",
           "#FF6692",
           "#B6E880",
           "#FF97FF",
           "#FECB52"
          ],
          "font": {
           "color": "#2a3f5f"
          },
          "geo": {
           "bgcolor": "white",
           "lakecolor": "white",
           "landcolor": "#E5ECF6",
           "showlakes": true,
           "showland": true,
           "subunitcolor": "white"
          },
          "hoverlabel": {
           "align": "left"
          },
          "hovermode": "closest",
          "mapbox": {
           "style": "light"
          },
          "paper_bgcolor": "white",
          "plot_bgcolor": "#E5ECF6",
          "polar": {
           "angularaxis": {
            "gridcolor": "white",
            "linecolor": "white",
            "ticks": ""
           },
           "bgcolor": "#E5ECF6",
           "radialaxis": {
            "gridcolor": "white",
            "linecolor": "white",
            "ticks": ""
           }
          },
          "scene": {
           "xaxis": {
            "backgroundcolor": "#E5ECF6",
            "gridcolor": "white",
            "gridwidth": 2,
            "linecolor": "white",
            "showbackground": true,
            "ticks": "",
            "zerolinecolor": "white"
           },
           "yaxis": {
            "backgroundcolor": "#E5ECF6",
            "gridcolor": "white",
            "gridwidth": 2,
            "linecolor": "white",
            "showbackground": true,
            "ticks": "",
            "zerolinecolor": "white"
           },
           "zaxis": {
            "backgroundcolor": "#E5ECF6",
            "gridcolor": "white",
            "gridwidth": 2,
            "linecolor": "white",
            "showbackground": true,
            "ticks": "",
            "zerolinecolor": "white"
           }
          },
          "shapedefaults": {
           "line": {
            "color": "#2a3f5f"
           }
          },
          "ternary": {
           "aaxis": {
            "gridcolor": "white",
            "linecolor": "white",
            "ticks": ""
           },
           "baxis": {
            "gridcolor": "white",
            "linecolor": "white",
            "ticks": ""
           },
           "bgcolor": "#E5ECF6",
           "caxis": {
            "gridcolor": "white",
            "linecolor": "white",
            "ticks": ""
           }
          },
          "title": {
           "x": 0.05
          },
          "xaxis": {
           "automargin": true,
           "gridcolor": "white",
           "linecolor": "white",
           "ticks": "",
           "title": {
            "standoff": 15
           },
           "zerolinecolor": "white",
           "zerolinewidth": 2
          },
          "yaxis": {
           "automargin": true,
           "gridcolor": "white",
           "linecolor": "white",
           "ticks": "",
           "title": {
            "standoff": 15
           },
           "zerolinecolor": "white",
           "zerolinewidth": 2
          }
         }
        },
        "title": {
         "font": {
          "size": 16
         },
         "text": "RNN für Schülerkonzentration über den Schultag",
         "x": 0.5,
         "y": 0.95
        },
        "width": 1200,
        "xaxis": {
         "range": [
          -1.5,
          13
         ],
         "showticklabels": false
        },
        "yaxis": {
         "range": [
          -1.5,
          7.25
         ],
         "showticklabels": false
        }
       }
      }
     },
     "metadata": {},
     "output_type": "display_data"
    }
   ],
   "source": [
    "import plotly.graph_objects as go\n",
    "import numpy as np\n",
    "\n",
    "# Konstanten\n",
    "NODE_SIZE = dict(\n",
    "    input=50,\n",
    "    hidden=70,\n",
    "    output=50\n",
    ")\n",
    "\n",
    "COLORS = dict(\n",
    "    input='rgba(173, 216, 230, 0.7)',      # hellblau\n",
    "    hidden='rgba(144, 238, 144, 0.7)',     # hellgrün\n",
    "    output='rgba(250, 128, 114, 0.7)',     # lachs\n",
    "    recurrent='rgba(218, 112, 214, 0.7)',  # orchidee\n",
    "    lines='rgba(128, 128, 128, 0.4)',      # grau\n",
    "    weights='rgba(255, 165, 0, 0.7)'       # orange für Gewichte\n",
    ")\n",
    "\n",
    "# Positionen für die Zeitschritte\n",
    "TIMESTEPS = 3\n",
    "X_SPACING = 4  # Erhöht für mehr Platz\n",
    "Y_SPACING = 2.5  # Erhöht für mehr Platz\n",
    "\n",
    "# Figure erstellen\n",
    "fig = go.Figure()\n",
    "\n",
    "# Funktion zum Hinzufügen von Nodes mit Werten\n",
    "def add_node(x, y, node_type, main_text, value_text=\"\", show_legend=True):\n",
    "    text = f\"{main_text}<br>{value_text}\" if value_text else main_text\n",
    "    return fig.add_trace(go.Scatter(\n",
    "        x=[x],\n",
    "        y=[y],\n",
    "        mode='markers+text',\n",
    "        marker=dict(\n",
    "            size=NODE_SIZE[node_type],\n",
    "            color=COLORS[node_type],\n",
    "            line=dict(color='rgba(70, 70, 70, 0.8)', width=1)\n",
    "        ),\n",
    "        text=text,\n",
    "        textposition='middle center',\n",
    "        name=node_type.capitalize() if show_legend else None,\n",
    "        showlegend=show_legend\n",
    "    ))\n",
    "\n",
    "# Funktion zum Hinzufügen von Verbindungen mit Gewichtstext\n",
    "def add_connection(x1, y1, x2, y2, weight_text=None, color=COLORS['lines'], width=2):\n",
    "    fig.add_trace(go.Scatter(\n",
    "        x=[x1, x2],\n",
    "        y=[y1, y2],\n",
    "        mode='lines',\n",
    "        line=dict(color=color, width=width),\n",
    "        showlegend=False\n",
    "    ))\n",
    "    \n",
    "    if weight_text:\n",
    "        x_mid = (x1 + x2) / 2\n",
    "        y_mid = (y1 + y2) / 2\n",
    "        \n",
    "        fig.add_trace(go.Scatter(\n",
    "            x=[x_mid],\n",
    "            y=[y_mid],\n",
    "            mode='markers+text',\n",
    "            marker=dict(\n",
    "                size=30,\n",
    "                color=COLORS['weights']\n",
    "            ),\n",
    "            text=weight_text,\n",
    "            textposition='middle center',\n",
    "            showlegend=False\n",
    "        ))\n",
    "\n",
    "# Input Werte für jede Stunde\n",
    "inputs = [\n",
    "    \"1. Stunde (Mathe)\\n[1, 8]\",\n",
    "    \"2. Stunde (Sport)\\n[2, 3]\",\n",
    "    \"3. Stunde (Physik)\\n[3, 7]\"\n",
    "]\n",
    "\n",
    "# Hidden States (Energielevel)\n",
    "hidden_states = [\n",
    "    \"Energielevel\\n0.9\",\n",
    "    \"Energielevel\\n0.7\",\n",
    "    \"Energielevel\\n0.4\"\n",
    "]\n",
    "\n",
    "# Outputs (Konzentration)\n",
    "outputs = [\n",
    "    \"Konzentration\\n90%\",\n",
    "    \"Konzentration\\n85%\",\n",
    "    \"Konzentration\\n60%\"\n",
    "]\n",
    "\n",
    "# Nodes für jeden Zeitschritt hinzufügen\n",
    "for t in range(TIMESTEPS):\n",
    "    # Input node\n",
    "    add_node(\n",
    "        x=t * X_SPACING,\n",
    "        y=0,\n",
    "        node_type='input',\n",
    "        main_text=inputs[t],\n",
    "        show_legend=(t == 0)\n",
    "    )\n",
    "    \n",
    "    # Hidden state node\n",
    "    add_node(\n",
    "        x=t * X_SPACING,\n",
    "        y=Y_SPACING,\n",
    "        node_type='hidden',\n",
    "        main_text=hidden_states[t],\n",
    "        show_legend=(t == 0)\n",
    "    )\n",
    "    \n",
    "    # Output node\n",
    "    add_node(\n",
    "        x=t * X_SPACING,\n",
    "        y=Y_SPACING * 2,\n",
    "        node_type='output',\n",
    "        main_text=outputs[t],\n",
    "        show_legend=(t == 0)\n",
    "    )\n",
    "    \n",
    "    # Verbindungen innerhalb eines Zeitschritts\n",
    "    add_connection(\n",
    "        t * X_SPACING,\n",
    "        0,\n",
    "        t * X_SPACING,\n",
    "        Y_SPACING,\n",
    "        weight_text='W_x'\n",
    "    )\n",
    "    \n",
    "    add_connection(\n",
    "        t * X_SPACING,\n",
    "        Y_SPACING,\n",
    "        t * X_SPACING,\n",
    "        Y_SPACING * 2,\n",
    "        weight_text='W_y'\n",
    "    )\n",
    "    \n",
    "    if t < TIMESTEPS - 1:\n",
    "        add_connection(\n",
    "            t * X_SPACING,\n",
    "            Y_SPACING,\n",
    "            (t + 1) * X_SPACING,\n",
    "            Y_SPACING,\n",
    "            weight_text='W_h',\n",
    "            color=COLORS['recurrent'],\n",
    "            width=3\n",
    "        )\n",
    "\n",
    "# Erklärungsbox\n",
    "fig.add_annotation(\n",
    "    x=-1,\n",
    "    y=-1,\n",
    "    text='Inputs pro Stunde: [Stunde, Schwierigkeit]<br>' + \n",
    "         'Hidden State: Energielevel (0-1)<br>' +\n",
    "         'Output: Konzentration (0-100%)<br>' +\n",
    "         'W_x: Einfluss der aktuellen Stunde<br>' +\n",
    "         'W_h: Übertragung der Müdigkeit<br>' +\n",
    "         'W_y: Umrechnung in Konzentration',\n",
    "    showarrow=False,\n",
    "    font=dict(size=12),\n",
    "    align='left',\n",
    "    bgcolor='rgba(255, 255, 255, 0.9)',\n",
    "    bordercolor='rgba(0, 0, 0, 0.3)',\n",
    "    borderwidth=1,\n",
    "    borderpad=10\n",
    ")\n",
    "\n",
    "# Layout\n",
    "fig.update_layout(\n",
    "    title=dict(\n",
    "        text='RNN für Schülerkonzentration über den Schultag',\n",
    "        x=0.5,\n",
    "        y=0.95,\n",
    "        font=dict(size=16)\n",
    "    ),\n",
    "    showlegend=True,\n",
    "    xaxis=dict(\n",
    "        showticklabels=False,\n",
    "        range=[-1.5, TIMESTEPS * X_SPACING + 1]\n",
    "    ),\n",
    "    yaxis=dict(\n",
    "        showticklabels=False,\n",
    "        range=[-1.5, Y_SPACING * 2.5 + 1]\n",
    "    ),\n",
    "    plot_bgcolor='white',\n",
    "    width=1200,  # Breiter für bessere Lesbarkeit\n",
    "    height=700,  # Höher für bessere Lesbarkeit\n",
    "    margin=dict(t=100, b=50)\n",
    ")\n",
    "\n",
    "fig.show()"
   ]
  },
  {
   "cell_type": "code",
   "execution_count": 3,
   "metadata": {},
   "outputs": [
    {
     "data": {
      "application/vnd.plotly.v1+json": {
       "config": {
        "plotlyServerURL": "https://plot.ly"
       },
       "data": [
        {
         "marker": {
          "color": "rgba(173, 216, 230, 0.7)",
          "line": {
           "color": "rgba(70, 70, 70, 0.8)",
           "width": 1
          },
          "size": 40
         },
         "mode": "markers+text",
         "name": "Input",
         "showlegend": true,
         "text": "x0",
         "textposition": "middle center",
         "type": "scatter",
         "x": [
          0
         ],
         "y": [
          0
         ]
        },
        {
         "marker": {
          "color": "rgba(144, 238, 144, 0.7)",
          "line": {
           "color": "rgba(70, 70, 70, 0.8)",
           "width": 1
          },
          "size": 60
         },
         "mode": "markers+text",
         "name": "Hidden",
         "showlegend": true,
         "text": "h0",
         "textposition": "middle center",
         "type": "scatter",
         "x": [
          0
         ],
         "y": [
          2
         ]
        },
        {
         "marker": {
          "color": "rgba(250, 128, 114, 0.7)",
          "line": {
           "color": "rgba(70, 70, 70, 0.8)",
           "width": 1
          },
          "size": 40
         },
         "mode": "markers+text",
         "name": "Output",
         "showlegend": true,
         "text": "y0",
         "textposition": "middle center",
         "type": "scatter",
         "x": [
          0
         ],
         "y": [
          4
         ]
        },
        {
         "line": {
          "color": "rgba(128, 128, 128, 0.4)",
          "width": 2
         },
         "mode": "lines",
         "showlegend": false,
         "type": "scatter",
         "x": [
          0,
          0
         ],
         "y": [
          0,
          2
         ]
        },
        {
         "marker": {
          "color": "rgba(255, 165, 0, 0.7)",
          "size": 30
         },
         "mode": "markers+text",
         "showlegend": false,
         "text": "W_x",
         "textposition": "middle center",
         "type": "scatter",
         "x": [
          0
         ],
         "y": [
          1
         ]
        },
        {
         "line": {
          "color": "rgba(128, 128, 128, 0.4)",
          "width": 2
         },
         "mode": "lines",
         "showlegend": false,
         "type": "scatter",
         "x": [
          0,
          0
         ],
         "y": [
          2,
          4
         ]
        },
        {
         "marker": {
          "color": "rgba(255, 165, 0, 0.7)",
          "size": 30
         },
         "mode": "markers+text",
         "showlegend": false,
         "text": "W_y",
         "textposition": "middle center",
         "type": "scatter",
         "x": [
          0
         ],
         "y": [
          3
         ]
        },
        {
         "line": {
          "color": "rgba(218, 112, 214, 0.7)",
          "width": 3
         },
         "mode": "lines",
         "showlegend": false,
         "type": "scatter",
         "x": [
          0,
          3
         ],
         "y": [
          2,
          2
         ]
        },
        {
         "marker": {
          "color": "rgba(255, 165, 0, 0.7)",
          "size": 30
         },
         "mode": "markers+text",
         "showlegend": false,
         "text": "W_h",
         "textposition": "middle center",
         "type": "scatter",
         "x": [
          1.5
         ],
         "y": [
          2
         ]
        },
        {
         "marker": {
          "color": "rgba(173, 216, 230, 0.7)",
          "line": {
           "color": "rgba(70, 70, 70, 0.8)",
           "width": 1
          },
          "size": 40
         },
         "mode": "markers+text",
         "showlegend": false,
         "text": "x1",
         "textposition": "middle center",
         "type": "scatter",
         "x": [
          3
         ],
         "y": [
          0
         ]
        },
        {
         "marker": {
          "color": "rgba(144, 238, 144, 0.7)",
          "line": {
           "color": "rgba(70, 70, 70, 0.8)",
           "width": 1
          },
          "size": 60
         },
         "mode": "markers+text",
         "showlegend": false,
         "text": "h1",
         "textposition": "middle center",
         "type": "scatter",
         "x": [
          3
         ],
         "y": [
          2
         ]
        },
        {
         "marker": {
          "color": "rgba(250, 128, 114, 0.7)",
          "line": {
           "color": "rgba(70, 70, 70, 0.8)",
           "width": 1
          },
          "size": 40
         },
         "mode": "markers+text",
         "showlegend": false,
         "text": "y1",
         "textposition": "middle center",
         "type": "scatter",
         "x": [
          3
         ],
         "y": [
          4
         ]
        },
        {
         "line": {
          "color": "rgba(128, 128, 128, 0.4)",
          "width": 2
         },
         "mode": "lines",
         "showlegend": false,
         "type": "scatter",
         "x": [
          3,
          3
         ],
         "y": [
          0,
          2
         ]
        },
        {
         "marker": {
          "color": "rgba(255, 165, 0, 0.7)",
          "size": 30
         },
         "mode": "markers+text",
         "showlegend": false,
         "text": "W_x",
         "textposition": "middle center",
         "type": "scatter",
         "x": [
          3
         ],
         "y": [
          1
         ]
        },
        {
         "line": {
          "color": "rgba(128, 128, 128, 0.4)",
          "width": 2
         },
         "mode": "lines",
         "showlegend": false,
         "type": "scatter",
         "x": [
          3,
          3
         ],
         "y": [
          2,
          4
         ]
        },
        {
         "marker": {
          "color": "rgba(255, 165, 0, 0.7)",
          "size": 30
         },
         "mode": "markers+text",
         "showlegend": false,
         "text": "W_y",
         "textposition": "middle center",
         "type": "scatter",
         "x": [
          3
         ],
         "y": [
          3
         ]
        },
        {
         "line": {
          "color": "rgba(218, 112, 214, 0.7)",
          "width": 3
         },
         "mode": "lines",
         "showlegend": false,
         "type": "scatter",
         "x": [
          3,
          6
         ],
         "y": [
          2,
          2
         ]
        },
        {
         "marker": {
          "color": "rgba(255, 165, 0, 0.7)",
          "size": 30
         },
         "mode": "markers+text",
         "showlegend": false,
         "text": "W_h",
         "textposition": "middle center",
         "type": "scatter",
         "x": [
          4.5
         ],
         "y": [
          2
         ]
        },
        {
         "marker": {
          "color": "rgba(173, 216, 230, 0.7)",
          "line": {
           "color": "rgba(70, 70, 70, 0.8)",
           "width": 1
          },
          "size": 40
         },
         "mode": "markers+text",
         "showlegend": false,
         "text": "x2",
         "textposition": "middle center",
         "type": "scatter",
         "x": [
          6
         ],
         "y": [
          0
         ]
        },
        {
         "marker": {
          "color": "rgba(144, 238, 144, 0.7)",
          "line": {
           "color": "rgba(70, 70, 70, 0.8)",
           "width": 1
          },
          "size": 60
         },
         "mode": "markers+text",
         "showlegend": false,
         "text": "h2",
         "textposition": "middle center",
         "type": "scatter",
         "x": [
          6
         ],
         "y": [
          2
         ]
        },
        {
         "marker": {
          "color": "rgba(250, 128, 114, 0.7)",
          "line": {
           "color": "rgba(70, 70, 70, 0.8)",
           "width": 1
          },
          "size": 40
         },
         "mode": "markers+text",
         "showlegend": false,
         "text": "y2",
         "textposition": "middle center",
         "type": "scatter",
         "x": [
          6
         ],
         "y": [
          4
         ]
        },
        {
         "line": {
          "color": "rgba(128, 128, 128, 0.4)",
          "width": 2
         },
         "mode": "lines",
         "showlegend": false,
         "type": "scatter",
         "x": [
          6,
          6
         ],
         "y": [
          0,
          2
         ]
        },
        {
         "marker": {
          "color": "rgba(255, 165, 0, 0.7)",
          "size": 30
         },
         "mode": "markers+text",
         "showlegend": false,
         "text": "W_x",
         "textposition": "middle center",
         "type": "scatter",
         "x": [
          6
         ],
         "y": [
          1
         ]
        },
        {
         "line": {
          "color": "rgba(128, 128, 128, 0.4)",
          "width": 2
         },
         "mode": "lines",
         "showlegend": false,
         "type": "scatter",
         "x": [
          6,
          6
         ],
         "y": [
          2,
          4
         ]
        },
        {
         "marker": {
          "color": "rgba(255, 165, 0, 0.7)",
          "size": 30
         },
         "mode": "markers+text",
         "showlegend": false,
         "text": "W_y",
         "textposition": "middle center",
         "type": "scatter",
         "x": [
          6
         ],
         "y": [
          3
         ]
        }
       ],
       "layout": {
        "annotations": [
         {
          "align": "left",
          "bgcolor": "rgba(255, 255, 255, 0.9)",
          "bordercolor": "rgba(0, 0, 0, 0.3)",
          "borderpad": 10,
          "borderwidth": 1,
          "font": {
           "size": 12
          },
          "showarrow": false,
          "text": "Gewichte:<br>W_x: Input → Hidden<br>W_h: Hidden → Hidden (rekurrent)<br>W_y: Hidden → Output<br>Alle Gewichte werden über Zeitschritte wiederverwendet!",
          "x": -1,
          "y": -1
         },
         {
          "bgcolor": "rgba(255, 255, 255, 0.9)",
          "bordercolor": "rgba(0, 0, 0, 0.3)",
          "borderpad": 10,
          "borderwidth": 1,
          "font": {
           "family": "Computer Modern",
           "size": 14
          },
          "showarrow": false,
          "text": "\nh_t = tanh(W_h · h_{t-1} + W_x · x_t + b_h)\ny_t = W_y · h_t + b_y\nGleiche W_x, W_h, W_y für alle Zeitschritte!\n",
          "x": 4.5,
          "y": 5
         }
        ],
        "height": 600,
        "margin": {
         "b": 50,
         "t": 100
        },
        "plot_bgcolor": "white",
        "showlegend": true,
        "template": {
         "data": {
          "bar": [
           {
            "error_x": {
             "color": "#2a3f5f"
            },
            "error_y": {
             "color": "#2a3f5f"
            },
            "marker": {
             "line": {
              "color": "#E5ECF6",
              "width": 0.5
             },
             "pattern": {
              "fillmode": "overlay",
              "size": 10,
              "solidity": 0.2
             }
            },
            "type": "bar"
           }
          ],
          "barpolar": [
           {
            "marker": {
             "line": {
              "color": "#E5ECF6",
              "width": 0.5
             },
             "pattern": {
              "fillmode": "overlay",
              "size": 10,
              "solidity": 0.2
             }
            },
            "type": "barpolar"
           }
          ],
          "carpet": [
           {
            "aaxis": {
             "endlinecolor": "#2a3f5f",
             "gridcolor": "white",
             "linecolor": "white",
             "minorgridcolor": "white",
             "startlinecolor": "#2a3f5f"
            },
            "baxis": {
             "endlinecolor": "#2a3f5f",
             "gridcolor": "white",
             "linecolor": "white",
             "minorgridcolor": "white",
             "startlinecolor": "#2a3f5f"
            },
            "type": "carpet"
           }
          ],
          "choropleth": [
           {
            "colorbar": {
             "outlinewidth": 0,
             "ticks": ""
            },
            "type": "choropleth"
           }
          ],
          "contour": [
           {
            "colorbar": {
             "outlinewidth": 0,
             "ticks": ""
            },
            "colorscale": [
             [
              0,
              "#0d0887"
             ],
             [
              0.1111111111111111,
              "#46039f"
             ],
             [
              0.2222222222222222,
              "#7201a8"
             ],
             [
              0.3333333333333333,
              "#9c179e"
             ],
             [
              0.4444444444444444,
              "#bd3786"
             ],
             [
              0.5555555555555556,
              "#d8576b"
             ],
             [
              0.6666666666666666,
              "#ed7953"
             ],
             [
              0.7777777777777778,
              "#fb9f3a"
             ],
             [
              0.8888888888888888,
              "#fdca26"
             ],
             [
              1,
              "#f0f921"
             ]
            ],
            "type": "contour"
           }
          ],
          "contourcarpet": [
           {
            "colorbar": {
             "outlinewidth": 0,
             "ticks": ""
            },
            "type": "contourcarpet"
           }
          ],
          "heatmap": [
           {
            "colorbar": {
             "outlinewidth": 0,
             "ticks": ""
            },
            "colorscale": [
             [
              0,
              "#0d0887"
             ],
             [
              0.1111111111111111,
              "#46039f"
             ],
             [
              0.2222222222222222,
              "#7201a8"
             ],
             [
              0.3333333333333333,
              "#9c179e"
             ],
             [
              0.4444444444444444,
              "#bd3786"
             ],
             [
              0.5555555555555556,
              "#d8576b"
             ],
             [
              0.6666666666666666,
              "#ed7953"
             ],
             [
              0.7777777777777778,
              "#fb9f3a"
             ],
             [
              0.8888888888888888,
              "#fdca26"
             ],
             [
              1,
              "#f0f921"
             ]
            ],
            "type": "heatmap"
           }
          ],
          "heatmapgl": [
           {
            "colorbar": {
             "outlinewidth": 0,
             "ticks": ""
            },
            "colorscale": [
             [
              0,
              "#0d0887"
             ],
             [
              0.1111111111111111,
              "#46039f"
             ],
             [
              0.2222222222222222,
              "#7201a8"
             ],
             [
              0.3333333333333333,
              "#9c179e"
             ],
             [
              0.4444444444444444,
              "#bd3786"
             ],
             [
              0.5555555555555556,
              "#d8576b"
             ],
             [
              0.6666666666666666,
              "#ed7953"
             ],
             [
              0.7777777777777778,
              "#fb9f3a"
             ],
             [
              0.8888888888888888,
              "#fdca26"
             ],
             [
              1,
              "#f0f921"
             ]
            ],
            "type": "heatmapgl"
           }
          ],
          "histogram": [
           {
            "marker": {
             "pattern": {
              "fillmode": "overlay",
              "size": 10,
              "solidity": 0.2
             }
            },
            "type": "histogram"
           }
          ],
          "histogram2d": [
           {
            "colorbar": {
             "outlinewidth": 0,
             "ticks": ""
            },
            "colorscale": [
             [
              0,
              "#0d0887"
             ],
             [
              0.1111111111111111,
              "#46039f"
             ],
             [
              0.2222222222222222,
              "#7201a8"
             ],
             [
              0.3333333333333333,
              "#9c179e"
             ],
             [
              0.4444444444444444,
              "#bd3786"
             ],
             [
              0.5555555555555556,
              "#d8576b"
             ],
             [
              0.6666666666666666,
              "#ed7953"
             ],
             [
              0.7777777777777778,
              "#fb9f3a"
             ],
             [
              0.8888888888888888,
              "#fdca26"
             ],
             [
              1,
              "#f0f921"
             ]
            ],
            "type": "histogram2d"
           }
          ],
          "histogram2dcontour": [
           {
            "colorbar": {
             "outlinewidth": 0,
             "ticks": ""
            },
            "colorscale": [
             [
              0,
              "#0d0887"
             ],
             [
              0.1111111111111111,
              "#46039f"
             ],
             [
              0.2222222222222222,
              "#7201a8"
             ],
             [
              0.3333333333333333,
              "#9c179e"
             ],
             [
              0.4444444444444444,
              "#bd3786"
             ],
             [
              0.5555555555555556,
              "#d8576b"
             ],
             [
              0.6666666666666666,
              "#ed7953"
             ],
             [
              0.7777777777777778,
              "#fb9f3a"
             ],
             [
              0.8888888888888888,
              "#fdca26"
             ],
             [
              1,
              "#f0f921"
             ]
            ],
            "type": "histogram2dcontour"
           }
          ],
          "mesh3d": [
           {
            "colorbar": {
             "outlinewidth": 0,
             "ticks": ""
            },
            "type": "mesh3d"
           }
          ],
          "parcoords": [
           {
            "line": {
             "colorbar": {
              "outlinewidth": 0,
              "ticks": ""
             }
            },
            "type": "parcoords"
           }
          ],
          "pie": [
           {
            "automargin": true,
            "type": "pie"
           }
          ],
          "scatter": [
           {
            "fillpattern": {
             "fillmode": "overlay",
             "size": 10,
             "solidity": 0.2
            },
            "type": "scatter"
           }
          ],
          "scatter3d": [
           {
            "line": {
             "colorbar": {
              "outlinewidth": 0,
              "ticks": ""
             }
            },
            "marker": {
             "colorbar": {
              "outlinewidth": 0,
              "ticks": ""
             }
            },
            "type": "scatter3d"
           }
          ],
          "scattercarpet": [
           {
            "marker": {
             "colorbar": {
              "outlinewidth": 0,
              "ticks": ""
             }
            },
            "type": "scattercarpet"
           }
          ],
          "scattergeo": [
           {
            "marker": {
             "colorbar": {
              "outlinewidth": 0,
              "ticks": ""
             }
            },
            "type": "scattergeo"
           }
          ],
          "scattergl": [
           {
            "marker": {
             "colorbar": {
              "outlinewidth": 0,
              "ticks": ""
             }
            },
            "type": "scattergl"
           }
          ],
          "scattermapbox": [
           {
            "marker": {
             "colorbar": {
              "outlinewidth": 0,
              "ticks": ""
             }
            },
            "type": "scattermapbox"
           }
          ],
          "scatterpolar": [
           {
            "marker": {
             "colorbar": {
              "outlinewidth": 0,
              "ticks": ""
             }
            },
            "type": "scatterpolar"
           }
          ],
          "scatterpolargl": [
           {
            "marker": {
             "colorbar": {
              "outlinewidth": 0,
              "ticks": ""
             }
            },
            "type": "scatterpolargl"
           }
          ],
          "scatterternary": [
           {
            "marker": {
             "colorbar": {
              "outlinewidth": 0,
              "ticks": ""
             }
            },
            "type": "scatterternary"
           }
          ],
          "surface": [
           {
            "colorbar": {
             "outlinewidth": 0,
             "ticks": ""
            },
            "colorscale": [
             [
              0,
              "#0d0887"
             ],
             [
              0.1111111111111111,
              "#46039f"
             ],
             [
              0.2222222222222222,
              "#7201a8"
             ],
             [
              0.3333333333333333,
              "#9c179e"
             ],
             [
              0.4444444444444444,
              "#bd3786"
             ],
             [
              0.5555555555555556,
              "#d8576b"
             ],
             [
              0.6666666666666666,
              "#ed7953"
             ],
             [
              0.7777777777777778,
              "#fb9f3a"
             ],
             [
              0.8888888888888888,
              "#fdca26"
             ],
             [
              1,
              "#f0f921"
             ]
            ],
            "type": "surface"
           }
          ],
          "table": [
           {
            "cells": {
             "fill": {
              "color": "#EBF0F8"
             },
             "line": {
              "color": "white"
             }
            },
            "header": {
             "fill": {
              "color": "#C8D4E3"
             },
             "line": {
              "color": "white"
             }
            },
            "type": "table"
           }
          ]
         },
         "layout": {
          "annotationdefaults": {
           "arrowcolor": "#2a3f5f",
           "arrowhead": 0,
           "arrowwidth": 1
          },
          "autotypenumbers": "strict",
          "coloraxis": {
           "colorbar": {
            "outlinewidth": 0,
            "ticks": ""
           }
          },
          "colorscale": {
           "diverging": [
            [
             0,
             "#8e0152"
            ],
            [
             0.1,
             "#c51b7d"
            ],
            [
             0.2,
             "#de77ae"
            ],
            [
             0.3,
             "#f1b6da"
            ],
            [
             0.4,
             "#fde0ef"
            ],
            [
             0.5,
             "#f7f7f7"
            ],
            [
             0.6,
             "#e6f5d0"
            ],
            [
             0.7,
             "#b8e186"
            ],
            [
             0.8,
             "#7fbc41"
            ],
            [
             0.9,
             "#4d9221"
            ],
            [
             1,
             "#276419"
            ]
           ],
           "sequential": [
            [
             0,
             "#0d0887"
            ],
            [
             0.1111111111111111,
             "#46039f"
            ],
            [
             0.2222222222222222,
             "#7201a8"
            ],
            [
             0.3333333333333333,
             "#9c179e"
            ],
            [
             0.4444444444444444,
             "#bd3786"
            ],
            [
             0.5555555555555556,
             "#d8576b"
            ],
            [
             0.6666666666666666,
             "#ed7953"
            ],
            [
             0.7777777777777778,
             "#fb9f3a"
            ],
            [
             0.8888888888888888,
             "#fdca26"
            ],
            [
             1,
             "#f0f921"
            ]
           ],
           "sequentialminus": [
            [
             0,
             "#0d0887"
            ],
            [
             0.1111111111111111,
             "#46039f"
            ],
            [
             0.2222222222222222,
             "#7201a8"
            ],
            [
             0.3333333333333333,
             "#9c179e"
            ],
            [
             0.4444444444444444,
             "#bd3786"
            ],
            [
             0.5555555555555556,
             "#d8576b"
            ],
            [
             0.6666666666666666,
             "#ed7953"
            ],
            [
             0.7777777777777778,
             "#fb9f3a"
            ],
            [
             0.8888888888888888,
             "#fdca26"
            ],
            [
             1,
             "#f0f921"
            ]
           ]
          },
          "colorway": [
           "#636efa",
           "#EF553B",
           "#00cc96",
           "#ab63fa",
           "#FFA15A",
           "#19d3f3",
           "#FF6692",
           "#B6E880",
           "#FF97FF",
           "#FECB52"
          ],
          "font": {
           "color": "#2a3f5f"
          },
          "geo": {
           "bgcolor": "white",
           "lakecolor": "white",
           "landcolor": "#E5ECF6",
           "showlakes": true,
           "showland": true,
           "subunitcolor": "white"
          },
          "hoverlabel": {
           "align": "left"
          },
          "hovermode": "closest",
          "mapbox": {
           "style": "light"
          },
          "paper_bgcolor": "white",
          "plot_bgcolor": "#E5ECF6",
          "polar": {
           "angularaxis": {
            "gridcolor": "white",
            "linecolor": "white",
            "ticks": ""
           },
           "bgcolor": "#E5ECF6",
           "radialaxis": {
            "gridcolor": "white",
            "linecolor": "white",
            "ticks": ""
           }
          },
          "scene": {
           "xaxis": {
            "backgroundcolor": "#E5ECF6",
            "gridcolor": "white",
            "gridwidth": 2,
            "linecolor": "white",
            "showbackground": true,
            "ticks": "",
            "zerolinecolor": "white"
           },
           "yaxis": {
            "backgroundcolor": "#E5ECF6",
            "gridcolor": "white",
            "gridwidth": 2,
            "linecolor": "white",
            "showbackground": true,
            "ticks": "",
            "zerolinecolor": "white"
           },
           "zaxis": {
            "backgroundcolor": "#E5ECF6",
            "gridcolor": "white",
            "gridwidth": 2,
            "linecolor": "white",
            "showbackground": true,
            "ticks": "",
            "zerolinecolor": "white"
           }
          },
          "shapedefaults": {
           "line": {
            "color": "#2a3f5f"
           }
          },
          "ternary": {
           "aaxis": {
            "gridcolor": "white",
            "linecolor": "white",
            "ticks": ""
           },
           "baxis": {
            "gridcolor": "white",
            "linecolor": "white",
            "ticks": ""
           },
           "bgcolor": "#E5ECF6",
           "caxis": {
            "gridcolor": "white",
            "linecolor": "white",
            "ticks": ""
           }
          },
          "title": {
           "x": 0.05
          },
          "xaxis": {
           "automargin": true,
           "gridcolor": "white",
           "linecolor": "white",
           "ticks": "",
           "title": {
            "standoff": 15
           },
           "zerolinecolor": "white",
           "zerolinewidth": 2
          },
          "yaxis": {
           "automargin": true,
           "gridcolor": "white",
           "linecolor": "white",
           "ticks": "",
           "title": {
            "standoff": 15
           },
           "zerolinecolor": "white",
           "zerolinewidth": 2
          }
         }
        },
        "title": {
         "font": {
          "size": 16
         },
         "text": "Rekurrentes Neuronales Netz (RNN) mit wiederverwendeten Gewichten",
         "x": 0.5,
         "y": 0.95
        },
        "width": 1000,
        "xaxis": {
         "range": [
          -1.5,
          10
         ],
         "showticklabels": false
        },
        "yaxis": {
         "range": [
          -1.5,
          6
         ],
         "showticklabels": false
        }
       }
      }
     },
     "metadata": {},
     "output_type": "display_data"
    }
   ],
   "source": [
    "import plotly.graph_objects as go\n",
    "import numpy as np\n",
    "\n",
    "# Konstanten\n",
    "NODE_SIZE = dict(\n",
    "    input=40,\n",
    "    hidden=60,\n",
    "    output=40\n",
    ")\n",
    "\n",
    "COLORS = dict(\n",
    "    input='rgba(173, 216, 230, 0.7)',      # hellblau\n",
    "    hidden='rgba(144, 238, 144, 0.7)',     # hellgrün\n",
    "    output='rgba(250, 128, 114, 0.7)',     # lachs\n",
    "    recurrent='rgba(218, 112, 214, 0.7)',  # orchidee\n",
    "    lines='rgba(128, 128, 128, 0.4)',      # grau\n",
    "    weights='rgba(255, 165, 0, 0.7)'       # orange für Gewichte\n",
    ")\n",
    "\n",
    "# Positionen für die Zeitschritte\n",
    "TIMESTEPS = 3\n",
    "X_SPACING = 3\n",
    "Y_SPACING = 2\n",
    "\n",
    "# Figure erstellen\n",
    "fig = go.Figure()\n",
    "\n",
    "# Funktion zum Hinzufügen von Nodes\n",
    "def add_node(x, y, node_type, text, show_legend=True):\n",
    "    return fig.add_trace(go.Scatter(\n",
    "        x=[x],\n",
    "        y=[y],\n",
    "        mode='markers+text',\n",
    "        marker=dict(\n",
    "            size=NODE_SIZE[node_type],\n",
    "            color=COLORS[node_type],\n",
    "            line=dict(color='rgba(70, 70, 70, 0.8)', width=1)\n",
    "        ),\n",
    "        text=text,\n",
    "        textposition='middle center',\n",
    "        name=node_type.capitalize() if show_legend else None,\n",
    "        showlegend=show_legend\n",
    "    ))\n",
    "\n",
    "# Funktion zum Hinzufügen von Verbindungen mit Gewichtstext\n",
    "def add_connection(x1, y1, x2, y2, weight_text=None, color=COLORS['lines'], width=2):\n",
    "    # Verbindungslinie\n",
    "    fig.add_trace(go.Scatter(\n",
    "        x=[x1, x2],\n",
    "        y=[y1, y2],\n",
    "        mode='lines',\n",
    "        line=dict(color=color, width=width),\n",
    "        showlegend=False\n",
    "    ))\n",
    "    \n",
    "    # Gewichtstext, wenn angegeben\n",
    "    if weight_text:\n",
    "        # Berechne Mittelpunkt\n",
    "        x_mid = (x1 + x2) / 2\n",
    "        y_mid = (y1 + y2) / 2\n",
    "        \n",
    "        # Füge Gewichtstext hinzu\n",
    "        fig.add_trace(go.Scatter(\n",
    "            x=[x_mid],\n",
    "            y=[y_mid],\n",
    "            mode='markers+text',\n",
    "            marker=dict(\n",
    "                size=30,\n",
    "                color=COLORS['weights']\n",
    "            ),\n",
    "            text=weight_text,\n",
    "            textposition='middle center',\n",
    "            showlegend=False\n",
    "        ))\n",
    "\n",
    "# Nodes für jeden Zeitschritt hinzufügen\n",
    "for t in range(TIMESTEPS):\n",
    "    # Input node\n",
    "    add_node(\n",
    "        x=t * X_SPACING,\n",
    "        y=0,\n",
    "        node_type='input',\n",
    "        text=f'x{t}',\n",
    "        show_legend=(t == 0)\n",
    "    )\n",
    "    \n",
    "    # Hidden state node\n",
    "    add_node(\n",
    "        x=t * X_SPACING,\n",
    "        y=Y_SPACING,\n",
    "        node_type='hidden',\n",
    "        text=f'h{t}',\n",
    "        show_legend=(t == 0)\n",
    "    )\n",
    "    \n",
    "    # Output node\n",
    "    add_node(\n",
    "        x=t * X_SPACING,\n",
    "        y=Y_SPACING * 2,\n",
    "        node_type='output',\n",
    "        text=f'y{t}',\n",
    "        show_legend=(t == 0)\n",
    "    )\n",
    "    \n",
    "    # Verbindungen innerhalb eines Zeitschritts\n",
    "    # Input zu Hidden (immer mit W_x)\n",
    "    add_connection(\n",
    "        t * X_SPACING,\n",
    "        0,\n",
    "        t * X_SPACING,\n",
    "        Y_SPACING,\n",
    "        weight_text='W_x'\n",
    "    )\n",
    "    \n",
    "    # Hidden zu Output (immer mit W_y)\n",
    "    add_connection(\n",
    "        t * X_SPACING,\n",
    "        Y_SPACING,\n",
    "        t * X_SPACING,\n",
    "        Y_SPACING * 2,\n",
    "        weight_text='W_y'\n",
    "    )\n",
    "    \n",
    "    # Rekurrente Verbindung zum nächsten Zeitschritt (immer mit W_h)\n",
    "    if t < TIMESTEPS - 1:\n",
    "        add_connection(\n",
    "            t * X_SPACING,\n",
    "            Y_SPACING,\n",
    "            (t + 1) * X_SPACING,\n",
    "            Y_SPACING,\n",
    "            weight_text='W_h',\n",
    "            color=COLORS['recurrent'],\n",
    "            width=3\n",
    "        )\n",
    "\n",
    "# Legende für die Gewichte\n",
    "fig.add_annotation(\n",
    "    x=-1,\n",
    "    y=-1,\n",
    "    text='Gewichte:<br>W_x: Input → Hidden<br>W_h: Hidden → Hidden (rekurrent)<br>W_y: Hidden → Output<br>Alle Gewichte werden über Zeitschritte wiederverwendet!',\n",
    "    showarrow=False,\n",
    "    font=dict(size=12),\n",
    "    align='left',\n",
    "    bgcolor='rgba(255, 255, 255, 0.9)',\n",
    "    bordercolor='rgba(0, 0, 0, 0.3)',\n",
    "    borderwidth=1,\n",
    "    borderpad=10\n",
    ")\n",
    "\n",
    "# Formelbox\n",
    "formula = \"\"\"\n",
    "h_t = tanh(W_h · h_{t-1} + W_x · x_t + b_h)\n",
    "y_t = W_y · h_t + b_y\n",
    "Gleiche W_x, W_h, W_y für alle Zeitschritte!\n",
    "\"\"\"\n",
    "\n",
    "fig.add_annotation(\n",
    "    x=TIMESTEPS * X_SPACING / 2,\n",
    "    y=Y_SPACING * 2.5,\n",
    "    text=formula,\n",
    "    showarrow=False,\n",
    "    font=dict(size=14, family='Computer Modern'),\n",
    "    bgcolor='rgba(255, 255, 255, 0.9)',\n",
    "    bordercolor='rgba(0, 0, 0, 0.3)',\n",
    "    borderwidth=1,\n",
    "    borderpad=10\n",
    ")\n",
    "\n",
    "# Layout\n",
    "fig.update_layout(\n",
    "    title=dict(\n",
    "        text='Rekurrentes Neuronales Netz (RNN) mit wiederverwendeten Gewichten',\n",
    "        x=0.5,\n",
    "        y=0.95,\n",
    "        font=dict(size=16)\n",
    "    ),\n",
    "    showlegend=True,\n",
    "    xaxis=dict(\n",
    "        showticklabels=False,\n",
    "        range=[-1.5, TIMESTEPS * X_SPACING + 1]\n",
    "    ),\n",
    "    yaxis=dict(\n",
    "        showticklabels=False,\n",
    "        range=[-1.5, Y_SPACING * 2.5 + 1]\n",
    "    ),\n",
    "    plot_bgcolor='white',\n",
    "    width=1000,\n",
    "    height=600,\n",
    "    margin=dict(t=100, b=50)\n",
    ")\n",
    "\n",
    "fig.show()"
   ]
  },
  {
   "cell_type": "markdown",
   "metadata": {},
   "source": [
    "### GRU"
   ]
  },
  {
   "cell_type": "markdown",
   "metadata": {},
   "source": [
    "### LSTM"
   ]
  },
  {
   "cell_type": "code",
   "execution_count": null,
   "metadata": {},
   "outputs": [],
   "source": []
  }
 ],
 "metadata": {
  "kernelspec": {
   "display_name": "Python 3.11.11 ('.venv': poetry)",
   "language": "python",
   "name": "python3"
  },
  "language_info": {
   "codemirror_mode": {
    "name": "ipython",
    "version": 3
   },
   "file_extension": ".py",
   "mimetype": "text/x-python",
   "name": "python",
   "nbconvert_exporter": "python",
   "pygments_lexer": "ipython3",
   "version": "3.11.11"
  },
  "orig_nbformat": 4,
  "vscode": {
   "interpreter": {
    "hash": "f973b0ffb44068ecb75bc3606146369d13b3128baa0e1f3ad738d41efffeefb5"
   }
  }
 },
 "nbformat": 4,
 "nbformat_minor": 2
}
