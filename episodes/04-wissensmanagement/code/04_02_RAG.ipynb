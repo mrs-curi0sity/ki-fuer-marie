{
 "cells": [
  {
   "cell_type": "markdown",
   "id": "febd4015",
   "metadata": {},
   "source": [
    "# RAG Concepts"
   ]
  },
  {
   "cell_type": "markdown",
   "id": "976ee716",
   "metadata": {},
   "source": [
    "# Embeddings"
   ]
  },
  {
   "cell_type": "markdown",
   "id": "74f20d88",
   "metadata": {},
   "source": []
  }
 ],
 "metadata": {
  "language_info": {
   "name": "python"
  }
 },
 "nbformat": 4,
 "nbformat_minor": 5
}
